{
 "cells": [
  {
   "cell_type": "markdown",
   "metadata": {},
   "source": [
    "# List"
   ]
  },
  {
   "cell_type": "code",
   "execution_count": 4,
   "metadata": {
    "execution": {
     "iopub.execute_input": "2021-01-11T15:24:04.001569Z",
     "iopub.status.busy": "2021-01-11T15:24:04.001338Z",
     "iopub.status.idle": "2021-01-11T15:24:04.005319Z",
     "shell.execute_reply": "2021-01-11T15:24:04.004778Z",
     "shell.execute_reply.started": "2021-01-11T15:24:04.001547Z"
    }
   },
   "outputs": [
    {
     "name": "stdout",
     "output_type": "stream",
     "text": [
      "[]\n",
      "[1, 2]\n",
      "[1, 2, 'hello']\n"
     ]
    }
   ],
   "source": [
    "mylist = []\n",
    "mylist2 = [1, 2]\n",
    "mylist3 = [1, 2, 'hello']\n",
    "print(mylist)\n",
    "print(mylist2)\n",
    "print(mylist3)"
   ]
  },
  {
   "cell_type": "code",
   "execution_count": 5,
   "metadata": {
    "execution": {
     "iopub.execute_input": "2021-01-11T15:24:43.844524Z",
     "iopub.status.busy": "2021-01-11T15:24:43.844305Z",
     "iopub.status.idle": "2021-01-11T15:24:43.848056Z",
     "shell.execute_reply": "2021-01-11T15:24:43.847351Z",
     "shell.execute_reply.started": "2021-01-11T15:24:43.844503Z"
    }
   },
   "outputs": [
    {
     "name": "stdout",
     "output_type": "stream",
     "text": [
      "[['hello', 'world'], [1, 2, 3]]\n"
     ]
    }
   ],
   "source": [
    "mylist4 = [['hello', 'world'],[1, 2, 3]]\n",
    "print(mylist4)"
   ]
  },
  {
   "cell_type": "code",
   "execution_count": 7,
   "metadata": {
    "execution": {
     "iopub.execute_input": "2021-01-11T15:25:40.809704Z",
     "iopub.status.busy": "2021-01-11T15:25:40.809484Z",
     "iopub.status.idle": "2021-01-11T15:25:40.813186Z",
     "shell.execute_reply": "2021-01-11T15:25:40.812587Z",
     "shell.execute_reply.started": "2021-01-11T15:25:40.809683Z"
    }
   },
   "outputs": [
    {
     "name": "stdout",
     "output_type": "stream",
     "text": [
      "java\n",
      "c++\n"
     ]
    }
   ],
   "source": [
    "Languages = ['java', 'python', 'c', 'c++']\n",
    "print(Languages[0])\n",
    "print(Languages[-1])"
   ]
  },
  {
   "cell_type": "code",
   "execution_count": 8,
   "metadata": {
    "execution": {
     "iopub.execute_input": "2021-01-11T15:26:30.639734Z",
     "iopub.status.busy": "2021-01-11T15:26:30.639515Z",
     "iopub.status.idle": "2021-01-11T15:26:30.643671Z",
     "shell.execute_reply": "2021-01-11T15:26:30.642951Z",
     "shell.execute_reply.started": "2021-01-11T15:26:30.639714Z"
    }
   },
   "outputs": [
    {
     "name": "stdout",
     "output_type": "stream",
     "text": [
      "[1, 4, 6, 8]\n",
      "[1, 3, 5, 7]\n"
     ]
    }
   ],
   "source": [
    "odd = [2, 4, 6, 8]\n",
    "odd[0] = 1\n",
    "print(odd)\n",
    "odd[1:4] = [3, 5, 7]\n",
    "print(odd)"
   ]
  },
  {
   "cell_type": "code",
   "execution_count": 10,
   "metadata": {
    "execution": {
     "iopub.execute_input": "2021-01-11T15:27:27.652269Z",
     "iopub.status.busy": "2021-01-11T15:27:27.652048Z",
     "iopub.status.idle": "2021-01-11T15:27:27.656086Z",
     "shell.execute_reply": "2021-01-11T15:27:27.655402Z",
     "shell.execute_reply.started": "2021-01-11T15:27:27.652249Z"
    }
   },
   "outputs": [
    {
     "name": "stdout",
     "output_type": "stream",
     "text": [
      "[1, 3, 5, 7]\n",
      "[1, 3, 5, 7, 9, 11, 13]\n"
     ]
    }
   ],
   "source": [
    "odd = [1, 3, 5]\n",
    "odd.append(7)\n",
    "print(odd)\n",
    "odd.extend([9, 11, 13])\n",
    "print(odd)"
   ]
  },
  {
   "cell_type": "code",
   "execution_count": 11,
   "metadata": {
    "execution": {
     "iopub.execute_input": "2021-01-11T15:28:17.204712Z",
     "iopub.status.busy": "2021-01-11T15:28:17.204490Z",
     "iopub.status.idle": "2021-01-11T15:28:17.208379Z",
     "shell.execute_reply": "2021-01-11T15:28:17.207707Z",
     "shell.execute_reply.started": "2021-01-11T15:28:17.204692Z"
    }
   },
   "outputs": [
    {
     "name": "stdout",
     "output_type": "stream",
     "text": [
      "[1, 3, 5, 9, 7, 5]\n",
      "['Yes', 'Yes', 'Yes']\n"
     ]
    }
   ],
   "source": [
    "odd = [1, 3, 5]\n",
    "print(odd + [9, 7, 5])\n",
    "\n",
    "print(['Yes'] * 3)"
   ]
  },
  {
   "cell_type": "code",
   "execution_count": 12,
   "metadata": {
    "execution": {
     "iopub.execute_input": "2021-01-11T15:29:11.930805Z",
     "iopub.status.busy": "2021-01-11T15:29:11.930562Z",
     "iopub.status.idle": "2021-01-11T15:29:11.934950Z",
     "shell.execute_reply": "2021-01-11T15:29:11.934256Z",
     "shell.execute_reply.started": "2021-01-11T15:29:11.930782Z"
    }
   },
   "outputs": [
    {
     "name": "stdout",
     "output_type": "stream",
     "text": [
      "[1, 3, 9]\n",
      "[1, 3, 5, 7, 9]\n"
     ]
    }
   ],
   "source": [
    "odd = [1, 9]\n",
    "odd.insert(1, 3)\n",
    "print(odd)\n",
    "odd[2:2] = [5, 7]\n",
    "print(odd)"
   ]
  },
  {
   "cell_type": "code",
   "execution_count": 13,
   "metadata": {
    "execution": {
     "iopub.execute_input": "2021-01-11T15:32:45.425821Z",
     "iopub.status.busy": "2021-01-11T15:32:45.425600Z",
     "iopub.status.idle": "2021-01-11T15:32:45.429916Z",
     "shell.execute_reply": "2021-01-11T15:32:45.429262Z",
     "shell.execute_reply.started": "2021-01-11T15:32:45.425802Z"
    }
   },
   "outputs": [
    {
     "name": "stdout",
     "output_type": "stream",
     "text": [
      "[1, 2, 4, 'hello', 6.5, 6.78]\n",
      "[1, 6.78]\n"
     ]
    }
   ],
   "source": [
    "my_list = [1, 2, 3, 4, 'hello', 6.5, 6.78]\n",
    "del my_list[2]\n",
    "print(my_list)\n",
    "del my_list[1:5]\n",
    "print(my_list)"
   ]
  },
  {
   "cell_type": "code",
   "execution_count": 14,
   "metadata": {
    "execution": {
     "iopub.execute_input": "2021-01-11T15:33:24.185429Z",
     "iopub.status.busy": "2021-01-11T15:33:24.185209Z",
     "iopub.status.idle": "2021-01-11T15:33:24.188846Z",
     "shell.execute_reply": "2021-01-11T15:33:24.188239Z",
     "shell.execute_reply.started": "2021-01-11T15:33:24.185408Z"
    }
   },
   "outputs": [
    {
     "name": "stdout",
     "output_type": "stream",
     "text": [
      "4\n"
     ]
    }
   ],
   "source": [
    "Languages = ['java', 'python', 'c', 'c++']\n",
    "print(len(Languages))"
   ]
  },
  {
   "cell_type": "code",
   "execution_count": 15,
   "metadata": {
    "execution": {
     "iopub.execute_input": "2021-01-11T15:35:15.891792Z",
     "iopub.status.busy": "2021-01-11T15:35:15.891570Z",
     "iopub.status.idle": "2021-01-11T15:35:15.895343Z",
     "shell.execute_reply": "2021-01-11T15:35:15.894623Z",
     "shell.execute_reply.started": "2021-01-11T15:35:15.891771Z"
    }
   },
   "outputs": [
    {
     "name": "stdout",
     "output_type": "stream",
     "text": [
      "['java', 'python', 'c']\n"
     ]
    }
   ],
   "source": [
    "Languages = ['java', 'python', 'c', 'c++', 'ruby']\n",
    "print(Languages[:3])\n"
   ]
  },
  {
   "cell_type": "code",
   "execution_count": 16,
   "metadata": {
    "execution": {
     "iopub.execute_input": "2021-01-11T15:35:40.243264Z",
     "iopub.status.busy": "2021-01-11T15:35:40.243035Z",
     "iopub.status.idle": "2021-01-11T15:35:40.246574Z",
     "shell.execute_reply": "2021-01-11T15:35:40.245854Z",
     "shell.execute_reply.started": "2021-01-11T15:35:40.243243Z"
    }
   },
   "outputs": [
    {
     "name": "stdout",
     "output_type": "stream",
     "text": [
      "['c++', 'ruby']\n"
     ]
    }
   ],
   "source": [
    "print(Languages[3:])"
   ]
  },
  {
   "cell_type": "code",
   "execution_count": 17,
   "metadata": {
    "execution": {
     "iopub.execute_input": "2021-01-11T15:35:54.864670Z",
     "iopub.status.busy": "2021-01-11T15:35:54.864446Z",
     "iopub.status.idle": "2021-01-11T15:35:54.867863Z",
     "shell.execute_reply": "2021-01-11T15:35:54.867159Z",
     "shell.execute_reply.started": "2021-01-11T15:35:54.864649Z"
    }
   },
   "outputs": [
    {
     "name": "stdout",
     "output_type": "stream",
     "text": [
      "['java', 'python', 'c', 'c++', 'ruby']\n"
     ]
    }
   ],
   "source": [
    "print(Languages[:])"
   ]
  },
  {
   "cell_type": "code",
   "execution_count": 18,
   "metadata": {
    "execution": {
     "iopub.execute_input": "2021-01-11T15:36:11.573293Z",
     "iopub.status.busy": "2021-01-11T15:36:11.573070Z",
     "iopub.status.idle": "2021-01-11T15:36:11.576770Z",
     "shell.execute_reply": "2021-01-11T15:36:11.576078Z",
     "shell.execute_reply.started": "2021-01-11T15:36:11.573272Z"
    }
   },
   "outputs": [
    {
     "name": "stdout",
     "output_type": "stream",
     "text": [
      "['java', 'python', 'c']\n"
     ]
    }
   ],
   "source": [
    "print(Languages[0:3])"
   ]
  },
  {
   "cell_type": "code",
   "execution_count": 19,
   "metadata": {
    "execution": {
     "iopub.execute_input": "2021-01-11T15:36:22.311560Z",
     "iopub.status.busy": "2021-01-11T15:36:22.311334Z",
     "iopub.status.idle": "2021-01-11T15:36:22.314856Z",
     "shell.execute_reply": "2021-01-11T15:36:22.314228Z",
     "shell.execute_reply.started": "2021-01-11T15:36:22.311537Z"
    }
   },
   "outputs": [
    {
     "name": "stdout",
     "output_type": "stream",
     "text": [
      "['ruby', 'c++', 'c', 'python', 'java']\n"
     ]
    }
   ],
   "source": [
    "print(Languages[::-1])"
   ]
  },
  {
   "cell_type": "code",
   "execution_count": 20,
   "metadata": {
    "execution": {
     "iopub.execute_input": "2021-01-11T15:36:43.668467Z",
     "iopub.status.busy": "2021-01-11T15:36:43.668245Z",
     "iopub.status.idle": "2021-01-11T15:36:43.671959Z",
     "shell.execute_reply": "2021-01-11T15:36:43.671297Z",
     "shell.execute_reply.started": "2021-01-11T15:36:43.668446Z"
    }
   },
   "outputs": [
    {
     "name": "stdout",
     "output_type": "stream",
     "text": [
      "['ruby', 'c']\n"
     ]
    }
   ],
   "source": [
    "print(Languages[-1: -5: -2])"
   ]
  },
  {
   "cell_type": "code",
   "execution_count": 22,
   "metadata": {
    "execution": {
     "iopub.execute_input": "2021-01-11T15:37:49.119894Z",
     "iopub.status.busy": "2021-01-11T15:37:49.119672Z",
     "iopub.status.idle": "2021-01-11T15:37:49.123434Z",
     "shell.execute_reply": "2021-01-11T15:37:49.122765Z",
     "shell.execute_reply.started": "2021-01-11T15:37:49.119873Z"
    }
   },
   "outputs": [
    {
     "name": "stdout",
     "output_type": "stream",
     "text": [
      "['java', 'python', 'c', 'c++', 'ruby']\n",
      "['JAVA', 'PYTHON', 'C', 'C++', 'RUBY']\n"
     ]
    }
   ],
   "source": [
    "print(Languages)\n",
    "Languages1 = [x.upper() for x in Languages]\n",
    "print(Languages1)"
   ]
  },
  {
   "cell_type": "markdown",
   "metadata": {},
   "source": [
    "# Tuple and Sets"
   ]
  },
  {
   "cell_type": "code",
   "execution_count": 23,
   "metadata": {
    "execution": {
     "iopub.execute_input": "2021-01-11T15:40:04.270489Z",
     "iopub.status.busy": "2021-01-11T15:40:04.270267Z",
     "iopub.status.idle": "2021-01-11T15:40:04.274247Z",
     "shell.execute_reply": "2021-01-11T15:40:04.273591Z",
     "shell.execute_reply.started": "2021-01-11T15:40:04.270467Z"
    }
   },
   "outputs": [
    {
     "name": "stdout",
     "output_type": "stream",
     "text": [
      "pink\n",
      "red\n"
     ]
    }
   ],
   "source": [
    "colors = ('pink', 'red')\n",
    "print(colors[0])\n",
    "print(colors[1])"
   ]
  },
  {
   "cell_type": "code",
   "execution_count": 24,
   "metadata": {
    "execution": {
     "iopub.execute_input": "2021-01-11T15:40:39.104927Z",
     "iopub.status.busy": "2021-01-11T15:40:39.104701Z",
     "iopub.status.idle": "2021-01-11T15:40:39.108657Z",
     "shell.execute_reply": "2021-01-11T15:40:39.107978Z",
     "shell.execute_reply.started": "2021-01-11T15:40:39.104904Z"
    }
   },
   "outputs": [
    {
     "name": "stdout",
     "output_type": "stream",
     "text": [
      "200\n",
      "500\n"
     ]
    }
   ],
   "source": [
    "dimensions = (200, 500)\n",
    "for dimension in dimensions:\n",
    "    print(dimension)\n",
    "    "
   ]
  },
  {
   "cell_type": "code",
   "execution_count": 25,
   "metadata": {
    "execution": {
     "iopub.execute_input": "2021-01-11T15:44:12.484245Z",
     "iopub.status.busy": "2021-01-11T15:44:12.484022Z",
     "iopub.status.idle": "2021-01-11T15:44:12.488626Z",
     "shell.execute_reply": "2021-01-11T15:44:12.488038Z",
     "shell.execute_reply.started": "2021-01-11T15:44:12.484224Z"
    }
   },
   "outputs": [
    {
     "name": "stdout",
     "output_type": "stream",
     "text": [
      "Original dimensions\n",
      "200\n",
      "500\n",
      "\n",
      "Original dimensions\n",
      "400\n",
      "100\n"
     ]
    }
   ],
   "source": [
    "dimensions = (200, 500)\n",
    "print(\"Original dimensions\")\n",
    "for dimension in dimensions:\n",
    "    print(dimension)\n",
    "dimensions = (400, 100)\n",
    "print(\"\\nOriginal dimensions\")\n",
    "for dimension in dimensions:\n",
    "    print(dimension)    "
   ]
  },
  {
   "cell_type": "code",
   "execution_count": 27,
   "metadata": {
    "execution": {
     "iopub.execute_input": "2021-01-11T15:45:25.787067Z",
     "iopub.status.busy": "2021-01-11T15:45:25.786849Z",
     "iopub.status.idle": "2021-01-11T15:45:25.790779Z",
     "shell.execute_reply": "2021-01-11T15:45:25.790093Z",
     "shell.execute_reply.started": "2021-01-11T15:45:25.787047Z"
    }
   },
   "outputs": [
    {
     "name": "stdout",
     "output_type": "stream",
     "text": [
      "{1, 2, 3}\n",
      "{1.0, 'Hello', (1, 2, 3)}\n"
     ]
    }
   ],
   "source": [
    "my_set = {1, 2, 3}\n",
    "print(my_set)\n",
    "my_set = {1.0, \"Hello\", (1, 2, 3)}\n",
    "print(my_set)"
   ]
  },
  {
   "cell_type": "markdown",
   "metadata": {},
   "source": [
    "# Dictionary"
   ]
  },
  {
   "cell_type": "code",
   "execution_count": 28,
   "metadata": {
    "execution": {
     "iopub.execute_input": "2021-01-11T15:49:21.362601Z",
     "iopub.status.busy": "2021-01-11T15:49:21.362382Z",
     "iopub.status.idle": "2021-01-11T15:49:21.366953Z",
     "shell.execute_reply": "2021-01-11T15:49:21.366186Z",
     "shell.execute_reply.started": "2021-01-11T15:49:21.362579Z"
    }
   },
   "outputs": [
    {
     "data": {
      "text/plain": [
       "{'brand': 'Ford', 'model': 'Mustang', 'year': '1964'}"
      ]
     },
     "execution_count": 28,
     "metadata": {},
     "output_type": "execute_result"
    }
   ],
   "source": [
    "thisdict = {\n",
    "            \"brand\": \"Ford\",\n",
    "            \"model\": \"Mustang\",\n",
    "            \"year\": \"1964\"}\n",
    "thisdict"
   ]
  },
  {
   "cell_type": "code",
   "execution_count": 29,
   "metadata": {
    "execution": {
     "iopub.execute_input": "2021-01-11T15:50:01.473478Z",
     "iopub.status.busy": "2021-01-11T15:50:01.473256Z",
     "iopub.status.idle": "2021-01-11T15:50:01.476961Z",
     "shell.execute_reply": "2021-01-11T15:50:01.476261Z",
     "shell.execute_reply.started": "2021-01-11T15:50:01.473456Z"
    }
   },
   "outputs": [
    {
     "name": "stdout",
     "output_type": "stream",
     "text": [
      "green\n"
     ]
    }
   ],
   "source": [
    "my_colors = {'colors': 'green'}\n",
    "print(my_colors['colors'])\n"
   ]
  },
  {
   "cell_type": "code",
   "execution_count": 30,
   "metadata": {
    "execution": {
     "iopub.execute_input": "2021-01-11T15:50:53.260092Z",
     "iopub.status.busy": "2021-01-11T15:50:53.259869Z",
     "iopub.status.idle": "2021-01-11T15:50:53.263957Z",
     "shell.execute_reply": "2021-01-11T15:50:53.263229Z",
     "shell.execute_reply.started": "2021-01-11T15:50:53.260071Z"
    }
   },
   "outputs": [
    {
     "name": "stdout",
     "output_type": "stream",
     "text": [
      "{'color1': 'green'}\n",
      "{'color2': 'red'}\n"
     ]
    }
   ],
   "source": [
    "my_colors = {\"color1\": \"green\"}\n",
    "print(my_colors)\n",
    "my_colors = {\"color2\": \"red\"}\n",
    "print(my_colors)"
   ]
  },
  {
   "cell_type": "markdown",
   "metadata": {},
   "source": [
    "# Itertools, Range and Loops"
   ]
  },
  {
   "cell_type": "code",
   "execution_count": 31,
   "metadata": {
    "execution": {
     "iopub.execute_input": "2021-01-11T15:52:30.130856Z",
     "iopub.status.busy": "2021-01-11T15:52:30.130613Z",
     "iopub.status.idle": "2021-01-11T15:52:30.134428Z",
     "shell.execute_reply": "2021-01-11T15:52:30.133875Z",
     "shell.execute_reply.started": "2021-01-11T15:52:30.130834Z"
    }
   },
   "outputs": [
    {
     "data": {
      "text/plain": [
       "range(0, 10)"
      ]
     },
     "execution_count": 31,
     "metadata": {},
     "output_type": "execute_result"
    }
   ],
   "source": [
    "range(10)"
   ]
  },
  {
   "cell_type": "code",
   "execution_count": 32,
   "metadata": {
    "execution": {
     "iopub.execute_input": "2021-01-11T15:52:40.169595Z",
     "iopub.status.busy": "2021-01-11T15:52:40.169375Z",
     "iopub.status.idle": "2021-01-11T15:52:40.173674Z",
     "shell.execute_reply": "2021-01-11T15:52:40.173027Z",
     "shell.execute_reply.started": "2021-01-11T15:52:40.169574Z"
    }
   },
   "outputs": [
    {
     "data": {
      "text/plain": [
       "[0, 1, 2, 3, 4, 5, 6, 7, 8, 9]"
      ]
     },
     "execution_count": 32,
     "metadata": {},
     "output_type": "execute_result"
    }
   ],
   "source": [
    "list(range(10))"
   ]
  },
  {
   "cell_type": "code",
   "execution_count": 33,
   "metadata": {
    "execution": {
     "iopub.execute_input": "2021-01-11T15:52:47.181512Z",
     "iopub.status.busy": "2021-01-11T15:52:47.181289Z",
     "iopub.status.idle": "2021-01-11T15:52:47.185510Z",
     "shell.execute_reply": "2021-01-11T15:52:47.184818Z",
     "shell.execute_reply.started": "2021-01-11T15:52:47.181492Z"
    }
   },
   "outputs": [
    {
     "data": {
      "text/plain": [
       "range(0, 10, 3)"
      ]
     },
     "execution_count": 33,
     "metadata": {},
     "output_type": "execute_result"
    }
   ],
   "source": [
    "range(0, 10, 3)"
   ]
  },
  {
   "cell_type": "code",
   "execution_count": 34,
   "metadata": {
    "execution": {
     "iopub.execute_input": "2021-01-11T15:52:55.201413Z",
     "iopub.status.busy": "2021-01-11T15:52:55.201190Z",
     "iopub.status.idle": "2021-01-11T15:52:55.205495Z",
     "shell.execute_reply": "2021-01-11T15:52:55.204814Z",
     "shell.execute_reply.started": "2021-01-11T15:52:55.201392Z"
    }
   },
   "outputs": [
    {
     "data": {
      "text/plain": [
       "[0, 3, 6, 9]"
      ]
     },
     "execution_count": 34,
     "metadata": {},
     "output_type": "execute_result"
    }
   ],
   "source": [
    "list(range(0, 10, 3))"
   ]
  },
  {
   "cell_type": "code",
   "execution_count": 35,
   "metadata": {
    "execution": {
     "iopub.execute_input": "2021-01-11T15:53:06.069158Z",
     "iopub.status.busy": "2021-01-11T15:53:06.068935Z",
     "iopub.status.idle": "2021-01-11T15:53:06.073284Z",
     "shell.execute_reply": "2021-01-11T15:53:06.072586Z",
     "shell.execute_reply.started": "2021-01-11T15:53:06.069137Z"
    }
   },
   "outputs": [
    {
     "data": {
      "text/plain": [
       "<enumerate at 0x7f0af9500828>"
      ]
     },
     "execution_count": 35,
     "metadata": {},
     "output_type": "execute_result"
    }
   ],
   "source": [
    "enumerate([\"apple\", \"banana\", \"cat\", \"dog\"])"
   ]
  },
  {
   "cell_type": "code",
   "execution_count": 36,
   "metadata": {
    "execution": {
     "iopub.execute_input": "2021-01-11T15:53:14.998892Z",
     "iopub.status.busy": "2021-01-11T15:53:14.998666Z",
     "iopub.status.idle": "2021-01-11T15:53:15.003053Z",
     "shell.execute_reply": "2021-01-11T15:53:15.002398Z",
     "shell.execute_reply.started": "2021-01-11T15:53:14.998870Z"
    }
   },
   "outputs": [
    {
     "data": {
      "text/plain": [
       "[(0, 'apple'), (1, 'banana'), (2, 'cat'), (3, 'dog')]"
      ]
     },
     "execution_count": 36,
     "metadata": {},
     "output_type": "execute_result"
    }
   ],
   "source": [
    "list(enumerate([\"apple\", \"banana\", \"cat\", \"dog\"]))"
   ]
  },
  {
   "cell_type": "code",
   "execution_count": 37,
   "metadata": {
    "execution": {
     "iopub.execute_input": "2021-01-11T15:53:49.362223Z",
     "iopub.status.busy": "2021-01-11T15:53:49.361995Z",
     "iopub.status.idle": "2021-01-11T15:53:49.367301Z",
     "shell.execute_reply": "2021-01-11T15:53:49.366627Z",
     "shell.execute_reply.started": "2021-01-11T15:53:49.362202Z"
    }
   },
   "outputs": [
    {
     "data": {
      "text/plain": [
       "[('Angie', 90, 95), ('Brian', 82, 84), ('Cassie', 79, 72), ('David', 87, 91)]"
      ]
     },
     "execution_count": 37,
     "metadata": {},
     "output_type": "execute_result"
    }
   ],
   "source": [
    "names = [\"Angie\", \"Brian\", \"Cassie\", \"David\"]\n",
    "exam_1_scores = [90, 82, 79, 87]\n",
    "exam_2_scores = [95, 84, 72, 91]\n",
    "\n",
    "zip(names, exam_1_scores, exam_2_scores)\n",
    "\n",
    "list(zip(names, exam_1_scores, exam_2_scores))"
   ]
  },
  {
   "cell_type": "code",
   "execution_count": 38,
   "metadata": {
    "execution": {
     "iopub.execute_input": "2021-01-11T15:54:23.767820Z",
     "iopub.status.busy": "2021-01-11T15:54:23.767601Z",
     "iopub.status.idle": "2021-01-11T15:54:23.772595Z",
     "shell.execute_reply": "2021-01-11T15:54:23.771868Z",
     "shell.execute_reply.started": "2021-01-11T15:54:23.767799Z"
    }
   },
   "outputs": [
    {
     "data": {
      "text/plain": [
       "<itertools.chain at 0x7f0af90d9eb8>"
      ]
     },
     "execution_count": 38,
     "metadata": {},
     "output_type": "execute_result"
    }
   ],
   "source": [
    "from itertools import chain\n",
    "gen_1 = range(0, 5, 2)               # 0.. 2.. 4\n",
    "gen_2 = (i**2 for i in range(3, 6))  # 9.. 16.. 25\n",
    "iter_3 = [\"moo\", \"cow\"]\n",
    "iter_4 = \"him\"\n",
    "chain(gen_1, gen_2, iter_3, iter_4)"
   ]
  },
  {
   "cell_type": "code",
   "execution_count": 39,
   "metadata": {
    "execution": {
     "iopub.execute_input": "2021-01-11T15:54:41.767010Z",
     "iopub.status.busy": "2021-01-11T15:54:41.766787Z",
     "iopub.status.idle": "2021-01-11T15:54:41.771171Z",
     "shell.execute_reply": "2021-01-11T15:54:41.770507Z",
     "shell.execute_reply.started": "2021-01-11T15:54:41.766989Z"
    }
   },
   "outputs": [
    {
     "data": {
      "text/plain": [
       "<itertools.combinations at 0x7f0af94d8048>"
      ]
     },
     "execution_count": 39,
     "metadata": {},
     "output_type": "execute_result"
    }
   ],
   "source": [
    "from itertools import combinations\n",
    "combinations([0, 1, 2, 3], 3)"
   ]
  },
  {
   "cell_type": "code",
   "execution_count": 40,
   "metadata": {
    "execution": {
     "iopub.execute_input": "2021-01-11T15:55:00.453914Z",
     "iopub.status.busy": "2021-01-11T15:55:00.453689Z",
     "iopub.status.idle": "2021-01-11T15:55:00.458579Z",
     "shell.execute_reply": "2021-01-11T15:55:00.457912Z",
     "shell.execute_reply.started": "2021-01-11T15:55:00.453893Z"
    }
   },
   "outputs": [
    {
     "data": {
      "text/plain": [
       "0.2"
      ]
     },
     "execution_count": 40,
     "metadata": {},
     "output_type": "execute_result"
    }
   ],
   "source": [
    "from itertools import combinations\n",
    "ls = [\"apples\", \"bananas\", \"pears\", \"pears\", \"oranges\"]\n",
    "comb_ls = list(combinations(ls, 2))\n",
    "comb_ls.count((\"apples\", \"pears\")) / len(comb_ls)"
   ]
  },
  {
   "cell_type": "code",
   "execution_count": 41,
   "metadata": {
    "execution": {
     "iopub.execute_input": "2021-01-11T15:55:14.079270Z",
     "iopub.status.busy": "2021-01-11T15:55:14.079049Z",
     "iopub.status.idle": "2021-01-11T15:55:14.083823Z",
     "shell.execute_reply": "2021-01-11T15:55:14.083147Z",
     "shell.execute_reply.started": "2021-01-11T15:55:14.079249Z"
    }
   },
   "outputs": [
    {
     "data": {
      "text/plain": [
       "[(0.1, 0.010000000000000002), (0.3, 0.09), (0.6, 0.36), (0.9, 0.81)]"
      ]
     },
     "execution_count": 41,
     "metadata": {},
     "output_type": "execute_result"
    }
   ],
   "source": [
    "x_vals = [0.1, 0.3, 0.6, 0.9]\n",
    "y_gen = (x**2 for x in x_vals)\n",
    "list(zip(x_vals, y_gen))"
   ]
  },
  {
   "cell_type": "code",
   "execution_count": 42,
   "metadata": {
    "execution": {
     "iopub.execute_input": "2021-01-11T15:55:25.324740Z",
     "iopub.status.busy": "2021-01-11T15:55:25.324494Z",
     "iopub.status.idle": "2021-01-11T15:55:25.329466Z",
     "shell.execute_reply": "2021-01-11T15:55:25.328818Z",
     "shell.execute_reply.started": "2021-01-11T15:55:25.324719Z"
    }
   },
   "outputs": [
    {
     "data": {
      "text/plain": [
       "[(0.1, 0.010000000000000002), (0.3, 0.09), (0.6, 0.36), (0.9, 0.81)]"
      ]
     },
     "execution_count": 42,
     "metadata": {},
     "output_type": "execute_result"
    }
   ],
   "source": [
    "x_vals = [0.1, 0.3, 0.6, 0.9]\n",
    "[(x, x**2) for x in x_vals]"
   ]
  },
  {
   "cell_type": "code",
   "execution_count": 43,
   "metadata": {
    "execution": {
     "iopub.execute_input": "2021-01-11T15:55:47.093004Z",
     "iopub.status.busy": "2021-01-11T15:55:47.092780Z",
     "iopub.status.idle": "2021-01-11T15:55:47.097176Z",
     "shell.execute_reply": "2021-01-11T15:55:47.096425Z",
     "shell.execute_reply.started": "2021-01-11T15:55:47.092983Z"
    }
   },
   "outputs": [
    {
     "name": "stdout",
     "output_type": "stream",
     "text": [
      "Numbers from range 0 to 6\n",
      "0, 1, 2, 3, 4, 5, "
     ]
    }
   ],
   "source": [
    "print(\"Numbers from range 0 to 6\")\n",
    "for i in range(6):\n",
    "    print(i, end=', ')"
   ]
  },
  {
   "cell_type": "code",
   "execution_count": 44,
   "metadata": {
    "execution": {
     "iopub.execute_input": "2021-01-11T15:56:07.342528Z",
     "iopub.status.busy": "2021-01-11T15:56:07.342302Z",
     "iopub.status.idle": "2021-01-11T15:56:07.346280Z",
     "shell.execute_reply": "2021-01-11T15:56:07.345597Z",
     "shell.execute_reply.started": "2021-01-11T15:56:07.342507Z"
    }
   },
   "outputs": [
    {
     "name": "stdout",
     "output_type": "stream",
     "text": [
      "0, 1, 2, 3, 4, "
     ]
    }
   ],
   "source": [
    "for i in range(5):\n",
    "    print(i, end=', ')"
   ]
  },
  {
   "cell_type": "code",
   "execution_count": 45,
   "metadata": {
    "execution": {
     "iopub.execute_input": "2021-01-11T15:56:22.848780Z",
     "iopub.status.busy": "2021-01-11T15:56:22.848557Z",
     "iopub.status.idle": "2021-01-11T15:56:22.852520Z",
     "shell.execute_reply": "2021-01-11T15:56:22.851824Z",
     "shell.execute_reply.started": "2021-01-11T15:56:22.848758Z"
    }
   },
   "outputs": [
    {
     "name": "stdout",
     "output_type": "stream",
     "text": [
      "5, 6, 7, 8, 9, "
     ]
    }
   ],
   "source": [
    "for i in range(5, 10):\n",
    "    print(i, end=', ')"
   ]
  },
  {
   "cell_type": "code",
   "execution_count": 46,
   "metadata": {
    "execution": {
     "iopub.execute_input": "2021-01-11T15:56:33.335470Z",
     "iopub.status.busy": "2021-01-11T15:56:33.335243Z",
     "iopub.status.idle": "2021-01-11T15:56:33.339369Z",
     "shell.execute_reply": "2021-01-11T15:56:33.338693Z",
     "shell.execute_reply.started": "2021-01-11T15:56:33.335450Z"
    }
   },
   "outputs": [
    {
     "name": "stdout",
     "output_type": "stream",
     "text": [
      "Printing all even numbers between 2 and 10 using range()\n",
      "2, 4, 6, 8, "
     ]
    }
   ],
   "source": [
    "print(\"Printing all even numbers between 2 and 10 using range()\")\n",
    "for i in range(2, 10, 2):\n",
    "    print(i, end=', ')"
   ]
  },
  {
   "cell_type": "code",
   "execution_count": 47,
   "metadata": {
    "execution": {
     "iopub.execute_input": "2021-01-11T15:56:53.013166Z",
     "iopub.status.busy": "2021-01-11T15:56:53.012945Z",
     "iopub.status.idle": "2021-01-11T15:56:53.018173Z",
     "shell.execute_reply": "2021-01-11T15:56:53.017416Z",
     "shell.execute_reply.started": "2021-01-11T15:56:53.013144Z"
    }
   },
   "outputs": [
    {
     "name": "stdout",
     "output_type": "stream",
     "text": [
      "Current value of i is: 1\n",
      "Current value of i is: 3\n",
      "Current value of i is: 5\n",
      "Current value of i is: 7\n",
      "Current value of i is: 9\n"
     ]
    }
   ],
   "source": [
    "for i in range(1, 10, 2):\n",
    "    print(\"Current value of i is:\", i)"
   ]
  },
  {
   "cell_type": "code",
   "execution_count": 48,
   "metadata": {
    "execution": {
     "iopub.execute_input": "2021-01-11T15:57:48.910854Z",
     "iopub.status.busy": "2021-01-11T15:57:48.910604Z",
     "iopub.status.idle": "2021-01-11T15:57:48.915656Z",
     "shell.execute_reply": "2021-01-11T15:57:48.914934Z",
     "shell.execute_reply.started": "2021-01-11T15:57:48.910831Z"
    }
   },
   "outputs": [
    {
     "name": "stdout",
     "output_type": "stream",
     "text": [
      "0\n",
      "1\n",
      "2\n",
      "3\n",
      "4\n",
      "3\n",
      "4\n",
      "5\n",
      "3\n",
      "5\n",
      "7\n"
     ]
    }
   ],
   "source": [
    "for x in range(5):\n",
    "    print(x)\n",
    "\n",
    "for x in range(3, 6):\n",
    "    print(x)\n",
    "\n",
    "for x in range(3, 8, 2):\n",
    "    print(x)"
   ]
  },
  {
   "cell_type": "code",
   "execution_count": 49,
   "metadata": {
    "execution": {
     "iopub.execute_input": "2021-01-11T15:58:01.873157Z",
     "iopub.status.busy": "2021-01-11T15:58:01.872923Z",
     "iopub.status.idle": "2021-01-11T15:58:01.877028Z",
     "shell.execute_reply": "2021-01-11T15:58:01.876317Z",
     "shell.execute_reply.started": "2021-01-11T15:58:01.873133Z"
    }
   },
   "outputs": [
    {
     "name": "stdout",
     "output_type": "stream",
     "text": [
      "0\n",
      "1\n",
      "2\n",
      "3\n",
      "4\n"
     ]
    }
   ],
   "source": [
    "count = 0\n",
    "while count < 5:\n",
    "    print(count)\n",
    "    count += 1"
   ]
  },
  {
   "cell_type": "code",
   "execution_count": 50,
   "metadata": {
    "execution": {
     "iopub.execute_input": "2021-01-11T15:58:14.806249Z",
     "iopub.status.busy": "2021-01-11T15:58:14.806030Z",
     "iopub.status.idle": "2021-01-11T15:58:14.810620Z",
     "shell.execute_reply": "2021-01-11T15:58:14.810022Z",
     "shell.execute_reply.started": "2021-01-11T15:58:14.806228Z"
    }
   },
   "outputs": [
    {
     "name": "stdout",
     "output_type": "stream",
     "text": [
      "0\n",
      "1\n",
      "2\n",
      "3\n",
      "4\n",
      "1\n",
      "3\n",
      "5\n",
      "7\n",
      "9\n"
     ]
    }
   ],
   "source": [
    "count = 0\n",
    "while True:\n",
    "    print(count)\n",
    "    count += 1\n",
    "    if count >= 5:\n",
    "        break\n",
    "\n",
    "for x in range(10):\n",
    "    # Check if x is even\n",
    "    if x % 2 == 0:\n",
    "        continue\n",
    "    print(x)"
   ]
  },
  {
   "cell_type": "code",
   "execution_count": 51,
   "metadata": {
    "execution": {
     "iopub.execute_input": "2021-01-11T15:58:30.269159Z",
     "iopub.status.busy": "2021-01-11T15:58:30.268937Z",
     "iopub.status.idle": "2021-01-11T15:58:30.274296Z",
     "shell.execute_reply": "2021-01-11T15:58:30.273596Z",
     "shell.execute_reply.started": "2021-01-11T15:58:30.269138Z"
    }
   },
   "outputs": [
    {
     "name": "stdout",
     "output_type": "stream",
     "text": [
      "0\n",
      "1\n",
      "2\n",
      "3\n",
      "4\n",
      "count value reached 5\n",
      "1\n",
      "2\n",
      "3\n",
      "4\n"
     ]
    }
   ],
   "source": [
    "count=0\n",
    "while(count<5):\n",
    "    print(count)\n",
    "    count +=1\n",
    "else:\n",
    "    print(\"count value reached %d\" %(count))\n",
    "\n",
    "for i in range(1, 10):\n",
    "    if(i%5==0):\n",
    "        break\n",
    "    print(i)\n",
    "else:\n",
    "    print(\"this is not printed because for loop is terminated because of break but not due to fail in condition\")"
   ]
  }
 ],
 "metadata": {
  "kernelspec": {
   "display_name": "Python 3",
   "language": "python",
   "name": "python3"
  },
  "language_info": {
   "codemirror_mode": {
    "name": "ipython",
    "version": 3
   },
   "file_extension": ".py",
   "mimetype": "text/x-python",
   "name": "python",
   "nbconvert_exporter": "python",
   "pygments_lexer": "ipython3",
   "version": "3.7.3"
  }
 },
 "nbformat": 4,
 "nbformat_minor": 4
}
