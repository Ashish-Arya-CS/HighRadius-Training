{
  "nbformat": 4,
  "nbformat_minor": 0,
  "metadata": {
    "colab": {
      "name": "HouseLoki_1828232_EDA,FE,FS_&_Modeling_Assignment.ipynb",
      "provenance": [],
      "collapsed_sections": []
    },
    "kernelspec": {
      "display_name": "Python 3",
      "language": "python",
      "name": "python3"
    },
    "language_info": {
      "codemirror_mode": {
        "name": "ipython",
        "version": 3
      },
      "file_extension": ".py",
      "mimetype": "text/x-python",
      "name": "python",
      "nbconvert_exporter": "python",
      "pygments_lexer": "ipython3",
      "version": "3.7.3"
    }
  },
  "cells": [
    {
      "cell_type": "markdown",
      "metadata": {
        "id": "1kPnOUwsYV3n"
      },
      "source": [
        "# EDA, FE, FS & Modeling Assignment\n",
        "## HouseLoki\n",
        "## 1828232\n",
        "## Ashish Arya"
      ]
    },
    {
      "cell_type": "code",
      "metadata": {
        "colab": {
          "base_uri": "https://localhost:8080/"
        },
        "id": "61y9wiDs0dtR",
        "outputId": "7fb13b41-f870-429b-c874-b0d0deaa205e"
      },
      "source": [
        "# Installing required package\n",
        "!pip install catboost"
      ],
      "execution_count": 1,
      "outputs": [
        {
          "output_type": "stream",
          "text": [
            "Requirement already satisfied: catboost in /usr/local/lib/python3.6/dist-packages (0.24.4)\n",
            "Requirement already satisfied: numpy>=1.16.0 in /usr/local/lib/python3.6/dist-packages (from catboost) (1.19.5)\n",
            "Requirement already satisfied: plotly in /usr/local/lib/python3.6/dist-packages (from catboost) (4.4.1)\n",
            "Requirement already satisfied: matplotlib in /usr/local/lib/python3.6/dist-packages (from catboost) (3.2.2)\n",
            "Requirement already satisfied: graphviz in /usr/local/lib/python3.6/dist-packages (from catboost) (0.10.1)\n",
            "Requirement already satisfied: scipy in /usr/local/lib/python3.6/dist-packages (from catboost) (1.4.1)\n",
            "Requirement already satisfied: six in /usr/local/lib/python3.6/dist-packages (from catboost) (1.15.0)\n",
            "Requirement already satisfied: pandas>=0.24.0 in /usr/local/lib/python3.6/dist-packages (from catboost) (1.1.5)\n",
            "Requirement already satisfied: retrying>=1.3.3 in /usr/local/lib/python3.6/dist-packages (from plotly->catboost) (1.3.3)\n",
            "Requirement already satisfied: cycler>=0.10 in /usr/local/lib/python3.6/dist-packages (from matplotlib->catboost) (0.10.0)\n",
            "Requirement already satisfied: pyparsing!=2.0.4,!=2.1.2,!=2.1.6,>=2.0.1 in /usr/local/lib/python3.6/dist-packages (from matplotlib->catboost) (2.4.7)\n",
            "Requirement already satisfied: kiwisolver>=1.0.1 in /usr/local/lib/python3.6/dist-packages (from matplotlib->catboost) (1.3.1)\n",
            "Requirement already satisfied: python-dateutil>=2.1 in /usr/local/lib/python3.6/dist-packages (from matplotlib->catboost) (2.8.1)\n",
            "Requirement already satisfied: pytz>=2017.2 in /usr/local/lib/python3.6/dist-packages (from pandas>=0.24.0->catboost) (2018.9)\n"
          ],
          "name": "stdout"
        }
      ]
    },
    {
      "cell_type": "code",
      "metadata": {
        "id": "46vPqe8YPDqB"
      },
      "source": [
        "#  For Filtering out the warnings after Cell Execution\n",
        "import warnings\n",
        "warnings.filterwarnings('ignore')"
      ],
      "execution_count": 2,
      "outputs": []
    },
    {
      "cell_type": "code",
      "metadata": {
        "execution": {
          "iopub.execute_input": "2021-01-28T13:42:44.429081Z",
          "iopub.status.busy": "2021-01-28T13:42:44.428863Z",
          "iopub.status.idle": "2021-01-28T13:42:44.781203Z",
          "shell.execute_reply": "2021-01-28T13:42:44.780671Z",
          "shell.execute_reply.started": "2021-01-28T13:42:44.429060Z"
        },
        "id": "1aFup_lsHrQu"
      },
      "source": [
        "# Importing necessary libraries\n",
        "import numpy as np\n",
        "import pandas as pd\n",
        "import seaborn as sns\n",
        "import matplotlib.pyplot as plt"
      ],
      "execution_count": 3,
      "outputs": []
    },
    {
      "cell_type": "code",
      "metadata": {
        "execution": {
          "iopub.execute_input": "2021-01-28T13:42:45.296657Z",
          "iopub.status.busy": "2021-01-28T13:42:45.296434Z",
          "iopub.status.idle": "2021-01-28T13:42:45.396413Z",
          "shell.execute_reply": "2021-01-28T13:42:45.395886Z",
          "shell.execute_reply.started": "2021-01-28T13:42:45.296636Z"
        },
        "id": "giR-GxVTHrRS"
      },
      "source": [
        "# Importing the csv data\n",
        "df = pd.read_csv('1828232.csv')"
      ],
      "execution_count": 4,
      "outputs": []
    },
    {
      "cell_type": "code",
      "metadata": {
        "colab": {
          "base_uri": "https://localhost:8080/",
          "height": 326
        },
        "execution": {
          "iopub.execute_input": "2021-01-28T13:42:45.690054Z",
          "iopub.status.busy": "2021-01-28T13:42:45.689844Z",
          "iopub.status.idle": "2021-01-28T13:42:45.707343Z",
          "shell.execute_reply": "2021-01-28T13:42:45.706694Z",
          "shell.execute_reply.started": "2021-01-28T13:42:45.690034Z"
        },
        "id": "qvNqa2VHHrRY",
        "outputId": "a6c3806a-1b36-4f85-b718-c01b72446019"
      },
      "source": [
        "# Checking first five columns of dataframe\n",
        "df.head()"
      ],
      "execution_count": 5,
      "outputs": [
        {
          "output_type": "execute_result",
          "data": {
            "text/html": [
              "<div>\n",
              "<style scoped>\n",
              "    .dataframe tbody tr th:only-of-type {\n",
              "        vertical-align: middle;\n",
              "    }\n",
              "\n",
              "    .dataframe tbody tr th {\n",
              "        vertical-align: top;\n",
              "    }\n",
              "\n",
              "    .dataframe thead th {\n",
              "        text-align: right;\n",
              "    }\n",
              "</style>\n",
              "<table border=\"1\" class=\"dataframe\">\n",
              "  <thead>\n",
              "    <tr style=\"text-align: right;\">\n",
              "      <th></th>\n",
              "      <th>business_code</th>\n",
              "      <th>cust_number</th>\n",
              "      <th>name_customer</th>\n",
              "      <th>clear_date</th>\n",
              "      <th>buisness_year</th>\n",
              "      <th>doc_id</th>\n",
              "      <th>posting_date</th>\n",
              "      <th>document_create_date</th>\n",
              "      <th>document_create_date.1</th>\n",
              "      <th>due_in_date</th>\n",
              "      <th>invoice_currency</th>\n",
              "      <th>document type</th>\n",
              "      <th>posting_id</th>\n",
              "      <th>area_business</th>\n",
              "      <th>total_open_amount</th>\n",
              "      <th>baseline_create_date</th>\n",
              "      <th>cust_payment_terms</th>\n",
              "      <th>invoice_id</th>\n",
              "      <th>isOpen</th>\n",
              "    </tr>\n",
              "  </thead>\n",
              "  <tbody>\n",
              "    <tr>\n",
              "      <th>0</th>\n",
              "      <td>U001</td>\n",
              "      <td>0200769623</td>\n",
              "      <td>WAL-MAR associates</td>\n",
              "      <td>2019-05-29 00:00:00</td>\n",
              "      <td>2019.0</td>\n",
              "      <td>1.929342e+09</td>\n",
              "      <td>2019-05-18</td>\n",
              "      <td>20190518</td>\n",
              "      <td>20190518</td>\n",
              "      <td>20190602.0</td>\n",
              "      <td>USD</td>\n",
              "      <td>RV</td>\n",
              "      <td>1.0</td>\n",
              "      <td>NaN</td>\n",
              "      <td>51659.25</td>\n",
              "      <td>20190518.0</td>\n",
              "      <td>NAH4</td>\n",
              "      <td>1.929342e+09</td>\n",
              "      <td>0</td>\n",
              "    </tr>\n",
              "    <tr>\n",
              "      <th>1</th>\n",
              "      <td>U001</td>\n",
              "      <td>0200759878</td>\n",
              "      <td>SA systems</td>\n",
              "      <td>2019-08-05 00:00:00</td>\n",
              "      <td>2019.0</td>\n",
              "      <td>1.929643e+09</td>\n",
              "      <td>2019-07-20</td>\n",
              "      <td>20190720</td>\n",
              "      <td>20190720</td>\n",
              "      <td>20190804.0</td>\n",
              "      <td>USD</td>\n",
              "      <td>RV</td>\n",
              "      <td>1.0</td>\n",
              "      <td>NaN</td>\n",
              "      <td>55509.15</td>\n",
              "      <td>20190720.0</td>\n",
              "      <td>NAH4</td>\n",
              "      <td>1.929643e+09</td>\n",
              "      <td>0</td>\n",
              "    </tr>\n",
              "    <tr>\n",
              "      <th>2</th>\n",
              "      <td>CA02</td>\n",
              "      <td>0140104472</td>\n",
              "      <td>MARTIN co</td>\n",
              "      <td>2020-01-29 00:00:00</td>\n",
              "      <td>2020.0</td>\n",
              "      <td>2.960606e+09</td>\n",
              "      <td>2020-01-08</td>\n",
              "      <td>20200108</td>\n",
              "      <td>20200108</td>\n",
              "      <td>20200125.0</td>\n",
              "      <td>CAD</td>\n",
              "      <td>RV</td>\n",
              "      <td>1.0</td>\n",
              "      <td>NaN</td>\n",
              "      <td>7845.12</td>\n",
              "      <td>20200115.0</td>\n",
              "      <td>CA10</td>\n",
              "      <td>2.960606e+09</td>\n",
              "      <td>0</td>\n",
              "    </tr>\n",
              "    <tr>\n",
              "      <th>3</th>\n",
              "      <td>U001</td>\n",
              "      <td>0200434439</td>\n",
              "      <td>BAUGH SU co</td>\n",
              "      <td>2019-04-15 00:00:00</td>\n",
              "      <td>2019.0</td>\n",
              "      <td>1.929042e+09</td>\n",
              "      <td>2019-03-29</td>\n",
              "      <td>20190328</td>\n",
              "      <td>20190329</td>\n",
              "      <td>20190413.0</td>\n",
              "      <td>USD</td>\n",
              "      <td>RV</td>\n",
              "      <td>1.0</td>\n",
              "      <td>NaN</td>\n",
              "      <td>14523.30</td>\n",
              "      <td>20190329.0</td>\n",
              "      <td>NAA8</td>\n",
              "      <td>1.929042e+09</td>\n",
              "      <td>0</td>\n",
              "    </tr>\n",
              "    <tr>\n",
              "      <th>4</th>\n",
              "      <td>CA02</td>\n",
              "      <td>0140104423</td>\n",
              "      <td>METRO  trust</td>\n",
              "      <td>2019-03-01 00:00:00</td>\n",
              "      <td>2019.0</td>\n",
              "      <td>2.960530e+09</td>\n",
              "      <td>2019-02-21</td>\n",
              "      <td>20190221</td>\n",
              "      <td>20190221</td>\n",
              "      <td>20190304.0</td>\n",
              "      <td>CAD</td>\n",
              "      <td>RV</td>\n",
              "      <td>1.0</td>\n",
              "      <td>NaN</td>\n",
              "      <td>259024.26</td>\n",
              "      <td>20190222.0</td>\n",
              "      <td>CA10</td>\n",
              "      <td>2.960530e+09</td>\n",
              "      <td>0</td>\n",
              "    </tr>\n",
              "  </tbody>\n",
              "</table>\n",
              "</div>"
            ],
            "text/plain": [
              "  business_code cust_number  ...    invoice_id isOpen\n",
              "0          U001  0200769623  ...  1.929342e+09      0\n",
              "1          U001  0200759878  ...  1.929643e+09      0\n",
              "2          CA02  0140104472  ...  2.960606e+09      0\n",
              "3          U001  0200434439  ...  1.929042e+09      0\n",
              "4          CA02  0140104423  ...  2.960530e+09      0\n",
              "\n",
              "[5 rows x 19 columns]"
            ]
          },
          "metadata": {
            "tags": []
          },
          "execution_count": 5
        }
      ]
    },
    {
      "cell_type": "code",
      "metadata": {
        "colab": {
          "base_uri": "https://localhost:8080/"
        },
        "execution": {
          "iopub.execute_input": "2021-01-28T13:42:46.036462Z",
          "iopub.status.busy": "2021-01-28T13:42:46.036279Z",
          "iopub.status.idle": "2021-01-28T13:42:46.041983Z",
          "shell.execute_reply": "2021-01-28T13:42:46.041280Z",
          "shell.execute_reply.started": "2021-01-28T13:42:46.036444Z"
        },
        "id": "RFOz37sSHrRi",
        "outputId": "8c4c0965-72ed-4b54-d43e-2bfcf5b84d05"
      },
      "source": [
        "# Checking the datatype and dataframe shape\n",
        "print(df.dtypes)\n",
        "df.shape"
      ],
      "execution_count": 6,
      "outputs": [
        {
          "output_type": "stream",
          "text": [
            "business_code              object\n",
            "cust_number                object\n",
            "name_customer              object\n",
            "clear_date                 object\n",
            "buisness_year             float64\n",
            "doc_id                    float64\n",
            "posting_date               object\n",
            "document_create_date        int64\n",
            "document_create_date.1      int64\n",
            "due_in_date               float64\n",
            "invoice_currency           object\n",
            "document type              object\n",
            "posting_id                float64\n",
            "area_business             float64\n",
            "total_open_amount         float64\n",
            "baseline_create_date      float64\n",
            "cust_payment_terms         object\n",
            "invoice_id                float64\n",
            "isOpen                      int64\n",
            "dtype: object\n"
          ],
          "name": "stdout"
        },
        {
          "output_type": "execute_result",
          "data": {
            "text/plain": [
              "(50000, 19)"
            ]
          },
          "metadata": {
            "tags": []
          },
          "execution_count": 6
        }
      ]
    },
    {
      "cell_type": "code",
      "metadata": {
        "colab": {
          "base_uri": "https://localhost:8080/",
          "height": 257
        },
        "execution": {
          "iopub.execute_input": "2021-01-28T13:42:46.768102Z",
          "iopub.status.busy": "2021-01-28T13:42:46.767868Z",
          "iopub.status.idle": "2021-01-28T13:42:46.808020Z",
          "shell.execute_reply": "2021-01-28T13:42:46.807433Z",
          "shell.execute_reply.started": "2021-01-28T13:42:46.768081Z"
        },
        "id": "iTW8YMinHrRl",
        "outputId": "1aabdb85-c67f-4bcb-ee30-9f16b3c0b26e"
      },
      "source": [
        "# Converting all the date columns into datetime format\n",
        "df['document_create_date'] = pd.to_datetime(df['document_create_date'],format='%Y%m%d')\n",
        "df['document_create_date.1'] = pd.to_datetime(df['document_create_date.1'],format='%Y%m%d')\n",
        "df['clear_date'] = pd.to_datetime(df['clear_date'])\n",
        "df['clear_date'] = pd.to_datetime(df['clear_date'],format='%Y%m%d')\n",
        "df['posting_date'] = pd.to_datetime(df['posting_date'])\n",
        "df['posting_date'] = pd.to_datetime(df['posting_date'],format='%Y%m%d')\n",
        "df['due_in_date'] = df['due_in_date'].astype(int)\n",
        "df['baseline_create_date'] = df['baseline_create_date'].astype(int)\n",
        "df['due_in_date'] = pd.to_datetime(df['due_in_date'],format='%Y%m%d')\n",
        "df['baseline_create_date'] = pd.to_datetime(df['baseline_create_date'],format='%Y%m%d')\n",
        "df.head()"
      ],
      "execution_count": 7,
      "outputs": [
        {
          "output_type": "execute_result",
          "data": {
            "text/html": [
              "<div>\n",
              "<style scoped>\n",
              "    .dataframe tbody tr th:only-of-type {\n",
              "        vertical-align: middle;\n",
              "    }\n",
              "\n",
              "    .dataframe tbody tr th {\n",
              "        vertical-align: top;\n",
              "    }\n",
              "\n",
              "    .dataframe thead th {\n",
              "        text-align: right;\n",
              "    }\n",
              "</style>\n",
              "<table border=\"1\" class=\"dataframe\">\n",
              "  <thead>\n",
              "    <tr style=\"text-align: right;\">\n",
              "      <th></th>\n",
              "      <th>business_code</th>\n",
              "      <th>cust_number</th>\n",
              "      <th>name_customer</th>\n",
              "      <th>clear_date</th>\n",
              "      <th>buisness_year</th>\n",
              "      <th>doc_id</th>\n",
              "      <th>posting_date</th>\n",
              "      <th>document_create_date</th>\n",
              "      <th>document_create_date.1</th>\n",
              "      <th>due_in_date</th>\n",
              "      <th>invoice_currency</th>\n",
              "      <th>document type</th>\n",
              "      <th>posting_id</th>\n",
              "      <th>area_business</th>\n",
              "      <th>total_open_amount</th>\n",
              "      <th>baseline_create_date</th>\n",
              "      <th>cust_payment_terms</th>\n",
              "      <th>invoice_id</th>\n",
              "      <th>isOpen</th>\n",
              "    </tr>\n",
              "  </thead>\n",
              "  <tbody>\n",
              "    <tr>\n",
              "      <th>0</th>\n",
              "      <td>U001</td>\n",
              "      <td>0200769623</td>\n",
              "      <td>WAL-MAR associates</td>\n",
              "      <td>2019-05-29</td>\n",
              "      <td>2019.0</td>\n",
              "      <td>1.929342e+09</td>\n",
              "      <td>2019-05-18</td>\n",
              "      <td>2019-05-18</td>\n",
              "      <td>2019-05-18</td>\n",
              "      <td>2019-06-02</td>\n",
              "      <td>USD</td>\n",
              "      <td>RV</td>\n",
              "      <td>1.0</td>\n",
              "      <td>NaN</td>\n",
              "      <td>51659.25</td>\n",
              "      <td>2019-05-18</td>\n",
              "      <td>NAH4</td>\n",
              "      <td>1.929342e+09</td>\n",
              "      <td>0</td>\n",
              "    </tr>\n",
              "    <tr>\n",
              "      <th>1</th>\n",
              "      <td>U001</td>\n",
              "      <td>0200759878</td>\n",
              "      <td>SA systems</td>\n",
              "      <td>2019-08-05</td>\n",
              "      <td>2019.0</td>\n",
              "      <td>1.929643e+09</td>\n",
              "      <td>2019-07-20</td>\n",
              "      <td>2019-07-20</td>\n",
              "      <td>2019-07-20</td>\n",
              "      <td>2019-08-04</td>\n",
              "      <td>USD</td>\n",
              "      <td>RV</td>\n",
              "      <td>1.0</td>\n",
              "      <td>NaN</td>\n",
              "      <td>55509.15</td>\n",
              "      <td>2019-07-20</td>\n",
              "      <td>NAH4</td>\n",
              "      <td>1.929643e+09</td>\n",
              "      <td>0</td>\n",
              "    </tr>\n",
              "    <tr>\n",
              "      <th>2</th>\n",
              "      <td>CA02</td>\n",
              "      <td>0140104472</td>\n",
              "      <td>MARTIN co</td>\n",
              "      <td>2020-01-29</td>\n",
              "      <td>2020.0</td>\n",
              "      <td>2.960606e+09</td>\n",
              "      <td>2020-01-08</td>\n",
              "      <td>2020-01-08</td>\n",
              "      <td>2020-01-08</td>\n",
              "      <td>2020-01-25</td>\n",
              "      <td>CAD</td>\n",
              "      <td>RV</td>\n",
              "      <td>1.0</td>\n",
              "      <td>NaN</td>\n",
              "      <td>7845.12</td>\n",
              "      <td>2020-01-15</td>\n",
              "      <td>CA10</td>\n",
              "      <td>2.960606e+09</td>\n",
              "      <td>0</td>\n",
              "    </tr>\n",
              "    <tr>\n",
              "      <th>3</th>\n",
              "      <td>U001</td>\n",
              "      <td>0200434439</td>\n",
              "      <td>BAUGH SU co</td>\n",
              "      <td>2019-04-15</td>\n",
              "      <td>2019.0</td>\n",
              "      <td>1.929042e+09</td>\n",
              "      <td>2019-03-29</td>\n",
              "      <td>2019-03-28</td>\n",
              "      <td>2019-03-29</td>\n",
              "      <td>2019-04-13</td>\n",
              "      <td>USD</td>\n",
              "      <td>RV</td>\n",
              "      <td>1.0</td>\n",
              "      <td>NaN</td>\n",
              "      <td>14523.30</td>\n",
              "      <td>2019-03-29</td>\n",
              "      <td>NAA8</td>\n",
              "      <td>1.929042e+09</td>\n",
              "      <td>0</td>\n",
              "    </tr>\n",
              "    <tr>\n",
              "      <th>4</th>\n",
              "      <td>CA02</td>\n",
              "      <td>0140104423</td>\n",
              "      <td>METRO  trust</td>\n",
              "      <td>2019-03-01</td>\n",
              "      <td>2019.0</td>\n",
              "      <td>2.960530e+09</td>\n",
              "      <td>2019-02-21</td>\n",
              "      <td>2019-02-21</td>\n",
              "      <td>2019-02-21</td>\n",
              "      <td>2019-03-04</td>\n",
              "      <td>CAD</td>\n",
              "      <td>RV</td>\n",
              "      <td>1.0</td>\n",
              "      <td>NaN</td>\n",
              "      <td>259024.26</td>\n",
              "      <td>2019-02-22</td>\n",
              "      <td>CA10</td>\n",
              "      <td>2.960530e+09</td>\n",
              "      <td>0</td>\n",
              "    </tr>\n",
              "  </tbody>\n",
              "</table>\n",
              "</div>"
            ],
            "text/plain": [
              "  business_code cust_number  ...    invoice_id isOpen\n",
              "0          U001  0200769623  ...  1.929342e+09      0\n",
              "1          U001  0200759878  ...  1.929643e+09      0\n",
              "2          CA02  0140104472  ...  2.960606e+09      0\n",
              "3          U001  0200434439  ...  1.929042e+09      0\n",
              "4          CA02  0140104423  ...  2.960530e+09      0\n",
              "\n",
              "[5 rows x 19 columns]"
            ]
          },
          "metadata": {
            "tags": []
          },
          "execution_count": 7
        }
      ]
    },
    {
      "cell_type": "code",
      "metadata": {
        "colab": {
          "base_uri": "https://localhost:8080/"
        },
        "execution": {
          "iopub.execute_input": "2021-01-28T13:42:45.840525Z",
          "iopub.status.busy": "2021-01-28T13:42:45.840334Z",
          "iopub.status.idle": "2021-01-28T13:42:45.846251Z",
          "shell.execute_reply": "2021-01-28T13:42:45.845685Z",
          "shell.execute_reply.started": "2021-01-28T13:42:45.840506Z"
        },
        "id": "xqJhvaKOHrRe",
        "outputId": "4914a89e-dbd4-4f17-c894-ec20bec9ea00"
      },
      "source": [
        "# Checking the total number rows which has isOpen value as 1\n",
        "print(len(df.loc[df['isOpen'] == 1]))"
      ],
      "execution_count": 8,
      "outputs": [
        {
          "output_type": "stream",
          "text": [
            "4848\n"
          ],
          "name": "stdout"
        }
      ]
    },
    {
      "cell_type": "code",
      "metadata": {
        "colab": {
          "base_uri": "https://localhost:8080/"
        },
        "execution": {
          "iopub.execute_input": "2021-01-28T13:42:50.887280Z",
          "iopub.status.busy": "2021-01-28T13:42:50.887027Z",
          "iopub.status.idle": "2021-01-28T13:42:50.891920Z",
          "shell.execute_reply": "2021-01-28T13:42:50.891269Z",
          "shell.execute_reply.started": "2021-01-28T13:42:50.887258Z"
        },
        "id": "s9_THpwPHrRr",
        "outputId": "45fe457e-2a7b-4f66-dbe7-d18e1d490e40"
      },
      "source": [
        "# Checking the rows which has clear_date value as NaN \n",
        "df['clear_date'].isna().sum()"
      ],
      "execution_count": 9,
      "outputs": [
        {
          "output_type": "execute_result",
          "data": {
            "text/plain": [
              "4848"
            ]
          },
          "metadata": {
            "tags": []
          },
          "execution_count": 9
        }
      ]
    },
    {
      "cell_type": "code",
      "metadata": {
        "execution": {
          "iopub.execute_input": "2021-01-28T13:42:51.326541Z",
          "iopub.status.busy": "2021-01-28T13:42:51.326358Z",
          "iopub.status.idle": "2021-01-28T13:42:51.329817Z",
          "shell.execute_reply": "2021-01-28T13:42:51.329174Z",
          "shell.execute_reply.started": "2021-01-28T13:42:51.326523Z"
        },
        "id": "r_HpXjsvHrRu"
      },
      "source": [
        "# As the rows which has clear_date as NaN is present 45152 onwards and I already checked that.\n",
        "# So I will be splitting the dataframe into two and df_NaN will be used as Super Test Set at the end.\n",
        "df_NaN = df.iloc[45152:,:]\n",
        "df = df.iloc[:45152,:]"
      ],
      "execution_count": 10,
      "outputs": []
    },
    {
      "cell_type": "code",
      "metadata": {
        "colab": {
          "base_uri": "https://localhost:8080/"
        },
        "execution": {
          "iopub.execute_input": "2021-01-28T13:42:51.988067Z",
          "iopub.status.busy": "2021-01-28T13:42:51.987847Z",
          "iopub.status.idle": "2021-01-28T13:42:51.992522Z",
          "shell.execute_reply": "2021-01-28T13:42:51.991863Z",
          "shell.execute_reply.started": "2021-01-28T13:42:51.988046Z"
        },
        "id": "6goid-bVHrRv",
        "outputId": "bf7c04ad-2d30-448d-f511-413f01c5ecaf"
      },
      "source": [
        "# Now we check that there is no NaN values in clear_date column in our dataframe.\n",
        "df['clear_date'].isna().sum()"
      ],
      "execution_count": 11,
      "outputs": [
        {
          "output_type": "execute_result",
          "data": {
            "text/plain": [
              "0"
            ]
          },
          "metadata": {
            "tags": []
          },
          "execution_count": 11
        }
      ]
    },
    {
      "cell_type": "code",
      "metadata": {
        "colab": {
          "base_uri": "https://localhost:8080/"
        },
        "execution": {
          "iopub.execute_input": "2021-01-28T13:42:52.485427Z",
          "iopub.status.busy": "2021-01-28T13:42:52.485202Z",
          "iopub.status.idle": "2021-01-28T13:42:52.489380Z",
          "shell.execute_reply": "2021-01-28T13:42:52.488827Z",
          "shell.execute_reply.started": "2021-01-28T13:42:52.485406Z"
        },
        "id": "JsI_ZAtiHrRy",
        "outputId": "66c6cd11-fca7-461d-f638-65fd0f58cfbc"
      },
      "source": [
        "# Making a copy of the dataframe.\n",
        "df_copy = df\n",
        "df_copy.shape"
      ],
      "execution_count": 12,
      "outputs": [
        {
          "output_type": "execute_result",
          "data": {
            "text/plain": [
              "(45152, 19)"
            ]
          },
          "metadata": {
            "tags": []
          },
          "execution_count": 12
        }
      ]
    },
    {
      "cell_type": "code",
      "metadata": {
        "colab": {
          "base_uri": "https://localhost:8080/"
        },
        "execution": {
          "iopub.execute_input": "2021-01-28T13:42:52.764693Z",
          "iopub.status.busy": "2021-01-28T13:42:52.764488Z",
          "iopub.status.idle": "2021-01-28T13:42:52.778821Z",
          "shell.execute_reply": "2021-01-28T13:42:52.778261Z",
          "shell.execute_reply.started": "2021-01-28T13:42:52.764674Z"
        },
        "id": "35hTQMEGHrR1",
        "outputId": "51a80c13-727e-4946-a4dc-7f1d4f43abc9"
      },
      "source": [
        "# As we can see that area_business has only NaN values and posting_id has only 1 as its value.\n",
        "# And isOpen column has only 0 as its value. So we will drop these constant columns later in this notebook.\n",
        "print(df_copy['area_business'].describe())\n",
        "print(df_copy['posting_id'].describe())\n",
        "print()\n",
        "print(len(df_copy.loc[df_copy['isOpen'] == 1]))"
      ],
      "execution_count": 13,
      "outputs": [
        {
          "output_type": "stream",
          "text": [
            "count    0.0\n",
            "mean     NaN\n",
            "std      NaN\n",
            "min      NaN\n",
            "25%      NaN\n",
            "50%      NaN\n",
            "75%      NaN\n",
            "max      NaN\n",
            "Name: area_business, dtype: float64\n",
            "count    45152.0\n",
            "mean         1.0\n",
            "std          0.0\n",
            "min          1.0\n",
            "25%          1.0\n",
            "50%          1.0\n",
            "75%          1.0\n",
            "max          1.0\n",
            "Name: posting_id, dtype: float64\n",
            "\n",
            "0\n"
          ],
          "name": "stdout"
        }
      ]
    },
    {
      "cell_type": "code",
      "metadata": {
        "colab": {
          "base_uri": "https://localhost:8080/"
        },
        "id": "Epwk2azqICqY",
        "outputId": "2b537bba-1b16-4f2b-eb46-49b2b75e0970"
      },
      "source": [
        "# Checking if there is any negative amount to be paid as it will be an anomaly.\n",
        "len(df_copy.loc[(df_copy['total_open_amount'] < 0)])"
      ],
      "execution_count": 14,
      "outputs": [
        {
          "output_type": "execute_result",
          "data": {
            "text/plain": [
              "0"
            ]
          },
          "metadata": {
            "tags": []
          },
          "execution_count": 14
        }
      ]
    },
    {
      "cell_type": "code",
      "metadata": {
        "colab": {
          "base_uri": "https://localhost:8080/"
        },
        "execution": {
          "iopub.execute_input": "2021-01-28T13:42:55.673454Z",
          "iopub.status.busy": "2021-01-28T13:42:55.673212Z",
          "iopub.status.idle": "2021-01-28T13:42:55.680983Z",
          "shell.execute_reply": "2021-01-28T13:42:55.680403Z",
          "shell.execute_reply.started": "2021-01-28T13:42:55.673433Z"
        },
        "id": "_SEcdbpyHrR6",
        "outputId": "048d31d6-82a7-41ab-d39b-c6519a7772aa"
      },
      "source": [
        "# As shown earlier isOpen has only 0 as its value. So doing a double check.\n",
        "df_copy['isOpen'].describe()"
      ],
      "execution_count": 15,
      "outputs": [
        {
          "output_type": "execute_result",
          "data": {
            "text/plain": [
              "count    45152.0\n",
              "mean         0.0\n",
              "std          0.0\n",
              "min          0.0\n",
              "25%          0.0\n",
              "50%          0.0\n",
              "75%          0.0\n",
              "max          0.0\n",
              "Name: isOpen, dtype: float64"
            ]
          },
          "metadata": {
            "tags": []
          },
          "execution_count": 15
        }
      ]
    },
    {
      "cell_type": "code",
      "metadata": {
        "colab": {
          "base_uri": "https://localhost:8080/",
          "height": 470
        },
        "execution": {
          "iopub.execute_input": "2021-01-28T13:43:01.557507Z",
          "iopub.status.busy": "2021-01-28T13:43:01.557235Z",
          "iopub.status.idle": "2021-01-28T13:43:01.586806Z",
          "shell.execute_reply": "2021-01-28T13:43:01.586186Z",
          "shell.execute_reply.started": "2021-01-28T13:43:01.557485Z"
        },
        "id": "_Z1-GC6tHrSA",
        "outputId": "c0babb26-3deb-4461-8e66-35f98d0b24d7"
      },
      "source": [
        "# Since there is two document_create_date column but we can see that some values of document_create_date.1 is greater than document_create_date\n",
        "# So we will keep this column and remove document_create_date column.\n",
        "df_copy.loc[(df_copy['document_create_date'] <= df_copy['document_create_date.1'])]"
      ],
      "execution_count": 16,
      "outputs": [
        {
          "output_type": "execute_result",
          "data": {
            "text/html": [
              "<div>\n",
              "<style scoped>\n",
              "    .dataframe tbody tr th:only-of-type {\n",
              "        vertical-align: middle;\n",
              "    }\n",
              "\n",
              "    .dataframe tbody tr th {\n",
              "        vertical-align: top;\n",
              "    }\n",
              "\n",
              "    .dataframe thead th {\n",
              "        text-align: right;\n",
              "    }\n",
              "</style>\n",
              "<table border=\"1\" class=\"dataframe\">\n",
              "  <thead>\n",
              "    <tr style=\"text-align: right;\">\n",
              "      <th></th>\n",
              "      <th>business_code</th>\n",
              "      <th>cust_number</th>\n",
              "      <th>name_customer</th>\n",
              "      <th>clear_date</th>\n",
              "      <th>buisness_year</th>\n",
              "      <th>doc_id</th>\n",
              "      <th>posting_date</th>\n",
              "      <th>document_create_date</th>\n",
              "      <th>document_create_date.1</th>\n",
              "      <th>due_in_date</th>\n",
              "      <th>invoice_currency</th>\n",
              "      <th>document type</th>\n",
              "      <th>posting_id</th>\n",
              "      <th>area_business</th>\n",
              "      <th>total_open_amount</th>\n",
              "      <th>baseline_create_date</th>\n",
              "      <th>cust_payment_terms</th>\n",
              "      <th>invoice_id</th>\n",
              "      <th>isOpen</th>\n",
              "    </tr>\n",
              "  </thead>\n",
              "  <tbody>\n",
              "    <tr>\n",
              "      <th>0</th>\n",
              "      <td>U001</td>\n",
              "      <td>0200769623</td>\n",
              "      <td>WAL-MAR associates</td>\n",
              "      <td>2019-05-29</td>\n",
              "      <td>2019.0</td>\n",
              "      <td>1.929342e+09</td>\n",
              "      <td>2019-05-18</td>\n",
              "      <td>2019-05-18</td>\n",
              "      <td>2019-05-18</td>\n",
              "      <td>2019-06-02</td>\n",
              "      <td>USD</td>\n",
              "      <td>RV</td>\n",
              "      <td>1.0</td>\n",
              "      <td>NaN</td>\n",
              "      <td>51659.25</td>\n",
              "      <td>2019-05-18</td>\n",
              "      <td>NAH4</td>\n",
              "      <td>1.929342e+09</td>\n",
              "      <td>0</td>\n",
              "    </tr>\n",
              "    <tr>\n",
              "      <th>1</th>\n",
              "      <td>U001</td>\n",
              "      <td>0200759878</td>\n",
              "      <td>SA systems</td>\n",
              "      <td>2019-08-05</td>\n",
              "      <td>2019.0</td>\n",
              "      <td>1.929643e+09</td>\n",
              "      <td>2019-07-20</td>\n",
              "      <td>2019-07-20</td>\n",
              "      <td>2019-07-20</td>\n",
              "      <td>2019-08-04</td>\n",
              "      <td>USD</td>\n",
              "      <td>RV</td>\n",
              "      <td>1.0</td>\n",
              "      <td>NaN</td>\n",
              "      <td>55509.15</td>\n",
              "      <td>2019-07-20</td>\n",
              "      <td>NAH4</td>\n",
              "      <td>1.929643e+09</td>\n",
              "      <td>0</td>\n",
              "    </tr>\n",
              "    <tr>\n",
              "      <th>2</th>\n",
              "      <td>CA02</td>\n",
              "      <td>0140104472</td>\n",
              "      <td>MARTIN co</td>\n",
              "      <td>2020-01-29</td>\n",
              "      <td>2020.0</td>\n",
              "      <td>2.960606e+09</td>\n",
              "      <td>2020-01-08</td>\n",
              "      <td>2020-01-08</td>\n",
              "      <td>2020-01-08</td>\n",
              "      <td>2020-01-25</td>\n",
              "      <td>CAD</td>\n",
              "      <td>RV</td>\n",
              "      <td>1.0</td>\n",
              "      <td>NaN</td>\n",
              "      <td>7845.12</td>\n",
              "      <td>2020-01-15</td>\n",
              "      <td>CA10</td>\n",
              "      <td>2.960606e+09</td>\n",
              "      <td>0</td>\n",
              "    </tr>\n",
              "    <tr>\n",
              "      <th>3</th>\n",
              "      <td>U001</td>\n",
              "      <td>0200434439</td>\n",
              "      <td>BAUGH SU co</td>\n",
              "      <td>2019-04-15</td>\n",
              "      <td>2019.0</td>\n",
              "      <td>1.929042e+09</td>\n",
              "      <td>2019-03-29</td>\n",
              "      <td>2019-03-28</td>\n",
              "      <td>2019-03-29</td>\n",
              "      <td>2019-04-13</td>\n",
              "      <td>USD</td>\n",
              "      <td>RV</td>\n",
              "      <td>1.0</td>\n",
              "      <td>NaN</td>\n",
              "      <td>14523.30</td>\n",
              "      <td>2019-03-29</td>\n",
              "      <td>NAA8</td>\n",
              "      <td>1.929042e+09</td>\n",
              "      <td>0</td>\n",
              "    </tr>\n",
              "    <tr>\n",
              "      <th>4</th>\n",
              "      <td>CA02</td>\n",
              "      <td>0140104423</td>\n",
              "      <td>METRO  trust</td>\n",
              "      <td>2019-03-01</td>\n",
              "      <td>2019.0</td>\n",
              "      <td>2.960530e+09</td>\n",
              "      <td>2019-02-21</td>\n",
              "      <td>2019-02-21</td>\n",
              "      <td>2019-02-21</td>\n",
              "      <td>2019-03-04</td>\n",
              "      <td>CAD</td>\n",
              "      <td>RV</td>\n",
              "      <td>1.0</td>\n",
              "      <td>NaN</td>\n",
              "      <td>259024.26</td>\n",
              "      <td>2019-02-22</td>\n",
              "      <td>CA10</td>\n",
              "      <td>2.960530e+09</td>\n",
              "      <td>0</td>\n",
              "    </tr>\n",
              "    <tr>\n",
              "      <th>...</th>\n",
              "      <td>...</td>\n",
              "      <td>...</td>\n",
              "      <td>...</td>\n",
              "      <td>...</td>\n",
              "      <td>...</td>\n",
              "      <td>...</td>\n",
              "      <td>...</td>\n",
              "      <td>...</td>\n",
              "      <td>...</td>\n",
              "      <td>...</td>\n",
              "      <td>...</td>\n",
              "      <td>...</td>\n",
              "      <td>...</td>\n",
              "      <td>...</td>\n",
              "      <td>...</td>\n",
              "      <td>...</td>\n",
              "      <td>...</td>\n",
              "      <td>...</td>\n",
              "      <td>...</td>\n",
              "    </tr>\n",
              "    <tr>\n",
              "      <th>45146</th>\n",
              "      <td>U001</td>\n",
              "      <td>0200780825</td>\n",
              "      <td>SYSCO FO llc</td>\n",
              "      <td>2019-06-21</td>\n",
              "      <td>2019.0</td>\n",
              "      <td>1.929210e+09</td>\n",
              "      <td>2019-05-02</td>\n",
              "      <td>2019-04-25</td>\n",
              "      <td>2019-05-02</td>\n",
              "      <td>2019-05-22</td>\n",
              "      <td>USD</td>\n",
              "      <td>RV</td>\n",
              "      <td>1.0</td>\n",
              "      <td>NaN</td>\n",
              "      <td>1111.07</td>\n",
              "      <td>2019-05-02</td>\n",
              "      <td>NAD1</td>\n",
              "      <td>1.929210e+09</td>\n",
              "      <td>0</td>\n",
              "    </tr>\n",
              "    <tr>\n",
              "      <th>45147</th>\n",
              "      <td>U001</td>\n",
              "      <td>0200769623</td>\n",
              "      <td>WAL-MAR co</td>\n",
              "      <td>2019-08-21</td>\n",
              "      <td>2019.0</td>\n",
              "      <td>1.929714e+09</td>\n",
              "      <td>2019-08-10</td>\n",
              "      <td>2019-08-09</td>\n",
              "      <td>2019-08-10</td>\n",
              "      <td>2019-08-25</td>\n",
              "      <td>USD</td>\n",
              "      <td>RV</td>\n",
              "      <td>1.0</td>\n",
              "      <td>NaN</td>\n",
              "      <td>13616.72</td>\n",
              "      <td>2019-08-10</td>\n",
              "      <td>NAH4</td>\n",
              "      <td>1.929714e+09</td>\n",
              "      <td>0</td>\n",
              "    </tr>\n",
              "    <tr>\n",
              "      <th>45149</th>\n",
              "      <td>U001</td>\n",
              "      <td>0200418007</td>\n",
              "      <td>AM</td>\n",
              "      <td>2019-05-31</td>\n",
              "      <td>2019.0</td>\n",
              "      <td>1.929317e+09</td>\n",
              "      <td>2019-05-16</td>\n",
              "      <td>2019-05-14</td>\n",
              "      <td>2019-05-16</td>\n",
              "      <td>2019-08-14</td>\n",
              "      <td>USD</td>\n",
              "      <td>RV</td>\n",
              "      <td>1.0</td>\n",
              "      <td>NaN</td>\n",
              "      <td>6256.32</td>\n",
              "      <td>2019-05-16</td>\n",
              "      <td>NAVR</td>\n",
              "      <td>1.929317e+09</td>\n",
              "      <td>0</td>\n",
              "    </tr>\n",
              "    <tr>\n",
              "      <th>45150</th>\n",
              "      <td>U001</td>\n",
              "      <td>0200186937</td>\n",
              "      <td>SYSC trust</td>\n",
              "      <td>2020-02-07</td>\n",
              "      <td>2020.0</td>\n",
              "      <td>1.930397e+09</td>\n",
              "      <td>2020-01-14</td>\n",
              "      <td>2020-01-14</td>\n",
              "      <td>2020-01-14</td>\n",
              "      <td>2020-02-03</td>\n",
              "      <td>USD</td>\n",
              "      <td>RV</td>\n",
              "      <td>1.0</td>\n",
              "      <td>NaN</td>\n",
              "      <td>42515.06</td>\n",
              "      <td>2020-01-14</td>\n",
              "      <td>NAD1</td>\n",
              "      <td>1.930397e+09</td>\n",
              "      <td>0</td>\n",
              "    </tr>\n",
              "    <tr>\n",
              "      <th>45151</th>\n",
              "      <td>U001</td>\n",
              "      <td>0200743123</td>\n",
              "      <td>KROGER corp</td>\n",
              "      <td>2019-10-24</td>\n",
              "      <td>2019.0</td>\n",
              "      <td>1.929989e+09</td>\n",
              "      <td>2019-10-09</td>\n",
              "      <td>2019-10-08</td>\n",
              "      <td>2019-10-09</td>\n",
              "      <td>2019-10-24</td>\n",
              "      <td>USD</td>\n",
              "      <td>RV</td>\n",
              "      <td>1.0</td>\n",
              "      <td>NaN</td>\n",
              "      <td>122673.09</td>\n",
              "      <td>2019-10-09</td>\n",
              "      <td>NAA8</td>\n",
              "      <td>1.929989e+09</td>\n",
              "      <td>0</td>\n",
              "    </tr>\n",
              "  </tbody>\n",
              "</table>\n",
              "<p>41890 rows × 19 columns</p>\n",
              "</div>"
            ],
            "text/plain": [
              "      business_code cust_number  ...    invoice_id isOpen\n",
              "0              U001  0200769623  ...  1.929342e+09      0\n",
              "1              U001  0200759878  ...  1.929643e+09      0\n",
              "2              CA02  0140104472  ...  2.960606e+09      0\n",
              "3              U001  0200434439  ...  1.929042e+09      0\n",
              "4              CA02  0140104423  ...  2.960530e+09      0\n",
              "...             ...         ...  ...           ...    ...\n",
              "45146          U001  0200780825  ...  1.929210e+09      0\n",
              "45147          U001  0200769623  ...  1.929714e+09      0\n",
              "45149          U001  0200418007  ...  1.929317e+09      0\n",
              "45150          U001  0200186937  ...  1.930397e+09      0\n",
              "45151          U001  0200743123  ...  1.929989e+09      0\n",
              "\n",
              "[41890 rows x 19 columns]"
            ]
          },
          "metadata": {
            "tags": []
          },
          "execution_count": 16
        }
      ]
    },
    {
      "cell_type": "code",
      "metadata": {
        "execution": {
          "iopub.execute_input": "2021-01-28T13:42:57.963818Z",
          "iopub.status.busy": "2021-01-28T13:42:57.963592Z",
          "iopub.status.idle": "2021-01-28T13:42:57.971606Z",
          "shell.execute_reply": "2021-01-28T13:42:57.971064Z",
          "shell.execute_reply.started": "2021-01-28T13:42:57.963797Z"
        },
        "id": "ahHiH7JcHrR8"
      },
      "source": [
        "# Dropping the columns which I mentioned earlier.\n",
        "df_copy.drop(['area_business', 'posting_id', 'isOpen', 'document_create_date'], axis=1, inplace=True)"
      ],
      "execution_count": 17,
      "outputs": []
    },
    {
      "cell_type": "code",
      "metadata": {
        "id": "XV3epnjoLyLH"
      },
      "source": [
        "# Sorting the dataset on the basis of document_create_date.1\n",
        "df_copy = df_copy.sort_values(['document_create_date.1'], ascending = (True))"
      ],
      "execution_count": 18,
      "outputs": []
    },
    {
      "cell_type": "code",
      "metadata": {
        "execution": {
          "iopub.execute_input": "2021-01-28T13:42:58.795957Z",
          "iopub.status.busy": "2021-01-28T13:42:58.795744Z",
          "iopub.status.idle": "2021-01-28T13:42:58.800018Z",
          "shell.execute_reply": "2021-01-28T13:42:58.799387Z",
          "shell.execute_reply.started": "2021-01-28T13:42:58.795937Z"
        },
        "id": "LReXFr2JHrR-"
      },
      "source": [
        "# Reseting the index.\n",
        "df_copy.reset_index(drop=True, inplace=True)"
      ],
      "execution_count": 19,
      "outputs": []
    },
    {
      "cell_type": "code",
      "metadata": {
        "colab": {
          "base_uri": "https://localhost:8080/",
          "height": 195
        },
        "id": "QQ54LtCFNIk5",
        "outputId": "aba1f5ad-1444-46e9-b7c6-77e4fe19cf15"
      },
      "source": [
        "# I found that only 3 values of posting_date is different from document_create_date.1.\n",
        "# Rest entire posting_date column is same as document_create_date.1.\n",
        "df_copy.loc[(df_copy['posting_date'] != df_copy['document_create_date.1'])]"
      ],
      "execution_count": 20,
      "outputs": [
        {
          "output_type": "execute_result",
          "data": {
            "text/html": [
              "<div>\n",
              "<style scoped>\n",
              "    .dataframe tbody tr th:only-of-type {\n",
              "        vertical-align: middle;\n",
              "    }\n",
              "\n",
              "    .dataframe tbody tr th {\n",
              "        vertical-align: top;\n",
              "    }\n",
              "\n",
              "    .dataframe thead th {\n",
              "        text-align: right;\n",
              "    }\n",
              "</style>\n",
              "<table border=\"1\" class=\"dataframe\">\n",
              "  <thead>\n",
              "    <tr style=\"text-align: right;\">\n",
              "      <th></th>\n",
              "      <th>business_code</th>\n",
              "      <th>cust_number</th>\n",
              "      <th>name_customer</th>\n",
              "      <th>clear_date</th>\n",
              "      <th>buisness_year</th>\n",
              "      <th>doc_id</th>\n",
              "      <th>posting_date</th>\n",
              "      <th>document_create_date.1</th>\n",
              "      <th>due_in_date</th>\n",
              "      <th>invoice_currency</th>\n",
              "      <th>document type</th>\n",
              "      <th>total_open_amount</th>\n",
              "      <th>baseline_create_date</th>\n",
              "      <th>cust_payment_terms</th>\n",
              "      <th>invoice_id</th>\n",
              "    </tr>\n",
              "  </thead>\n",
              "  <tbody>\n",
              "    <tr>\n",
              "      <th>6999</th>\n",
              "      <td>CA02</td>\n",
              "      <td>0140106054</td>\n",
              "      <td>TREE  us</td>\n",
              "      <td>2019-05-31</td>\n",
              "      <td>2019.0</td>\n",
              "      <td>9.500000e+09</td>\n",
              "      <td>2019-03-29</td>\n",
              "      <td>2019-03-06</td>\n",
              "      <td>2019-03-16</td>\n",
              "      <td>CAD</td>\n",
              "      <td>X2</td>\n",
              "      <td>1570.59</td>\n",
              "      <td>2019-03-06</td>\n",
              "      <td>CA10</td>\n",
              "      <td>NaN</td>\n",
              "    </tr>\n",
              "    <tr>\n",
              "      <th>7855</th>\n",
              "      <td>CA02</td>\n",
              "      <td>0140104409</td>\n",
              "      <td>LOB trust</td>\n",
              "      <td>2019-05-22</td>\n",
              "      <td>2019.0</td>\n",
              "      <td>9.500000e+09</td>\n",
              "      <td>2019-03-29</td>\n",
              "      <td>2019-03-14</td>\n",
              "      <td>2019-03-24</td>\n",
              "      <td>CAD</td>\n",
              "      <td>X2</td>\n",
              "      <td>542.00</td>\n",
              "      <td>2019-03-14</td>\n",
              "      <td>CA10</td>\n",
              "      <td>NaN</td>\n",
              "    </tr>\n",
              "    <tr>\n",
              "      <th>9784</th>\n",
              "      <td>CA02</td>\n",
              "      <td>0140104223</td>\n",
              "      <td>H Y LO corporation</td>\n",
              "      <td>2019-05-08</td>\n",
              "      <td>2019.0</td>\n",
              "      <td>9.500000e+09</td>\n",
              "      <td>2019-04-30</td>\n",
              "      <td>2019-03-29</td>\n",
              "      <td>2019-04-08</td>\n",
              "      <td>CAD</td>\n",
              "      <td>X2</td>\n",
              "      <td>27816.00</td>\n",
              "      <td>2019-03-29</td>\n",
              "      <td>CA10</td>\n",
              "      <td>NaN</td>\n",
              "    </tr>\n",
              "  </tbody>\n",
              "</table>\n",
              "</div>"
            ],
            "text/plain": [
              "     business_code cust_number  ... cust_payment_terms invoice_id\n",
              "6999          CA02  0140106054  ...               CA10        NaN\n",
              "7855          CA02  0140104409  ...               CA10        NaN\n",
              "9784          CA02  0140104223  ...               CA10        NaN\n",
              "\n",
              "[3 rows x 15 columns]"
            ]
          },
          "metadata": {
            "tags": []
          },
          "execution_count": 20
        }
      ]
    },
    {
      "cell_type": "code",
      "metadata": {
        "colab": {
          "base_uri": "https://localhost:8080/",
          "height": 195
        },
        "id": "mP7GvEyKPCZP",
        "outputId": "38dd2f62-538a-4a1c-ac84-8258453d0cb9"
      },
      "source": [
        "# I found that only 3 values of doc_id is different from invoice_id.\n",
        "# Rest entire doc_id column is same as invoice_id.\n",
        "df_copy.loc[(df_copy['doc_id'] != df_copy['invoice_id'])]"
      ],
      "execution_count": 21,
      "outputs": [
        {
          "output_type": "execute_result",
          "data": {
            "text/html": [
              "<div>\n",
              "<style scoped>\n",
              "    .dataframe tbody tr th:only-of-type {\n",
              "        vertical-align: middle;\n",
              "    }\n",
              "\n",
              "    .dataframe tbody tr th {\n",
              "        vertical-align: top;\n",
              "    }\n",
              "\n",
              "    .dataframe thead th {\n",
              "        text-align: right;\n",
              "    }\n",
              "</style>\n",
              "<table border=\"1\" class=\"dataframe\">\n",
              "  <thead>\n",
              "    <tr style=\"text-align: right;\">\n",
              "      <th></th>\n",
              "      <th>business_code</th>\n",
              "      <th>cust_number</th>\n",
              "      <th>name_customer</th>\n",
              "      <th>clear_date</th>\n",
              "      <th>buisness_year</th>\n",
              "      <th>doc_id</th>\n",
              "      <th>posting_date</th>\n",
              "      <th>document_create_date.1</th>\n",
              "      <th>due_in_date</th>\n",
              "      <th>invoice_currency</th>\n",
              "      <th>document type</th>\n",
              "      <th>total_open_amount</th>\n",
              "      <th>baseline_create_date</th>\n",
              "      <th>cust_payment_terms</th>\n",
              "      <th>invoice_id</th>\n",
              "    </tr>\n",
              "  </thead>\n",
              "  <tbody>\n",
              "    <tr>\n",
              "      <th>6999</th>\n",
              "      <td>CA02</td>\n",
              "      <td>0140106054</td>\n",
              "      <td>TREE  us</td>\n",
              "      <td>2019-05-31</td>\n",
              "      <td>2019.0</td>\n",
              "      <td>9.500000e+09</td>\n",
              "      <td>2019-03-29</td>\n",
              "      <td>2019-03-06</td>\n",
              "      <td>2019-03-16</td>\n",
              "      <td>CAD</td>\n",
              "      <td>X2</td>\n",
              "      <td>1570.59</td>\n",
              "      <td>2019-03-06</td>\n",
              "      <td>CA10</td>\n",
              "      <td>NaN</td>\n",
              "    </tr>\n",
              "    <tr>\n",
              "      <th>7855</th>\n",
              "      <td>CA02</td>\n",
              "      <td>0140104409</td>\n",
              "      <td>LOB trust</td>\n",
              "      <td>2019-05-22</td>\n",
              "      <td>2019.0</td>\n",
              "      <td>9.500000e+09</td>\n",
              "      <td>2019-03-29</td>\n",
              "      <td>2019-03-14</td>\n",
              "      <td>2019-03-24</td>\n",
              "      <td>CAD</td>\n",
              "      <td>X2</td>\n",
              "      <td>542.00</td>\n",
              "      <td>2019-03-14</td>\n",
              "      <td>CA10</td>\n",
              "      <td>NaN</td>\n",
              "    </tr>\n",
              "    <tr>\n",
              "      <th>9784</th>\n",
              "      <td>CA02</td>\n",
              "      <td>0140104223</td>\n",
              "      <td>H Y LO corporation</td>\n",
              "      <td>2019-05-08</td>\n",
              "      <td>2019.0</td>\n",
              "      <td>9.500000e+09</td>\n",
              "      <td>2019-04-30</td>\n",
              "      <td>2019-03-29</td>\n",
              "      <td>2019-04-08</td>\n",
              "      <td>CAD</td>\n",
              "      <td>X2</td>\n",
              "      <td>27816.00</td>\n",
              "      <td>2019-03-29</td>\n",
              "      <td>CA10</td>\n",
              "      <td>NaN</td>\n",
              "    </tr>\n",
              "  </tbody>\n",
              "</table>\n",
              "</div>"
            ],
            "text/plain": [
              "     business_code cust_number  ... cust_payment_terms invoice_id\n",
              "6999          CA02  0140106054  ...               CA10        NaN\n",
              "7855          CA02  0140104409  ...               CA10        NaN\n",
              "9784          CA02  0140104223  ...               CA10        NaN\n",
              "\n",
              "[3 rows x 15 columns]"
            ]
          },
          "metadata": {
            "tags": []
          },
          "execution_count": 21
        }
      ]
    },
    {
      "cell_type": "code",
      "metadata": {
        "id": "-8s3-XBUWpng"
      },
      "source": [
        "# Dropping the duplicate columns which I just found out.\n",
        "df_copy.drop(['posting_date', 'invoice_id'], axis=1, inplace=True)"
      ],
      "execution_count": 22,
      "outputs": []
    },
    {
      "cell_type": "markdown",
      "metadata": {
        "id": "EbpZktHjYV4i"
      },
      "source": [
        "### Dropping Anomalies from dataset\n",
        "As we know doc create date <= posting date <= baseline date < due date <= clearing date.\n",
        "Dropping all those records which does not follow above rule."
      ]
    },
    {
      "cell_type": "code",
      "metadata": {
        "colab": {
          "base_uri": "https://localhost:8080/"
        },
        "id": "0C9R5knrNIzU",
        "outputId": "a53e2dbf-efc9-4c73-fea8-835c2702dc1a"
      },
      "source": [
        "print((df_copy['document_create_date.1'] > df_copy['baseline_create_date']).sum())\n",
        "idx = df_copy.index[df_copy['document_create_date.1'] > df_copy['baseline_create_date']].tolist()\n",
        "df_copy.drop(idx, inplace=True)"
      ],
      "execution_count": 23,
      "outputs": [
        {
          "output_type": "stream",
          "text": [
            "2004\n"
          ],
          "name": "stdout"
        }
      ]
    },
    {
      "cell_type": "code",
      "metadata": {
        "colab": {
          "base_uri": "https://localhost:8080/"
        },
        "id": "iYQ50S0jNI4N",
        "outputId": "ea0223cb-9ae1-4b1f-f7cb-a232bb2c8222"
      },
      "source": [
        "print((df_copy['document_create_date.1'] > df_copy['due_in_date']).sum())\n",
        "idx = df_copy.index[df_copy['document_create_date.1'] > df_copy['due_in_date']].tolist()\n",
        "df_copy.drop(idx, inplace=True)"
      ],
      "execution_count": 24,
      "outputs": [
        {
          "output_type": "stream",
          "text": [
            "0\n"
          ],
          "name": "stdout"
        }
      ]
    },
    {
      "cell_type": "code",
      "metadata": {
        "colab": {
          "base_uri": "https://localhost:8080/"
        },
        "id": "0mTBnzDiYECz",
        "outputId": "50676ffd-545e-4da9-8783-932c0c3832fd"
      },
      "source": [
        "print((df_copy['document_create_date.1'] > df_copy['clear_date']).sum())"
      ],
      "execution_count": 25,
      "outputs": [
        {
          "output_type": "stream",
          "text": [
            "0\n"
          ],
          "name": "stdout"
        }
      ]
    },
    {
      "cell_type": "code",
      "metadata": {
        "colab": {
          "base_uri": "https://localhost:8080/"
        },
        "id": "SoawSx2uYEJs",
        "outputId": "ba9af264-01c1-4f7f-a077-471a8afa0759"
      },
      "source": [
        "print((df_copy['baseline_create_date'] >= df_copy['due_in_date']).sum())\n",
        "idx = df_copy.index[df_copy['baseline_create_date'] >= df_copy['due_in_date']].tolist()\n",
        "df_copy.drop(idx, inplace=True)"
      ],
      "execution_count": 26,
      "outputs": [
        {
          "output_type": "stream",
          "text": [
            "682\n"
          ],
          "name": "stdout"
        }
      ]
    },
    {
      "cell_type": "code",
      "metadata": {
        "colab": {
          "base_uri": "https://localhost:8080/"
        },
        "id": "zNUij3tlYENd",
        "outputId": "485b7424-045e-4bdc-c608-42cd3f8b4678"
      },
      "source": [
        "print((df_copy['baseline_create_date'] >= df_copy['clear_date']).sum())\n",
        "idx = df_copy.index[df_copy['baseline_create_date'] >= df_copy['clear_date']].tolist()\n",
        "df_copy.drop(idx, inplace=True)"
      ],
      "execution_count": 27,
      "outputs": [
        {
          "output_type": "stream",
          "text": [
            "51\n"
          ],
          "name": "stdout"
        }
      ]
    },
    {
      "cell_type": "code",
      "metadata": {
        "colab": {
          "base_uri": "https://localhost:8080/",
          "height": 291
        },
        "id": "2al8sIhLYER7",
        "outputId": "6fa6de7f-158f-45eb-b38b-126e98113af3"
      },
      "source": [
        "# Checking the shape of dataframe and seeing the top 5 records of dataframe\n",
        "print(df_copy.shape)\n",
        "df_copy.head()"
      ],
      "execution_count": 28,
      "outputs": [
        {
          "output_type": "stream",
          "text": [
            "(42415, 13)\n"
          ],
          "name": "stdout"
        },
        {
          "output_type": "execute_result",
          "data": {
            "text/html": [
              "<div>\n",
              "<style scoped>\n",
              "    .dataframe tbody tr th:only-of-type {\n",
              "        vertical-align: middle;\n",
              "    }\n",
              "\n",
              "    .dataframe tbody tr th {\n",
              "        vertical-align: top;\n",
              "    }\n",
              "\n",
              "    .dataframe thead th {\n",
              "        text-align: right;\n",
              "    }\n",
              "</style>\n",
              "<table border=\"1\" class=\"dataframe\">\n",
              "  <thead>\n",
              "    <tr style=\"text-align: right;\">\n",
              "      <th></th>\n",
              "      <th>business_code</th>\n",
              "      <th>cust_number</th>\n",
              "      <th>name_customer</th>\n",
              "      <th>clear_date</th>\n",
              "      <th>buisness_year</th>\n",
              "      <th>doc_id</th>\n",
              "      <th>document_create_date.1</th>\n",
              "      <th>due_in_date</th>\n",
              "      <th>invoice_currency</th>\n",
              "      <th>document type</th>\n",
              "      <th>total_open_amount</th>\n",
              "      <th>baseline_create_date</th>\n",
              "      <th>cust_payment_terms</th>\n",
              "    </tr>\n",
              "  </thead>\n",
              "  <tbody>\n",
              "    <tr>\n",
              "      <th>0</th>\n",
              "      <td>U001</td>\n",
              "      <td>0200769623</td>\n",
              "      <td>WAL-MAR us</td>\n",
              "      <td>2019-01-10</td>\n",
              "      <td>2019.0</td>\n",
              "      <td>1.928544e+09</td>\n",
              "      <td>2018-12-30</td>\n",
              "      <td>2019-01-14</td>\n",
              "      <td>USD</td>\n",
              "      <td>RV</td>\n",
              "      <td>10831.45</td>\n",
              "      <td>2018-12-30</td>\n",
              "      <td>NAH4</td>\n",
              "    </tr>\n",
              "    <tr>\n",
              "      <th>1</th>\n",
              "      <td>U001</td>\n",
              "      <td>0200769623</td>\n",
              "      <td>WAL-MAR llc</td>\n",
              "      <td>2019-01-10</td>\n",
              "      <td>2019.0</td>\n",
              "      <td>1.928544e+09</td>\n",
              "      <td>2018-12-30</td>\n",
              "      <td>2019-01-14</td>\n",
              "      <td>USD</td>\n",
              "      <td>RV</td>\n",
              "      <td>46365.90</td>\n",
              "      <td>2018-12-30</td>\n",
              "      <td>NAH4</td>\n",
              "    </tr>\n",
              "    <tr>\n",
              "      <th>2</th>\n",
              "      <td>U001</td>\n",
              "      <td>0200769623</td>\n",
              "      <td>WAL-MAR corporation</td>\n",
              "      <td>2019-01-16</td>\n",
              "      <td>2019.0</td>\n",
              "      <td>1.928534e+09</td>\n",
              "      <td>2018-12-30</td>\n",
              "      <td>2019-01-14</td>\n",
              "      <td>USD</td>\n",
              "      <td>RV</td>\n",
              "      <td>14181.44</td>\n",
              "      <td>2018-12-30</td>\n",
              "      <td>NAH4</td>\n",
              "    </tr>\n",
              "    <tr>\n",
              "      <th>3</th>\n",
              "      <td>U001</td>\n",
              "      <td>0200769623</td>\n",
              "      <td>WAL-MAR</td>\n",
              "      <td>2019-01-09</td>\n",
              "      <td>2019.0</td>\n",
              "      <td>1.928545e+09</td>\n",
              "      <td>2018-12-30</td>\n",
              "      <td>2019-01-14</td>\n",
              "      <td>USD</td>\n",
              "      <td>RV</td>\n",
              "      <td>1764.66</td>\n",
              "      <td>2018-12-30</td>\n",
              "      <td>NAH4</td>\n",
              "    </tr>\n",
              "    <tr>\n",
              "      <th>4</th>\n",
              "      <td>U001</td>\n",
              "      <td>0200769623</td>\n",
              "      <td>WAL-MAR associates</td>\n",
              "      <td>2019-01-09</td>\n",
              "      <td>2019.0</td>\n",
              "      <td>1.928543e+09</td>\n",
              "      <td>2018-12-30</td>\n",
              "      <td>2019-01-14</td>\n",
              "      <td>USD</td>\n",
              "      <td>RV</td>\n",
              "      <td>39352.50</td>\n",
              "      <td>2018-12-30</td>\n",
              "      <td>NAH4</td>\n",
              "    </tr>\n",
              "  </tbody>\n",
              "</table>\n",
              "</div>"
            ],
            "text/plain": [
              "  business_code cust_number  ... baseline_create_date cust_payment_terms\n",
              "0          U001  0200769623  ...           2018-12-30               NAH4\n",
              "1          U001  0200769623  ...           2018-12-30               NAH4\n",
              "2          U001  0200769623  ...           2018-12-30               NAH4\n",
              "3          U001  0200769623  ...           2018-12-30               NAH4\n",
              "4          U001  0200769623  ...           2018-12-30               NAH4\n",
              "\n",
              "[5 rows x 13 columns]"
            ]
          },
          "metadata": {
            "tags": []
          },
          "execution_count": 28
        }
      ]
    },
    {
      "cell_type": "code",
      "metadata": {
        "id": "EB3OJN_0bo0j"
      },
      "source": [
        "# Reseting the index\n",
        "df_copy.reset_index(drop=True, inplace=True)"
      ],
      "execution_count": 29,
      "outputs": []
    },
    {
      "cell_type": "code",
      "metadata": {
        "id": "4rKNl7x7O3-S"
      },
      "source": [
        "# Getting the number of days alloted once the business_deal comes into action and baseline_create_date is entered in the document.\n",
        "df_copy['days_alloted'] = df_copy['due_in_date'] - df_copy['baseline_create_date']\n",
        "df_copy['days_alloted'] = df_copy['days_alloted'].dt.days"
      ],
      "execution_count": 30,
      "outputs": []
    },
    {
      "cell_type": "code",
      "metadata": {
        "colab": {
          "base_uri": "https://localhost:8080/",
          "height": 202
        },
        "id": "kqOwvdOKLHiS",
        "outputId": "da09159e-8a70-4a3b-cd5e-ce4260a103df"
      },
      "source": [
        "# Since there are only two types of currency:- USD and CAD so converting the total_open_amount in USD only.\n",
        "temp = df_copy[['total_open_amount', 'invoice_currency']].copy()\n",
        "temp.head()"
      ],
      "execution_count": 31,
      "outputs": [
        {
          "output_type": "execute_result",
          "data": {
            "text/html": [
              "<div>\n",
              "<style scoped>\n",
              "    .dataframe tbody tr th:only-of-type {\n",
              "        vertical-align: middle;\n",
              "    }\n",
              "\n",
              "    .dataframe tbody tr th {\n",
              "        vertical-align: top;\n",
              "    }\n",
              "\n",
              "    .dataframe thead th {\n",
              "        text-align: right;\n",
              "    }\n",
              "</style>\n",
              "<table border=\"1\" class=\"dataframe\">\n",
              "  <thead>\n",
              "    <tr style=\"text-align: right;\">\n",
              "      <th></th>\n",
              "      <th>total_open_amount</th>\n",
              "      <th>invoice_currency</th>\n",
              "    </tr>\n",
              "  </thead>\n",
              "  <tbody>\n",
              "    <tr>\n",
              "      <th>0</th>\n",
              "      <td>10831.45</td>\n",
              "      <td>USD</td>\n",
              "    </tr>\n",
              "    <tr>\n",
              "      <th>1</th>\n",
              "      <td>46365.90</td>\n",
              "      <td>USD</td>\n",
              "    </tr>\n",
              "    <tr>\n",
              "      <th>2</th>\n",
              "      <td>14181.44</td>\n",
              "      <td>USD</td>\n",
              "    </tr>\n",
              "    <tr>\n",
              "      <th>3</th>\n",
              "      <td>1764.66</td>\n",
              "      <td>USD</td>\n",
              "    </tr>\n",
              "    <tr>\n",
              "      <th>4</th>\n",
              "      <td>39352.50</td>\n",
              "      <td>USD</td>\n",
              "    </tr>\n",
              "  </tbody>\n",
              "</table>\n",
              "</div>"
            ],
            "text/plain": [
              "   total_open_amount invoice_currency\n",
              "0           10831.45              USD\n",
              "1           46365.90              USD\n",
              "2           14181.44              USD\n",
              "3            1764.66              USD\n",
              "4           39352.50              USD"
            ]
          },
          "metadata": {
            "tags": []
          },
          "execution_count": 31
        }
      ]
    },
    {
      "cell_type": "code",
      "metadata": {
        "id": "AYgOSbRnKjjJ"
      },
      "source": [
        "# Funtion to convert currency.\n",
        "def convert_to_usd(args):  \n",
        "    amount, currency = args\n",
        "    rates = {'USD': 1, 'CAD': 1.26}\n",
        "    return rates[currency] * amount\n",
        "\n",
        "temp['In_USD'] = temp.apply(convert_to_usd, axis=1)"
      ],
      "execution_count": 32,
      "outputs": []
    },
    {
      "cell_type": "code",
      "metadata": {
        "colab": {
          "base_uri": "https://localhost:8080/",
          "height": 415
        },
        "id": "y1_hQzZrNp_-",
        "outputId": "ba5daa47-9ab2-4607-bdca-41187519092a"
      },
      "source": [
        "temp.loc[(temp['invoice_currency'] == 'CAD')]"
      ],
      "execution_count": 33,
      "outputs": [
        {
          "output_type": "execute_result",
          "data": {
            "text/html": [
              "<div>\n",
              "<style scoped>\n",
              "    .dataframe tbody tr th:only-of-type {\n",
              "        vertical-align: middle;\n",
              "    }\n",
              "\n",
              "    .dataframe tbody tr th {\n",
              "        vertical-align: top;\n",
              "    }\n",
              "\n",
              "    .dataframe thead th {\n",
              "        text-align: right;\n",
              "    }\n",
              "</style>\n",
              "<table border=\"1\" class=\"dataframe\">\n",
              "  <thead>\n",
              "    <tr style=\"text-align: right;\">\n",
              "      <th></th>\n",
              "      <th>total_open_amount</th>\n",
              "      <th>invoice_currency</th>\n",
              "      <th>In_USD</th>\n",
              "    </tr>\n",
              "  </thead>\n",
              "  <tbody>\n",
              "    <tr>\n",
              "      <th>68</th>\n",
              "      <td>63552.94</td>\n",
              "      <td>CAD</td>\n",
              "      <td>80076.7044</td>\n",
              "    </tr>\n",
              "    <tr>\n",
              "      <th>91</th>\n",
              "      <td>1824.47</td>\n",
              "      <td>CAD</td>\n",
              "      <td>2298.8322</td>\n",
              "    </tr>\n",
              "    <tr>\n",
              "      <th>132</th>\n",
              "      <td>89597.99</td>\n",
              "      <td>CAD</td>\n",
              "      <td>112893.4674</td>\n",
              "    </tr>\n",
              "    <tr>\n",
              "      <th>139</th>\n",
              "      <td>292.65</td>\n",
              "      <td>CAD</td>\n",
              "      <td>368.7390</td>\n",
              "    </tr>\n",
              "    <tr>\n",
              "      <th>158</th>\n",
              "      <td>6026.25</td>\n",
              "      <td>CAD</td>\n",
              "      <td>7593.0750</td>\n",
              "    </tr>\n",
              "    <tr>\n",
              "      <th>...</th>\n",
              "      <td>...</td>\n",
              "      <td>...</td>\n",
              "      <td>...</td>\n",
              "    </tr>\n",
              "    <tr>\n",
              "      <th>42293</th>\n",
              "      <td>40199.93</td>\n",
              "      <td>CAD</td>\n",
              "      <td>50651.9118</td>\n",
              "    </tr>\n",
              "    <tr>\n",
              "      <th>42347</th>\n",
              "      <td>94030.25</td>\n",
              "      <td>CAD</td>\n",
              "      <td>118478.1150</td>\n",
              "    </tr>\n",
              "    <tr>\n",
              "      <th>42351</th>\n",
              "      <td>10782.47</td>\n",
              "      <td>CAD</td>\n",
              "      <td>13585.9122</td>\n",
              "    </tr>\n",
              "    <tr>\n",
              "      <th>42389</th>\n",
              "      <td>28446.67</td>\n",
              "      <td>CAD</td>\n",
              "      <td>35842.8042</td>\n",
              "    </tr>\n",
              "    <tr>\n",
              "      <th>42395</th>\n",
              "      <td>129654.06</td>\n",
              "      <td>CAD</td>\n",
              "      <td>163364.1156</td>\n",
              "    </tr>\n",
              "  </tbody>\n",
              "</table>\n",
              "<p>3532 rows × 3 columns</p>\n",
              "</div>"
            ],
            "text/plain": [
              "       total_open_amount invoice_currency       In_USD\n",
              "68              63552.94              CAD   80076.7044\n",
              "91               1824.47              CAD    2298.8322\n",
              "132             89597.99              CAD  112893.4674\n",
              "139               292.65              CAD     368.7390\n",
              "158              6026.25              CAD    7593.0750\n",
              "...                  ...              ...          ...\n",
              "42293           40199.93              CAD   50651.9118\n",
              "42347           94030.25              CAD  118478.1150\n",
              "42351           10782.47              CAD   13585.9122\n",
              "42389           28446.67              CAD   35842.8042\n",
              "42395          129654.06              CAD  163364.1156\n",
              "\n",
              "[3532 rows x 3 columns]"
            ]
          },
          "metadata": {
            "tags": []
          },
          "execution_count": 33
        }
      ]
    },
    {
      "cell_type": "code",
      "metadata": {
        "id": "zJlC6RAkNSu_"
      },
      "source": [
        "# Updating the total_open_amount column.\n",
        "df_copy['total_open_amount'] = temp['In_USD'].copy()"
      ],
      "execution_count": 34,
      "outputs": []
    },
    {
      "cell_type": "code",
      "metadata": {
        "colab": {
          "base_uri": "https://localhost:8080/"
        },
        "id": "0jcYlLCJtVjb",
        "outputId": "edf09ebd-9998-45a3-f779-fec8ee2599b6"
      },
      "source": [
        "# Getting the info about dataframe.\n",
        "df_copy.info()"
      ],
      "execution_count": 35,
      "outputs": [
        {
          "output_type": "stream",
          "text": [
            "<class 'pandas.core.frame.DataFrame'>\n",
            "RangeIndex: 42415 entries, 0 to 42414\n",
            "Data columns (total 14 columns):\n",
            " #   Column                  Non-Null Count  Dtype         \n",
            "---  ------                  --------------  -----         \n",
            " 0   business_code           42415 non-null  object        \n",
            " 1   cust_number             42415 non-null  object        \n",
            " 2   name_customer           42415 non-null  object        \n",
            " 3   clear_date              42415 non-null  datetime64[ns]\n",
            " 4   buisness_year           42415 non-null  float64       \n",
            " 5   doc_id                  42415 non-null  float64       \n",
            " 6   document_create_date.1  42415 non-null  datetime64[ns]\n",
            " 7   due_in_date             42415 non-null  datetime64[ns]\n",
            " 8   invoice_currency        42415 non-null  object        \n",
            " 9   document type           42415 non-null  object        \n",
            " 10  total_open_amount       42415 non-null  float64       \n",
            " 11  baseline_create_date    42415 non-null  datetime64[ns]\n",
            " 12  cust_payment_terms      42415 non-null  object        \n",
            " 13  days_alloted            42415 non-null  int64         \n",
            "dtypes: datetime64[ns](4), float64(3), int64(1), object(6)\n",
            "memory usage: 4.5+ MB\n"
          ],
          "name": "stdout"
        }
      ]
    },
    {
      "cell_type": "code",
      "metadata": {
        "colab": {
          "base_uri": "https://localhost:8080/"
        },
        "execution": {
          "iopub.execute_input": "2021-01-28T13:43:09.618477Z",
          "iopub.status.busy": "2021-01-28T13:43:09.618242Z",
          "iopub.status.idle": "2021-01-28T13:43:09.624379Z",
          "shell.execute_reply": "2021-01-28T13:43:09.623731Z",
          "shell.execute_reply.started": "2021-01-28T13:43:09.618457Z"
        },
        "id": "drwqf2RJHrSC",
        "outputId": "0220c5df-1fda-451d-bef6-0af2fa9c33f6"
      },
      "source": [
        "# Checking the total unique values in various columns.\n",
        "print(\"business_code: \", df_copy['business_code'].nunique())\n",
        "print(\"cust_number: \", df_copy['cust_number'].nunique())\n",
        "print(\"name_customer: \", df_copy['name_customer'].nunique())\n",
        "print(\"cust_payment_terms: \", df_copy['cust_payment_terms'].nunique())\n",
        "print(\"doc_id: \",df_copy['doc_id'].nunique())\n",
        "print(\"invoice_currency: \", df_copy['invoice_currency'].nunique())\n",
        "print(\"document type: \", df_copy['document type'].nunique())"
      ],
      "execution_count": 36,
      "outputs": [
        {
          "output_type": "stream",
          "text": [
            "business_code:  5\n",
            "cust_number:  1369\n",
            "name_customer:  4153\n",
            "cust_payment_terms:  51\n",
            "doc_id:  42415\n",
            "invoice_currency:  2\n",
            "document type:  2\n"
          ],
          "name": "stdout"
        }
      ]
    },
    {
      "cell_type": "code",
      "metadata": {
        "id": "pTnjK1IedOtr"
      },
      "source": [
        "# Finding out the delay between clear_date and due_in_date.\n",
        "df_copy['delay'] = df_copy['clear_date'] - df_copy['due_in_date']\n",
        "df_copy['delay'] = df_copy['delay'].dt.days"
      ],
      "execution_count": 37,
      "outputs": []
    },
    {
      "cell_type": "code",
      "metadata": {
        "id": "6j4SfPovUvET"
      },
      "source": [
        "# Function to show diagnostic plot and to check the distribution of target column.\n",
        "import scipy.stats as stats\n",
        "import pylab\n",
        "def diagnostic_plots(df, variable):\n",
        "  # function to plot a histogram and a Q-Q plot\n",
        "  # side by side, for a certain variable\n",
        "  plt.figure(figsize=(15,6))\n",
        "  plt.subplot(1, 2, 1)\n",
        "  df[variable].hist()\n",
        "  plt.subplot(1, 2, 2)\n",
        "  stats.probplot(df[variable], dist=\"norm\", plot=pylab)\n",
        "  plt.show()"
      ],
      "execution_count": 38,
      "outputs": []
    },
    {
      "cell_type": "code",
      "metadata": {
        "colab": {
          "base_uri": "https://localhost:8080/",
          "height": 404
        },
        "id": "0bAnZxqpU_ia",
        "outputId": "a120e5e5-d486-4f96-e46a-142a81b2e2f0"
      },
      "source": [
        "diagnostic_plots(df_copy, 'delay')"
      ],
      "execution_count": 39,
      "outputs": [
        {
          "output_type": "display_data",
          "data": {
            "image/png": "[encoded data removed]",
            "text/plain": [
              "<Figure size 1080x432 with 2 Axes>"
            ]
          },
          "metadata": {
            "tags": [],
            "needs_background": "light"
          }
        }
      ]
    },
    {
      "cell_type": "code",
      "metadata": {
        "id": "mxRWns0nyT4J"
      },
      "source": [
        "# Dropping the columns which has less role in model training.\n",
        "df_copy.drop(['doc_id', 'name_customer', 'clear_date', 'buisness_year', 'document_create_date.1', 'due_in_date', 'baseline_create_date'], axis=1, inplace=True)"
      ],
      "execution_count": 40,
      "outputs": []
    },
    {
      "cell_type": "code",
      "metadata": {
        "colab": {
          "base_uri": "https://localhost:8080/",
          "height": 202
        },
        "id": "tOq20ZOUbeno",
        "outputId": "847991e0-deb0-411a-9055-820d4b07db93"
      },
      "source": [
        "df_copy.head()"
      ],
      "execution_count": 41,
      "outputs": [
        {
          "output_type": "execute_result",
          "data": {
            "text/html": [
              "<div>\n",
              "<style scoped>\n",
              "    .dataframe tbody tr th:only-of-type {\n",
              "        vertical-align: middle;\n",
              "    }\n",
              "\n",
              "    .dataframe tbody tr th {\n",
              "        vertical-align: top;\n",
              "    }\n",
              "\n",
              "    .dataframe thead th {\n",
              "        text-align: right;\n",
              "    }\n",
              "</style>\n",
              "<table border=\"1\" class=\"dataframe\">\n",
              "  <thead>\n",
              "    <tr style=\"text-align: right;\">\n",
              "      <th></th>\n",
              "      <th>business_code</th>\n",
              "      <th>cust_number</th>\n",
              "      <th>invoice_currency</th>\n",
              "      <th>document type</th>\n",
              "      <th>total_open_amount</th>\n",
              "      <th>cust_payment_terms</th>\n",
              "      <th>days_alloted</th>\n",
              "      <th>delay</th>\n",
              "    </tr>\n",
              "  </thead>\n",
              "  <tbody>\n",
              "    <tr>\n",
              "      <th>0</th>\n",
              "      <td>U001</td>\n",
              "      <td>0200769623</td>\n",
              "      <td>USD</td>\n",
              "      <td>RV</td>\n",
              "      <td>10831.45</td>\n",
              "      <td>NAH4</td>\n",
              "      <td>15</td>\n",
              "      <td>-4</td>\n",
              "    </tr>\n",
              "    <tr>\n",
              "      <th>1</th>\n",
              "      <td>U001</td>\n",
              "      <td>0200769623</td>\n",
              "      <td>USD</td>\n",
              "      <td>RV</td>\n",
              "      <td>46365.90</td>\n",
              "      <td>NAH4</td>\n",
              "      <td>15</td>\n",
              "      <td>-4</td>\n",
              "    </tr>\n",
              "    <tr>\n",
              "      <th>2</th>\n",
              "      <td>U001</td>\n",
              "      <td>0200769623</td>\n",
              "      <td>USD</td>\n",
              "      <td>RV</td>\n",
              "      <td>14181.44</td>\n",
              "      <td>NAH4</td>\n",
              "      <td>15</td>\n",
              "      <td>2</td>\n",
              "    </tr>\n",
              "    <tr>\n",
              "      <th>3</th>\n",
              "      <td>U001</td>\n",
              "      <td>0200769623</td>\n",
              "      <td>USD</td>\n",
              "      <td>RV</td>\n",
              "      <td>1764.66</td>\n",
              "      <td>NAH4</td>\n",
              "      <td>15</td>\n",
              "      <td>-5</td>\n",
              "    </tr>\n",
              "    <tr>\n",
              "      <th>4</th>\n",
              "      <td>U001</td>\n",
              "      <td>0200769623</td>\n",
              "      <td>USD</td>\n",
              "      <td>RV</td>\n",
              "      <td>39352.50</td>\n",
              "      <td>NAH4</td>\n",
              "      <td>15</td>\n",
              "      <td>-5</td>\n",
              "    </tr>\n",
              "  </tbody>\n",
              "</table>\n",
              "</div>"
            ],
            "text/plain": [
              "  business_code cust_number  ... days_alloted delay\n",
              "0          U001  0200769623  ...           15    -4\n",
              "1          U001  0200769623  ...           15    -4\n",
              "2          U001  0200769623  ...           15     2\n",
              "3          U001  0200769623  ...           15    -5\n",
              "4          U001  0200769623  ...           15    -5\n",
              "\n",
              "[5 rows x 8 columns]"
            ]
          },
          "metadata": {
            "tags": []
          },
          "execution_count": 41
        }
      ]
    },
    {
      "cell_type": "code",
      "metadata": {
        "id": "Fl8UHr52QmdH"
      },
      "source": [
        "# Saving the column names for future use.\n",
        "col_name = ['business_code', 'cust_number', 'invoice_currency', 'document type', 'total_open_amount', 'cust_payment_terms', 'days_alloted']"
      ],
      "execution_count": 42,
      "outputs": []
    },
    {
      "cell_type": "code",
      "metadata": {
        "id": "D0UsdjVmIXFC"
      },
      "source": [
        "# Splitting Data into Train and Test and Validation.\n",
        "from sklearn.model_selection import train_test_split\n",
        "X = df_copy.iloc[: ,:-1].values\n",
        "y = df_copy['delay'].values\n",
        "X_train, X_val, y_train, y_val = train_test_split(X, y, test_size=0.1, random_state=42, shuffle=False)\n",
        "X_train, X_test, y_train, y_test = train_test_split(X_train, y_train, test_size=0.1, random_state=42, shuffle=False)"
      ],
      "execution_count": 43,
      "outputs": []
    },
    {
      "cell_type": "code",
      "metadata": {
        "colab": {
          "base_uri": "https://localhost:8080/"
        },
        "id": "j02rWeR_LQ_f",
        "outputId": "b44ff72e-19e4-4892-ee27-cd125c94fb02"
      },
      "source": [
        "# Checking the shape and seeing that the shape is in accordance with model training and evaluation.\n",
        "X_train.shape, X_val.shape, X_test.shape, y_train.shape, y_val.shape, y_test.shape"
      ],
      "execution_count": 44,
      "outputs": [
        {
          "output_type": "execute_result",
          "data": {
            "text/plain": [
              "((34355, 7), (4242, 7), (3818, 7), (34355,), (4242,), (3818,))"
            ]
          },
          "metadata": {
            "tags": []
          },
          "execution_count": 44
        }
      ]
    },
    {
      "cell_type": "code",
      "metadata": {
        "id": "1Zl_XLXIC1xW"
      },
      "source": [
        "# Converting from numpy array into pandas.\n",
        "X_train = pd.DataFrame(X_train)\n",
        "X_val = pd.DataFrame(X_val)\n",
        "X_test = pd.DataFrame(X_test)\n",
        "X_train.columns = col_name\n",
        "X_val.columns = col_name\n",
        "X_test.columns = col_name"
      ],
      "execution_count": 45,
      "outputs": []
    },
    {
      "cell_type": "code",
      "metadata": {
        "id": "DNTfIVvXZlLI"
      },
      "source": [
        "# Making a mapper dictionary to encode business_code column of trainset and map it to testset and validationset.\n",
        "mapper0 = {'U001': 1, 'CA02': 2, 'U013': 3, 'U002': 4, 'U005': 5}\n",
        "X_train['business_code'] = X_train['business_code'].map(mapper0)\n",
        "X_train['business_code'] = X_train['business_code'].replace(np.nan, 6)"
      ],
      "execution_count": 46,
      "outputs": []
    },
    {
      "cell_type": "code",
      "metadata": {
        "id": "1R6-tNbh-xH7"
      },
      "source": [
        "X_val['business_code'] = X_val['business_code'].map(mapper0)\n",
        "X_val['business_code'] = X_val['business_code'].replace(np.nan, 6)\n",
        "X_test['business_code'] = X_test['business_code'].map(mapper0)\n",
        "X_test['business_code'] = X_test['business_code'].replace(np.nan, 6)"
      ],
      "execution_count": 47,
      "outputs": []
    },
    {
      "cell_type": "code",
      "metadata": {
        "colab": {
          "base_uri": "https://localhost:8080/"
        },
        "id": "_4IztR_PdRt_",
        "outputId": "b129a25e-42d2-45cc-8d64-08a536ec0152"
      },
      "source": [
        "# Checking the value_counts of unique elements in business_code column.\n",
        "X_train['business_code'].value_counts()"
      ],
      "execution_count": 48,
      "outputs": [
        {
          "output_type": "execute_result",
          "data": {
            "text/plain": [
              "1    30827\n",
              "2     2883\n",
              "3      511\n",
              "4      126\n",
              "5        8\n",
              "Name: business_code, dtype: int64"
            ]
          },
          "metadata": {
            "tags": []
          },
          "execution_count": 48
        }
      ]
    },
    {
      "cell_type": "code",
      "metadata": {
        "colab": {
          "base_uri": "https://localhost:8080/"
        },
        "id": "H8_uG28okzGC",
        "outputId": "d70686dc-8eaf-4da7-b223-83262fac8371"
      },
      "source": [
        "# Checking the value_counts of unique elements in cust_number column.\n",
        "X_train['cust_number'].value_counts()"
      ],
      "execution_count": 49,
      "outputs": [
        {
          "output_type": "execute_result",
          "data": {
            "text/plain": [
              "0200769623    7965\n",
              "0200726979    1352\n",
              "0200762301    1075\n",
              "0200759878     946\n",
              "0200794332     770\n",
              "              ... \n",
              "200790165        1\n",
              "CC7420           1\n",
              "0100052832       1\n",
              "0100028210       1\n",
              "0200987178       1\n",
              "Name: cust_number, Length: 1313, dtype: int64"
            ]
          },
          "metadata": {
            "tags": []
          },
          "execution_count": 49
        }
      ]
    },
    {
      "cell_type": "code",
      "metadata": {
        "id": "avXA3tTlkzJR"
      },
      "source": [
        "# Making a mapper dictionary to encode cust_number column in trainset and map it to testset and validationset.\n",
        "labels = X_train['cust_number'].astype('category').cat.categories.tolist()\n",
        "mapper1 = {k: v for k,v in zip(labels,list(range(1,len(labels)+1)))}\n",
        "X_train['cust_number'] = X_train['cust_number'].map(mapper1)\n",
        "X_train['cust_number'] = X_train['cust_number'].replace(np.nan, 0)"
      ],
      "execution_count": 50,
      "outputs": []
    },
    {
      "cell_type": "code",
      "metadata": {
        "id": "pbTAua29-y1w"
      },
      "source": [
        "X_val['cust_number'] = X_val['cust_number'].map(mapper1)\n",
        "X_val['cust_number'] = X_val['cust_number'].replace(np.nan, 0)\n",
        "X_test['cust_number'] = X_test['cust_number'].map(mapper1)\n",
        "X_test['cust_number'] = X_test['cust_number'].replace(np.nan, 0)"
      ],
      "execution_count": 51,
      "outputs": []
    },
    {
      "cell_type": "code",
      "metadata": {
        "colab": {
          "base_uri": "https://localhost:8080/"
        },
        "id": "09qZkbaHkfAq",
        "outputId": "2959170b-4e55-444b-ea6b-712fe858e40f"
      },
      "source": [
        "# Checking the value_counts of unique elements in invoice_currency column.\n",
        "X_train['invoice_currency'].value_counts()"
      ],
      "execution_count": 52,
      "outputs": [
        {
          "output_type": "execute_result",
          "data": {
            "text/plain": [
              "USD    31472\n",
              "CAD     2883\n",
              "Name: invoice_currency, dtype: int64"
            ]
          },
          "metadata": {
            "tags": []
          },
          "execution_count": 52
        }
      ]
    },
    {
      "cell_type": "code",
      "metadata": {
        "id": "RRcMYv9ykfEE"
      },
      "source": [
        "# Label encodind invoice_currency column in trainset and mapping it to testset and validationset.\n",
        "from sklearn.preprocessing import LabelEncoder\n",
        "\n",
        "le = LabelEncoder()\n",
        "X_train['invoice_currency'] = le.fit_transform(X_train['invoice_currency'])"
      ],
      "execution_count": 53,
      "outputs": []
    },
    {
      "cell_type": "code",
      "metadata": {
        "id": "dRXUazvw-0SS"
      },
      "source": [
        "X_val['invoice_currency'] = le.transform(X_val['invoice_currency'])\n",
        "X_test['invoice_currency'] = le.transform(X_test['invoice_currency'])"
      ],
      "execution_count": 54,
      "outputs": []
    },
    {
      "cell_type": "code",
      "metadata": {
        "colab": {
          "base_uri": "https://localhost:8080/"
        },
        "id": "4PKhQyCllqc9",
        "outputId": "8a5471ae-e099-4317-d50b-8182c47ec78c"
      },
      "source": [
        "# Dropping document type column as it is quasi-constant\n",
        "print(X_train['document type'].value_counts())\n",
        "X_train.drop(['document type'], axis=1, inplace=True)"
      ],
      "execution_count": 55,
      "outputs": [
        {
          "output_type": "stream",
          "text": [
            "RV    34352\n",
            "X2        3\n",
            "Name: document type, dtype: int64\n"
          ],
          "name": "stdout"
        }
      ]
    },
    {
      "cell_type": "code",
      "metadata": {
        "id": "ITaAWvOC-2Lv"
      },
      "source": [
        "X_val.drop(['document type'], axis=1, inplace=True)\n",
        "X_test.drop(['document type'], axis=1, inplace=True)"
      ],
      "execution_count": 56,
      "outputs": []
    },
    {
      "cell_type": "code",
      "metadata": {
        "id": "mFBI_2mUhvwq"
      },
      "source": [
        "# Converting total_open_amount column from object to float.\n",
        "X_train['total_open_amount'] = X_train['total_open_amount'].astype(float)"
      ],
      "execution_count": 57,
      "outputs": []
    },
    {
      "cell_type": "code",
      "metadata": {
        "id": "iXPC17Fw-3dK"
      },
      "source": [
        "X_val['total_open_amount'] = X_val['total_open_amount'].astype(float)\n",
        "X_test['total_open_amount'] = X_test['total_open_amount'].astype(float)"
      ],
      "execution_count": 58,
      "outputs": []
    },
    {
      "cell_type": "code",
      "metadata": {
        "id": "1NVOHAtzPk2s"
      },
      "source": [
        "# Making a mapper dictionary to encode cust_payment_terms column in trainset and map it to testset and validationset.\n",
        "mapper5 = {'NAA8': 1, 'NAH4': 2, 'CA10': 4, 'NAC6': 5}\n",
        "X_train['cust_payment_terms'] = X_train['cust_payment_terms'].map(mapper5)\n",
        "X_train['cust_payment_terms'] = X_train['cust_payment_terms'].replace(np.nan, 3)"
      ],
      "execution_count": 59,
      "outputs": []
    },
    {
      "cell_type": "code",
      "metadata": {
        "id": "aUBZBK9A-4kj"
      },
      "source": [
        "X_val['cust_payment_terms'] = X_val['cust_payment_terms'].map(mapper5)\n",
        "X_val['cust_payment_terms'] = X_val['cust_payment_terms'].replace(np.nan, 3)\n",
        "X_test['cust_payment_terms'] = X_test['cust_payment_terms'].map(mapper5)\n",
        "X_test['cust_payment_terms'] = X_test['cust_payment_terms'].replace(np.nan, 3)"
      ],
      "execution_count": 60,
      "outputs": []
    },
    {
      "cell_type": "code",
      "metadata": {
        "colab": {
          "base_uri": "https://localhost:8080/"
        },
        "id": "IrQF13UwGDpI",
        "outputId": "3ad3726f-fe28-4627-94ea-d42e71538f5f"
      },
      "source": [
        "# Checking the value_counts of unique elements in cust_payment_terms column.\n",
        "X_train['cust_payment_terms'].value_counts()"
      ],
      "execution_count": 61,
      "outputs": [
        {
          "output_type": "execute_result",
          "data": {
            "text/plain": [
              "1.0    14692\n",
              "2.0     9520\n",
              "3.0     6105\n",
              "4.0     2816\n",
              "5.0     1222\n",
              "Name: cust_payment_terms, dtype: int64"
            ]
          },
          "metadata": {
            "tags": []
          },
          "execution_count": 61
        }
      ]
    },
    {
      "cell_type": "code",
      "metadata": {
        "id": "WNLlH3Uvhon2"
      },
      "source": [
        "# Converting days_alloted column from object to int.\n",
        "X_train['days_alloted'] = X_train['days_alloted'].astype(int)"
      ],
      "execution_count": 62,
      "outputs": []
    },
    {
      "cell_type": "code",
      "metadata": {
        "id": "eHLH9O0yho0t"
      },
      "source": [
        "X_val['days_alloted'] = X_val['days_alloted'].astype(int)\n",
        "X_test['days_alloted'] = X_test['days_alloted'].astype(int)"
      ],
      "execution_count": 63,
      "outputs": []
    },
    {
      "cell_type": "code",
      "metadata": {
        "colab": {
          "base_uri": "https://localhost:8080/",
          "height": 662
        },
        "id": "Myudo-GgC9B_",
        "outputId": "58f310e6-7d00-4868-a3e2-55af48051238"
      },
      "source": [
        "X_train.head(20)"
      ],
      "execution_count": 64,
      "outputs": [
        {
          "output_type": "execute_result",
          "data": {
            "text/html": [
              "<div>\n",
              "<style scoped>\n",
              "    .dataframe tbody tr th:only-of-type {\n",
              "        vertical-align: middle;\n",
              "    }\n",
              "\n",
              "    .dataframe tbody tr th {\n",
              "        vertical-align: top;\n",
              "    }\n",
              "\n",
              "    .dataframe thead th {\n",
              "        text-align: right;\n",
              "    }\n",
              "</style>\n",
              "<table border=\"1\" class=\"dataframe\">\n",
              "  <thead>\n",
              "    <tr style=\"text-align: right;\">\n",
              "      <th></th>\n",
              "      <th>business_code</th>\n",
              "      <th>cust_number</th>\n",
              "      <th>invoice_currency</th>\n",
              "      <th>total_open_amount</th>\n",
              "      <th>cust_payment_terms</th>\n",
              "      <th>days_alloted</th>\n",
              "    </tr>\n",
              "  </thead>\n",
              "  <tbody>\n",
              "    <tr>\n",
              "      <th>0</th>\n",
              "      <td>1</td>\n",
              "      <td>798</td>\n",
              "      <td>1</td>\n",
              "      <td>10831.45</td>\n",
              "      <td>2.0</td>\n",
              "      <td>15</td>\n",
              "    </tr>\n",
              "    <tr>\n",
              "      <th>1</th>\n",
              "      <td>1</td>\n",
              "      <td>798</td>\n",
              "      <td>1</td>\n",
              "      <td>46365.90</td>\n",
              "      <td>2.0</td>\n",
              "      <td>15</td>\n",
              "    </tr>\n",
              "    <tr>\n",
              "      <th>2</th>\n",
              "      <td>1</td>\n",
              "      <td>798</td>\n",
              "      <td>1</td>\n",
              "      <td>14181.44</td>\n",
              "      <td>2.0</td>\n",
              "      <td>15</td>\n",
              "    </tr>\n",
              "    <tr>\n",
              "      <th>3</th>\n",
              "      <td>1</td>\n",
              "      <td>798</td>\n",
              "      <td>1</td>\n",
              "      <td>1764.66</td>\n",
              "      <td>2.0</td>\n",
              "      <td>15</td>\n",
              "    </tr>\n",
              "    <tr>\n",
              "      <th>4</th>\n",
              "      <td>1</td>\n",
              "      <td>798</td>\n",
              "      <td>1</td>\n",
              "      <td>39352.50</td>\n",
              "      <td>2.0</td>\n",
              "      <td>15</td>\n",
              "    </tr>\n",
              "    <tr>\n",
              "      <th>5</th>\n",
              "      <td>1</td>\n",
              "      <td>780</td>\n",
              "      <td>1</td>\n",
              "      <td>15619.87</td>\n",
              "      <td>1.0</td>\n",
              "      <td>15</td>\n",
              "    </tr>\n",
              "    <tr>\n",
              "      <th>6</th>\n",
              "      <td>1</td>\n",
              "      <td>695</td>\n",
              "      <td>1</td>\n",
              "      <td>190.38</td>\n",
              "      <td>1.0</td>\n",
              "      <td>15</td>\n",
              "    </tr>\n",
              "    <tr>\n",
              "      <th>7</th>\n",
              "      <td>1</td>\n",
              "      <td>798</td>\n",
              "      <td>1</td>\n",
              "      <td>9522.21</td>\n",
              "      <td>2.0</td>\n",
              "      <td>15</td>\n",
              "    </tr>\n",
              "    <tr>\n",
              "      <th>8</th>\n",
              "      <td>1</td>\n",
              "      <td>798</td>\n",
              "      <td>1</td>\n",
              "      <td>39118.11</td>\n",
              "      <td>2.0</td>\n",
              "      <td>15</td>\n",
              "    </tr>\n",
              "    <tr>\n",
              "      <th>9</th>\n",
              "      <td>1</td>\n",
              "      <td>798</td>\n",
              "      <td>1</td>\n",
              "      <td>15597.27</td>\n",
              "      <td>2.0</td>\n",
              "      <td>15</td>\n",
              "    </tr>\n",
              "    <tr>\n",
              "      <th>10</th>\n",
              "      <td>1</td>\n",
              "      <td>798</td>\n",
              "      <td>1</td>\n",
              "      <td>197.26</td>\n",
              "      <td>2.0</td>\n",
              "      <td>15</td>\n",
              "    </tr>\n",
              "    <tr>\n",
              "      <th>11</th>\n",
              "      <td>1</td>\n",
              "      <td>798</td>\n",
              "      <td>1</td>\n",
              "      <td>66410.81</td>\n",
              "      <td>2.0</td>\n",
              "      <td>15</td>\n",
              "    </tr>\n",
              "    <tr>\n",
              "      <th>12</th>\n",
              "      <td>1</td>\n",
              "      <td>695</td>\n",
              "      <td>1</td>\n",
              "      <td>371.95</td>\n",
              "      <td>1.0</td>\n",
              "      <td>15</td>\n",
              "    </tr>\n",
              "    <tr>\n",
              "      <th>13</th>\n",
              "      <td>1</td>\n",
              "      <td>775</td>\n",
              "      <td>1</td>\n",
              "      <td>24575.57</td>\n",
              "      <td>2.0</td>\n",
              "      <td>15</td>\n",
              "    </tr>\n",
              "    <tr>\n",
              "      <th>14</th>\n",
              "      <td>1</td>\n",
              "      <td>798</td>\n",
              "      <td>1</td>\n",
              "      <td>41807.51</td>\n",
              "      <td>2.0</td>\n",
              "      <td>15</td>\n",
              "    </tr>\n",
              "    <tr>\n",
              "      <th>15</th>\n",
              "      <td>1</td>\n",
              "      <td>798</td>\n",
              "      <td>1</td>\n",
              "      <td>56009.73</td>\n",
              "      <td>2.0</td>\n",
              "      <td>15</td>\n",
              "    </tr>\n",
              "    <tr>\n",
              "      <th>16</th>\n",
              "      <td>1</td>\n",
              "      <td>782</td>\n",
              "      <td>1</td>\n",
              "      <td>18116.87</td>\n",
              "      <td>5.0</td>\n",
              "      <td>15</td>\n",
              "    </tr>\n",
              "    <tr>\n",
              "      <th>17</th>\n",
              "      <td>1</td>\n",
              "      <td>753</td>\n",
              "      <td>1</td>\n",
              "      <td>22718.72</td>\n",
              "      <td>1.0</td>\n",
              "      <td>15</td>\n",
              "    </tr>\n",
              "    <tr>\n",
              "      <th>18</th>\n",
              "      <td>1</td>\n",
              "      <td>695</td>\n",
              "      <td>1</td>\n",
              "      <td>205.13</td>\n",
              "      <td>1.0</td>\n",
              "      <td>15</td>\n",
              "    </tr>\n",
              "    <tr>\n",
              "      <th>19</th>\n",
              "      <td>3</td>\n",
              "      <td>288</td>\n",
              "      <td>1</td>\n",
              "      <td>14728.80</td>\n",
              "      <td>3.0</td>\n",
              "      <td>30</td>\n",
              "    </tr>\n",
              "  </tbody>\n",
              "</table>\n",
              "</div>"
            ],
            "text/plain": [
              "    business_code  cust_number  ...  cust_payment_terms  days_alloted\n",
              "0               1          798  ...                 2.0            15\n",
              "1               1          798  ...                 2.0            15\n",
              "2               1          798  ...                 2.0            15\n",
              "3               1          798  ...                 2.0            15\n",
              "4               1          798  ...                 2.0            15\n",
              "5               1          780  ...                 1.0            15\n",
              "6               1          695  ...                 1.0            15\n",
              "7               1          798  ...                 2.0            15\n",
              "8               1          798  ...                 2.0            15\n",
              "9               1          798  ...                 2.0            15\n",
              "10              1          798  ...                 2.0            15\n",
              "11              1          798  ...                 2.0            15\n",
              "12              1          695  ...                 1.0            15\n",
              "13              1          775  ...                 2.0            15\n",
              "14              1          798  ...                 2.0            15\n",
              "15              1          798  ...                 2.0            15\n",
              "16              1          782  ...                 5.0            15\n",
              "17              1          753  ...                 1.0            15\n",
              "18              1          695  ...                 1.0            15\n",
              "19              3          288  ...                 3.0            30\n",
              "\n",
              "[20 rows x 6 columns]"
            ]
          },
          "metadata": {
            "tags": []
          },
          "execution_count": 64
        }
      ]
    },
    {
      "cell_type": "markdown",
      "metadata": {
        "id": "GZ5C1ckuYV5D"
      },
      "source": [
        "### Target Encoding"
      ]
    },
    {
      "cell_type": "code",
      "metadata": {
        "colab": {
          "base_uri": "https://localhost:8080/"
        },
        "id": "RjesLx0qrk7Z",
        "outputId": "2f35bb8e-d7f5-45fd-f898-60fe7df0b777"
      },
      "source": [
        "X_train['target'] = y_train \n",
        "\n",
        "target_mapper1 = X_train.groupby('cust_number')['target'].mean().to_dict()\n",
        "print(target_mapper1)\n",
        "X_train.drop(['target'], axis=1, inplace=True)"
      ],
      "execution_count": 65,
      "outputs": [
        {
          "output_type": "stream",
          "text": [
            "{1: 36.333333333333336, 2: -15.666666666666666, 3: 40.2, 4: 5.0, 5: -5.0, 6: -5.703703703703703, 7: -23.0, 8: -6.5, 9: -8.0, 10: 4.2, 11: 1.4285714285714286, 12: -6.0, 13: 6.0, 14: 1.0, 15: 0.6666666666666666, 16: 4.0, 17: -2.7, 18: 1.0, 19: -3.0, 20: -4.5, 21: 9.0, 22: -1.5714285714285714, 23: 0.2, 24: -25.6, 25: -3.933333333333333, 26: -6.0, 27: 2.0, 28: 1.8636363636363635, 29: -27.0, 30: 1.5, 31: 4.5, 32: 19.0, 33: 1.0, 34: 2.0, 35: -1.5, 36: 6.125, 37: 12.5, 38: -2.0, 39: 1.894736842105263, 40: 6.5, 41: -0.5, 42: -1.875, 43: -19.0, 44: 10.5, 45: -3.0, 46: 1.0, 47: 108.0, 48: -3.0, 49: 3.6666666666666665, 50: 3.2, 51: 0.4166666666666667, 52: 1.0, 53: 7.214285714285714, 54: 2.0, 55: -4.1, 56: -4.0, 57: 12.0, 58: -0.5, 59: 3.0, 60: 1.3333333333333333, 61: -2.6666666666666665, 62: 2.0, 63: 3.0, 64: -2.484848484848485, 65: 21.0, 66: 0.0, 67: -4.0, 68: -6.0, 69: 3.2, 70: 9.0, 71: 5.6, 72: 2.75, 73: -9.4, 74: 24.875, 75: 8.5, 76: 0.0, 77: -1.6666666666666667, 78: 1.75, 79: 4.333333333333333, 80: 3.0, 81: -1.0, 82: 0.0, 83: -4.0, 84: 2.0, 85: 6.0, 86: -7.0, 87: -5.0, 88: 3.0, 89: 14.0, 90: 2.0, 91: 3.0, 92: 2.625, 93: 9.0, 94: 0.0, 95: -1.0, 96: 32.0, 97: 0.0, 98: 0.3333333333333333, 99: 20.75, 100: 2.0, 101: -0.5, 102: -9.333333333333334, 103: 19.04, 104: -5.0, 105: 5.0, 106: 0.7142857142857143, 107: -0.6666666666666666, 108: -7.0, 109: 5.0, 110: -6.903225806451613, 111: -5.125, 112: 6.833333333333333, 113: 0.8181818181818182, 114: 0.43973941368078173, 115: -3.8, 116: 3.0, 117: -1.75, 118: 2.1666666666666665, 119: -6.0, 120: -6.0, 121: 57.333333333333336, 122: 0.5, 123: 1.6, 124: -3.0, 125: -2.4, 126: -5.0, 127: 0.0, 128: 2.75, 129: -1.8888888888888888, 130: -25.0, 131: -6.5, 132: -33.0, 133: 1.4285714285714286, 134: 4.2, 135: -85.0, 136: -1.0, 137: -2.0, 138: 0.5, 139: 6.0, 140: 17.0, 141: 3.0, 142: -5.0, 143: 22.0, 144: 14.0, 145: -0.5, 146: 5.0, 147: 2.0, 148: 7.25, 149: 0.5, 150: -1.0, 151: 5.0, 152: 0.0, 153: -3.0, 154: -5.0, 155: 2.1538461538461537, 156: 3.0, 157: 15.0, 158: 5.666666666666667, 159: -6.375, 160: -40.0, 161: -5.5, 162: 0.0, 163: -0.4864864864864865, 164: 11.0, 165: 6.0, 166: 6.0, 167: 6.0, 168: -7.0, 169: 15.5, 170: 2.857142857142857, 171: 3.0, 172: -6.142857142857143, 173: 77.0, 174: 3.0, 175: -4.0, 176: 5.0, 177: -3.0, 178: 12.0, 179: -6.0, 180: 40.0, 181: 3.2, 182: -5.333333333333333, 183: -1.0, 184: 4.0, 185: 3.0, 186: 12.5, 187: -9.0, 188: 0.0, 189: -7.333333333333333, 190: 1.5384615384615385, 191: -3.0, 192: 0.0, 193: 14.666666666666666, 194: 1.0, 195: 0.6666666666666666, 196: 2.857142857142857, 197: -4.0, 198: 19.0, 199: 28.0, 200: 1.0, 201: -22.4, 202: -5.0, 203: 20.0, 204: 24.0, 205: 4.0, 206: -0.3333333333333333, 207: -7.0, 208: 3.0, 209: 58.5, 210: 5.0, 211: 23.0, 212: 57.0, 213: 10.0, 214: -1.0, 215: 1.0, 216: 10.0, 217: 6.0, 218: 0.0, 219: -8.166666666666666, 220: 1.9, 221: 95.0, 222: -1.0, 223: -26.0, 224: 11.0, 225: 7.0, 226: 0.0, 227: -1.4, 228: 11.2, 229: 7.0, 230: -2.0, 231: 2.5, 232: -8.333333333333334, 233: 0.25, 234: 4.0, 235: 4.0, 236: 5.333333333333333, 237: 12.0, 238: 16.0, 239: 2.0, 240: 27.0, 241: 10.4, 242: -8.0, 243: 25.0, 244: 12.0, 245: 3.0, 246: -2.0, 247: 4.0, 248: 11.0, 249: -8.0, 250: 12.0, 251: -6.0, 252: 13.0, 253: 6.2, 254: 1.0, 255: 0.0, 256: 9.0, 257: 25.0, 258: 9.333333333333334, 259: 1.0, 260: 23.0, 261: 6.666666666666667, 262: 11.666666666666666, 263: 19.0, 264: 15.0, 265: 5.0, 266: 3.0, 267: 7.0, 268: -1.6666666666666667, 269: -23.0, 270: 4.5, 271: 12.0, 272: -8.0, 273: 23.0, 274: 67.0, 275: 12.5, 276: -1.0, 277: 7.0, 278: -9.0, 279: -14.5, 280: -8.5, 281: -13.0, 282: -7.0, 283: -9.0, 284: 47.25, 285: 29.0, 286: 3.0, 287: -0.1, 288: 11.6, 289: -24.0, 290: 0.7, 291: 9.0, 292: 7.5, 293: 10.5, 294: 0.6666666666666666, 295: -11.0, 296: -3.142857142857143, 297: -32.0, 298: 4.090909090909091, 299: -0.375, 300: -1.8, 301: -2.9047619047619047, 302: 4.0, 303: -8.75, 304: -4.5, 305: 5.666666666666667, 306: 4.75, 307: 21.333333333333332, 308: 27.6, 309: 0.8571428571428571, 310: -0.5555555555555556, 311: -13.5, 312: 4.0, 313: -1.5, 314: -0.5263157894736842, 315: -5.0, 316: -1.0, 317: 1.1666666666666667, 318: 15.2, 319: 5.142857142857143, 320: -0.21153846153846154, 321: 7.25, 322: 6.666666666666667, 323: -0.37777777777777777, 324: 6.032786885245901, 325: -5.333333333333333, 326: 4.833333333333333, 327: 5.5, 328: 0.631578947368421, 329: -3.5714285714285716, 330: -2.0, 331: 3.095890410958904, 332: 5.0, 333: 1.905759162303665, 334: 0.3700787401574803, 335: 3.9411764705882355, 336: 5.333333333333333, 337: 6.09795918367347, 338: 4.324324324324325, 339: 8.8, 340: 39.0, 341: -5.0, 342: -0.16666666666666666, 343: 11.428571428571429, 344: -0.09090909090909091, 345: 1.0, 346: -1.0, 347: 3.6666666666666665, 348: -0.3333333333333333, 349: 4.5, 350: 0.9375, 351: -3.0, 352: -4.0, 353: 1.75, 354: 1.0, 355: 21.0, 356: 0.1111111111111111, 357: 7.0, 358: 5.0, 359: 5.384920634920635, 360: 1.3333333333333333, 361: 2.1, 362: 5.369047619047619, 363: 2.0, 364: 5.904109589041096, 365: 11.666666666666666, 366: 5.0, 367: 25.333333333333332, 368: 4.0, 369: 6.4, 370: 55.346666666666664, 371: -0.3333333333333333, 372: -3.0, 373: -1.8, 374: -0.3333333333333333, 375: 3.8, 376: 0.0, 377: 4.076923076923077, 378: 5.428571428571429, 379: 0.0, 380: 1.5, 381: 3.1, 382: 1.380952380952381, 383: 6.0, 384: -1.3333333333333333, 385: -2.5, 386: 2.130434782608696, 387: -5.0, 388: 1.2857142857142858, 389: 9.169096209912537, 390: 2.3333333333333335, 391: 8.0, 392: 6.0, 393: -0.2222222222222222, 394: -16.0, 395: 7.75, 396: -8.0, 397: 6.516129032258065, 398: 0.7222222222222222, 399: 3.0, 400: 5.0, 401: 33.0, 402: 2.054054054054054, 403: 2.0, 404: 2.0, 405: 0.0, 406: -0.6666666666666666, 407: 15.636363636363637, 408: -1.5, 409: -1.6666666666666667, 410: 0.0, 411: -1.1428571428571428, 412: 0.8333333333333334, 413: 4.0, 414: -1.0, 415: 1.0, 416: 19.0, 417: 4.0, 418: 5.5, 419: -4.0, 420: 3.087719298245614, 421: -0.7142857142857143, 422: 5.0, 423: 0.0, 424: 7.666666666666667, 425: 14.0, 426: -1.0, 427: 2.6666666666666665, 428: -5.0, 429: -3.5, 430: 1.7142857142857142, 431: 0.0, 432: -4.25, 433: 0.5, 434: 16.0, 435: 3.5, 436: -2.8, 437: 1.6, 438: 3.0, 439: -11.5, 440: 2.0, 441: 2.382978723404255, 442: 4.909090909090909, 443: 0.0, 444: 3.0555555555555554, 445: 0.5, 446: -7.0, 447: -2.0, 448: 0.0, 449: -6.0, 450: -2.652173913043478, 451: 0.6111111111111112, 452: -3.5, 453: 0.39805825242718446, 454: -5.0, 455: 5.0, 456: -3.5, 457: 8.0, 458: -5.5, 459: 0.0, 460: 28.0, 461: -2.0, 462: 1.6538461538461537, 463: -10.222222222222221, 464: -4.2, 465: -4.0, 466: -1.8333333333333333, 467: 2.6, 468: 3.0, 469: -2.4, 470: 0.0, 471: 0.0, 472: 2.3333333333333335, 473: 1.0, 474: -0.5862068965517241, 475: 6.666666666666667, 476: 3.5, 477: 7.0, 478: 2.0, 479: 3.6666666666666665, 480: -6.666666666666667, 481: 5.0, 482: 0.625, 483: 3.5, 484: -0.5, 485: -3.0, 486: 0.8, 487: -9.0, 488: -3.0, 489: 1.1, 490: 22.5, 491: 8.0, 492: 0.0, 493: -13.333333333333334, 494: 2.339622641509434, 495: 12.0, 496: -1.6666666666666667, 497: -6.571428571428571, 498: 2.0, 499: 1.0, 500: 9.0, 501: 1.3220338983050848, 502: -0.38461538461538464, 503: 3.3333333333333335, 504: -8.0, 505: 1.75, 506: 9.0, 507: 2.027027027027027, 508: 3.0, 509: -4.0, 510: -4.0, 511: 5.0, 512: 12.538461538461538, 513: 1.0, 514: -3.6, 515: -0.4, 516: 8.0, 517: -0.3333333333333333, 518: 6.0, 519: -1.0, 520: 1.5555555555555556, 521: -4.0, 522: -1.0, 523: 1.0, 524: -1.8125, 525: 2.857142857142857, 526: 0.5, 527: 3.0, 528: -4.857142857142857, 529: 3.0, 530: -0.8888888888888888, 531: 2.7777777777777777, 532: 6.0, 533: 1.7826086956521738, 534: -19.0, 535: -0.2, 536: 3.0, 537: -3.392947103274559, 538: 12.0, 539: 3.297029702970297, 540: -0.4090909090909091, 541: 0.6363636363636364, 542: 2.0555555555555554, 543: 3.0, 544: 4.0, 545: 1.6666666666666667, 546: 8.166666666666666, 547: 7.777777777777778, 548: -3.5, 549: 0.3333333333333333, 550: 7.8, 551: 5.0, 552: -4.0, 553: 0.7857142857142857, 554: 3.142857142857143, 555: -9.0, 556: 8.5, 557: 7.0, 558: 6.0, 559: -0.09090909090909091, 560: 1.0, 561: 2.1904761904761907, 562: 4.285714285714286, 563: 3.0, 564: 5.92, 565: 5.0, 566: 2.5217391304347827, 567: -1.5, 568: -29.75, 569: 2.761904761904762, 570: 0.5, 571: 7.653846153846154, 572: -6.0, 573: 0.5526315789473685, 574: 0.0, 575: -3.75, 576: -8.0, 577: 3.0, 578: 4.0, 579: -1.0, 580: 1.0, 581: 2.0, 582: 1.4651162790697674, 583: 0.0, 584: 13.75, 585: 1.5, 586: -22.8, 587: -0.24390243902439024, 588: 0.5, 589: 2.3157894736842106, 590: -3.0, 591: 0.75, 592: 0.0, 593: -2.8484848484848486, 594: 3.5, 595: -3.0, 596: 62.0, 597: 0.0, 598: 0.5555555555555556, 599: -0.5, 600: 0.5454545454545454, 601: -2.0, 602: 11.5, 603: 11.0, 604: 7.0, 605: 1.8888888888888888, 606: 6.0, 607: 2.0, 608: -6.0, 609: 6.0, 610: 4.777777777777778, 611: 13.0, 612: 10.0, 613: -0.3333333333333333, 614: -3.5, 615: -9.0, 616: 2.0, 617: -8.0, 618: -3.0, 619: 5.0, 620: -4.0, 621: 2.0, 622: -3.5714285714285716, 623: -0.5, 624: 2.6, 625: 11.0, 626: 4.0, 627: 5.0, 628: 1.0, 629: 9.0, 630: -3.8, 631: -4.0, 632: 0.4146341463414634, 633: -0.7857142857142857, 634: 1.0, 635: 7.712121212121212, 636: -1.6666666666666667, 637: 2.1052631578947367, 638: -2.0, 639: 3.3333333333333335, 640: 0.6666666666666666, 641: -3.0, 642: -8.0, 643: 24.428571428571427, 644: 5.5, 645: -4.0, 646: 0.5806451612903226, 647: -1.0, 648: -3.1660649819494586, 649: 1.3563218390804597, 650: 0.5288461538461539, 651: -6.676950998185118, 652: 1.0, 653: 0.0, 654: 1.0, 655: 1.33, 656: -5.0, 657: 1.0526315789473684, 658: 1.5180467091295118, 659: -8.5, 660: -5.739130434782608, 661: 11.0, 662: 20.0, 663: 0.6290322580645161, 664: 9.4, 665: 7.4603174603174605, 666: -0.18421052631578946, 667: -5.0, 668: -0.5714285714285714, 669: 3.5384615384615383, 670: -1.0, 671: 0.9666666666666667, 672: 1.0, 673: 1.901639344262295, 674: 0.0, 675: 2.88, 676: -2.0, 677: -2.5, 678: 0.35714285714285715, 679: 1.3333333333333333, 680: 0.0, 681: 0.1509433962264151, 682: 2.4285714285714284, 683: -10.666666666666666, 684: 30.75, 685: -6.0, 686: -0.581081081081081, 687: -1.25, 688: 2.5625, 689: 3.0, 690: 5.928571428571429, 691: -1.75, 692: -4.4, 693: -9.0, 694: -3.7, 695: 0.8853550295857988, 696: 3.0625, 697: 2.1, 698: 0.0, 699: 0.0, 700: 1.1666666666666667, 701: 1.0416666666666667, 702: -1.0754716981132075, 703: -5.0, 704: -3.6666666666666665, 705: -3.0, 706: 0.0, 707: 0.65625, 708: -9.0, 709: -2.0, 710: 0.0, 711: -8.0, 712: -2.1666666666666665, 713: 1.5789473684210527, 714: 0.0, 715: -10.0, 716: 1.0, 717: 1.3953488372093024, 718: 0.5, 719: -2.3333333333333335, 720: -2.0, 721: -0.5, 722: 11.666666666666666, 723: 0.32926829268292684, 724: -6.4, 725: 6.0, 726: -4.0, 727: 0.8814814814814815, 728: -1.0, 729: -1.5, 730: 33.333333333333336, 731: 1.9541284403669725, 732: 8.6875, 733: 0.5, 734: -10.0, 735: 1.1304347826086956, 736: -0.225, 737: 0.6979166666666666, 738: -2.4489795918367347, 739: -2.888888888888889, 740: 0.0, 741: 0.7407407407407407, 742: 2.721518987341772, 743: 0.5, 744: 0.3333333333333333, 745: -1.75, 746: -8.0, 747: 120.0, 748: -1.794871794871795, 749: -5.0, 750: 0.9540229885057471, 751: -1.0, 752: 0.5, 753: 1.3103448275862069, 754: 2.8, 755: 0.5961538461538461, 756: 0.5974025974025974, 757: 4.0, 758: 2.0, 759: -4.0, 760: 0.38333333333333336, 761: -4.363636363636363, 762: -6.555555555555555, 763: 1.2222222222222223, 764: 1.8888888888888888, 765: -6.75, 766: 1.24, 767: 2.4431818181818183, 768: 3.0, 769: 4.0, 770: 3.0, 771: 0.6, 772: 12.25, 773: 0.7368421052631579, 774: -2.0, 775: 1.0792811839323466, 776: 3.6, 777: 3.0833333333333335, 778: 0.0, 779: 0.5555555555555556, 780: -1.6185185185185185, 781: 11.0, 782: 0.021395348837209303, 783: -6.0, 784: -0.5223880597014925, 785: 0.5625, 786: 0.7272727272727273, 787: 0.18518518518518517, 788: 1.1428571428571428, 789: 2.0814814814814815, 790: 1.1818181818181819, 791: 10.0, 792: 2.5, 793: -0.1111111111111111, 794: -0.42857142857142855, 795: -0.16666666666666666, 796: 0.5882352941176471, 797: -8.818181818181818, 798: -2.1073446327683616, 799: 0.0, 800: -2.090909090909091, 801: -3.05, 802: -1.0, 803: 2.533333333333333, 804: 0.868995633187773, 805: 2.1153262518968132, 806: -4.560975609756097, 807: 1.5, 808: -0.8, 809: -1.0, 810: -1.0, 811: 0.9130434782608695, 812: 3.6, 813: 1.6017699115044248, 814: -3.8496240601503757, 815: 1.7115384615384615, 816: 5.0476190476190474, 817: -2.8823529411764706, 818: -11.92, 819: -2.5, 820: 0.3333333333333333, 821: 0.4117647058823529, 822: 1.1842105263157894, 823: 1.4457142857142857, 824: 2.393939393939394, 825: -0.21428571428571427, 826: -2.0, 827: 0.4473684210526316, 828: 1.0526315789473684, 829: 13.0, 830: 0.8597560975609756, 831: -0.6666666666666666, 832: -0.75, 833: 0.23636363636363636, 834: 0.7333333333333333, 835: -3.066666666666667, 836: 0.7777777777777778, 837: 8.5, 838: 1.8235294117647058, 839: 0.0, 840: 1.0, 841: 1.6666666666666667, 842: 1.8860759493670887, 843: -0.39705882352941174, 844: -3.0, 845: 1.0, 846: 6.4, 847: 1.7209302325581395, 848: 0.0, 849: 15.75, 850: 5.571428571428571, 851: 4.5, 852: 0.5853658536585366, 853: 5.0, 854: -10.0, 855: -1.8, 856: 14.090909090909092, 857: 0.0, 858: 0.0, 859: -4.75, 860: -3.0, 861: 3.1666666666666665, 862: 0.0, 863: 1.7241379310344827, 864: 1.992063492063492, 865: 2.1259259259259258, 866: 1.75, 867: -0.6744186046511628, 868: -1.1538461538461537, 869: -9.727272727272727, 870: 0.6835443037974683, 871: 2.088607594936709, 872: -2.8852459016393444, 873: 18.0, 874: -0.4012987012987013, 875: 3.696969696969697, 876: -2.875, 877: -10.0, 878: 2.317073170731707, 879: 0.5333333333333333, 880: 4.296296296296297, 881: -4.9, 882: 2.0839160839160837, 883: 0.4, 884: -4.175, 885: 7.0, 886: 0.0, 887: -5.166666666666667, 888: 1.25, 889: 5.0, 890: -5.0, 891: -11.0, 892: 0.7142857142857143, 893: -2.0, 894: 0.4262295081967213, 895: 30.363636363636363, 896: 2.6, 897: 4.4, 898: -10.5, 899: -31.666666666666668, 900: 0.5172413793103449, 901: 15.0, 902: 4.333333333333333, 903: -0.5, 904: 4.0, 905: -5.0, 906: -1.6666666666666667, 907: -3.0, 908: -3.0, 909: 3.9655172413793105, 910: -21.0, 911: 0.576271186440678, 912: -5.333333333333333, 913: -1.5, 914: 3.888888888888889, 915: 0.7108433734939759, 916: 1.3333333333333333, 917: 23.2, 918: -0.5, 919: 1.255813953488372, 920: -4.5, 921: -7.5, 922: 2.291970802919708, 923: 6.0, 924: 4.0, 925: -4.666666666666667, 926: -15.0, 927: 1.6323529411764706, 928: 0.8933333333333333, 929: -2.0, 930: 10.0, 931: 26.125, 932: 3.6666666666666665, 933: 1.2819383259911894, 934: -48.0, 935: 4.0, 936: 58.42307692307692, 937: 2.111111111111111, 938: 1.0, 939: 9.0, 940: 10.0, 941: -0.5, 942: 11.666666666666666, 943: 0.045454545454545456, 944: 0.7, 945: 6.0, 946: 8.0, 947: 0.43457943925233644, 948: 8.421052631578947, 949: 3.5555555555555554, 950: -4.194444444444445, 951: 1.0, 952: 0.4, 953: 0.0, 954: -18.0, 955: -1.875, 956: 0.8, 957: 0.0, 958: 3.0, 959: 5.0, 960: 1.6666666666666667, 961: -2.75, 962: 1.8333333333333333, 963: 0.0, 964: -1.0, 965: -1.0, 966: 11.0, 967: 1.0, 968: -28.0, 969: 0.0, 970: -2.0, 971: -4.0, 972: 2.0, 973: -6.0, 974: 2.0, 975: -3.0, 976: 5.0, 977: 5.0, 978: 4.0, 979: 10.0, 980: -11.0, 981: 3.5, 982: 24.0, 983: -7.0, 984: 1.0, 985: 1.1, 986: -3.0, 987: 1.0, 988: -2.3333333333333335, 989: -2.0, 990: -4.0, 991: 19.0, 992: 3.5, 993: 4.0, 994: -2.0, 995: 0.0, 996: 3.0, 997: -3.0, 998: 7.0, 999: -2.5, 1000: -2.6666666666666665, 1001: 0.0, 1002: 9.0, 1003: 0.0, 1004: -22.0, 1005: 20.0, 1006: -6.0, 1007: 34.0, 1008: 0.0, 1009: 6.0, 1010: 7.0, 1011: 4.0, 1012: 3.0, 1013: 0.0, 1014: 21.0, 1015: -52.0, 1016: -71.5, 1017: 3.0, 1018: 8.0, 1019: -2.0, 1020: 11.0, 1021: 2.0, 1022: 17.0, 1023: 10.0, 1024: 4.5, 1025: 0.0, 1026: -2.5, 1027: -1.0, 1028: -3.0, 1029: -1.0, 1030: 9.0, 1031: -1.0, 1032: 7.0, 1033: 1.0, 1034: 8.0, 1035: 3.0, 1036: 15.0, 1037: 5.0, 1038: -0.5, 1039: 4.0, 1040: 7.0, 1041: 3.0, 1042: 0.18181818181818182, 1043: 2.9166666666666665, 1044: 4.285714285714286, 1045: 3.3333333333333335, 1046: -0.5, 1047: 0.0, 1048: -1.0, 1049: 4.3, 1050: 6.333333333333333, 1051: 3.2857142857142856, 1052: 62.857142857142854, 1053: -1.0, 1054: 2.0, 1055: 0.0, 1056: 9.0, 1057: 2.0, 1058: 3.0, 1059: -4.0, 1060: 2.857142857142857, 1061: 10.542857142857143, 1062: -18.0, 1063: 4.0, 1064: 1.0, 1065: 2.0, 1066: 0.0, 1067: -1.0, 1068: 3.6666666666666665, 1069: 0.25, 1070: 0.0, 1071: 5.0, 1072: -1.0, 1073: 0.0, 1074: 1.0, 1075: 3.3333333333333335, 1076: -4.0, 1077: 3.5, 1078: 0.0, 1079: -9.0, 1080: -7.142857142857143, 1081: -2.2857142857142856, 1082: -2.0, 1083: 1.6666666666666667, 1084: 12.0, 1085: 2.0, 1086: -5.0, 1087: 1.0, 1088: -2.0, 1089: 2.0, 1090: 2.6666666666666665, 1091: 4.0, 1092: -1.8, 1093: -0.875, 1094: 4.0, 1095: 2.3333333333333335, 1096: 4.5, 1097: 0.0, 1098: 7.0, 1099: 1.0, 1100: 0.0, 1101: 1.5, 1102: -0.8787878787878788, 1103: -2.4, 1104: -4.0, 1105: 8.0, 1106: 11.181818181818182, 1107: 0.3333333333333333, 1108: 7.0, 1109: 1.0, 1110: 0.0, 1111: 1.5, 1112: 0.0, 1113: 2.0, 1114: -18.0, 1115: 1.0, 1116: -8.6, 1117: -5.333333333333333, 1118: -2.0, 1119: -3.0, 1120: 0.3333333333333333, 1121: -52.0, 1122: -0.5714285714285714, 1123: 2.8, 1124: -1.0, 1125: 2.0, 1126: 3.25, 1127: 4.0, 1128: -7.0, 1129: -8.0, 1130: -2.0, 1131: 3.0, 1132: 0.0, 1133: 0.5, 1134: -1.0, 1135: 3.142857142857143, 1136: 1.6666666666666667, 1137: 2.3333333333333335, 1138: 1.0, 1139: 2.16, 1140: 0.0, 1141: 0.8333333333333334, 1142: -6.379310344827586, 1143: 7.0, 1144: 0.5555555555555556, 1145: 0.6666666666666666, 1146: -6.375, 1147: 0.36666666666666664, 1148: 3.0, 1149: 1.0, 1150: 10.0, 1151: 0.6666666666666666, 1152: -0.16666666666666666, 1153: -0.2222222222222222, 1154: 38.0, 1155: 0.4, 1156: 6.5, 1157: -1.0, 1158: 0.0, 1159: 5.2, 1160: 121.0, 1161: -4.0, 1162: 2.375, 1163: -7.333333333333333, 1164: -3.5, 1165: 0.6530612244897959, 1166: 0.0, 1167: 1.25, 1168: 1.5, 1169: -9.0, 1170: 0.4, 1171: 1.0, 1172: 2.0, 1173: -1.0, 1174: 2.0, 1175: 0.0, 1176: -2.0, 1177: 1.6428571428571428, 1178: 2.6666666666666665, 1179: 1.75, 1180: 0.0, 1181: 4.5, 1182: 2.0, 1183: -0.4, 1184: 0.0, 1185: -2.0, 1186: 0.6666666666666666, 1187: 2.7941176470588234, 1188: 0.0, 1189: 2.0, 1190: 2.0, 1191: 1.25, 1192: 0.7142857142857143, 1193: 0.8333333333333334, 1194: 1.0, 1195: 0.8181818181818182, 1196: 3.25, 1197: 1.0, 1198: 1.0, 1199: -4.0, 1200: 2.6666666666666665, 1201: 1.1975308641975309, 1202: 0.0, 1203: 0.0, 1204: -3.7333333333333334, 1205: 1.7391304347826086, 1206: -6.0, 1207: -0.75, 1208: 4.0, 1209: 0.0, 1210: 1.6, 1211: 0.6666666666666666, 1212: 0.0, 1213: 0.0, 1214: -8.333333333333334, 1215: -2.188073394495413, 1216: 18.0, 1217: 0.0, 1218: 0.3333333333333333, 1219: 4.166666666666667, 1220: 0.717391304347826, 1221: 1.6666666666666667, 1222: 2.0, 1223: -12.0, 1224: -0.3333333333333333, 1225: 0.8888888888888888, 1226: -10.5, 1227: 6.0, 1228: 5.2, 1229: -21.0, 1230: -35.0, 1231: 1.0, 1232: 0.3888888888888889, 1233: 2.8, 1234: 0.0, 1235: 0.0, 1236: -3.25, 1237: 0.8571428571428571, 1238: 0.0, 1239: -2.0, 1240: 3.0, 1241: -1.0, 1242: -1.0, 1243: -1.9, 1244: -2.0, 1245: 3.3333333333333335, 1246: -1.0, 1247: 0.0, 1248: 2.0, 1249: 2.0, 1250: 1.0, 1251: 1.125, 1252: 7.571428571428571, 1253: 0.0, 1254: -1.25, 1255: 0.6666666666666666, 1256: -2.6, 1257: -21.8, 1258: -0.8846153846153846, 1259: 2.0, 1260: 2.8, 1261: 0.0, 1262: 2.5, 1263: 0.0, 1264: 1.5454545454545454, 1265: -74.0, 1266: 2.0, 1267: 0.8571428571428571, 1268: 1.0, 1269: -7.0, 1270: 2.0, 1271: 3.0, 1272: 2.0, 1273: 1.7142857142857142, 1274: 2.0, 1275: 0.2857142857142857, 1276: 3.0, 1277: 15.0, 1278: -1.0, 1279: 4.0, 1280: 1.0, 1281: -1.0, 1282: 0.25, 1283: 0.0, 1284: 1.0, 1285: 1.0769230769230769, 1286: 39.2, 1287: 3.0, 1288: 8.5, 1289: 2.6666666666666665, 1290: 6.0, 1291: 0.75, 1292: 1.8333333333333333, 1293: 3.5, 1294: 1.0, 1295: -11.0, 1296: 2.0, 1297: -7.0, 1298: 7.111111111111111, 1299: 9.5, 1300: 67.25, 1301: 145.0, 1302: 36.5, 1303: 25.115384615384617, 1304: 18.857142857142858, 1305: 26.962962962962962, 1306: 73.0, 1307: 60.55555555555556, 1308: 20.0, 1309: 20.8, 1310: 99.0, 1311: 8.717289719626168, 1312: 7.0, 1313: 6.3119266055045875}\n"
          ],
          "name": "stdout"
        }
      ]
    },
    {
      "cell_type": "code",
      "metadata": {
        "colab": {
          "base_uri": "https://localhost:8080/"
        },
        "id": "r4nijOiYtyVw",
        "outputId": "2e028cfe-e68d-4a68-b62e-171f913a3be6"
      },
      "source": [
        "# Created a dictionary which is grouped by cust_number and encoding target value for better training results.\n",
        "# Target Encoding has been done on trainset and has been mapped to testset and validationset.\n",
        "X_train['target_encoded1'] = X_train['cust_number'].map(target_mapper1)\n",
        "mean = X_train['target_encoded1'].mean()\n",
        "mean"
      ],
      "execution_count": 66,
      "outputs": [
        {
          "output_type": "execute_result",
          "data": {
            "text/plain": [
              "0.6835977295881587"
            ]
          },
          "metadata": {
            "tags": []
          },
          "execution_count": 66
        }
      ]
    },
    {
      "cell_type": "code",
      "metadata": {
        "id": "ofC5gUbG-8Dl"
      },
      "source": [
        "X_val['target_encoded1'] = X_val['cust_number'].map(target_mapper1)\n",
        "X_val['target_encoded1'] = X_val['target_encoded1'].replace(np.nan, mean)\n",
        "X_test['target_encoded1'] = X_test['cust_number'].map(target_mapper1)\n",
        "X_test['target_encoded1'] = X_test['target_encoded1'].replace(np.nan, mean)"
      ],
      "execution_count": 67,
      "outputs": []
    },
    {
      "cell_type": "code",
      "metadata": {
        "id": "NI1wLad2DGw7"
      },
      "source": [
        "# Standard Scaling the entire trainset and then mapping it to testset and validationset.\n",
        "from sklearn.preprocessing import StandardScaler\n",
        "\n",
        "scaler = StandardScaler()\n",
        "X_train = scaler.fit_transform(X_train)\n",
        "X_val = scaler.transform(X_val)\n",
        "X_test = scaler.transform(X_test)"
      ],
      "execution_count": 68,
      "outputs": []
    },
    {
      "cell_type": "code",
      "metadata": {
        "colab": {
          "base_uri": "https://localhost:8080/",
          "height": 202
        },
        "id": "TVabP_YIDViD",
        "outputId": "7bd523c7-0d44-4e89-c64e-1f947b0623e4"
      },
      "source": [
        "col_name = ['business_code', 'cust_number', 'invoice_currency', 'total_open_amount', 'cust_payment_terms', 'days_alloted', 'target_encoded1']\n",
        "X_train = pd.DataFrame(X_train)\n",
        "X_val = pd.DataFrame(X_val)\n",
        "X_test = pd.DataFrame(X_test)\n",
        "X_train.columns = col_name\n",
        "X_val.columns = col_name\n",
        "X_test.columns = col_name\n",
        "X_train.head()"
      ],
      "execution_count": 69,
      "outputs": [
        {
          "output_type": "execute_result",
          "data": {
            "text/html": [
              "<div>\n",
              "<style scoped>\n",
              "    .dataframe tbody tr th:only-of-type {\n",
              "        vertical-align: middle;\n",
              "    }\n",
              "\n",
              "    .dataframe tbody tr th {\n",
              "        vertical-align: top;\n",
              "    }\n",
              "\n",
              "    .dataframe thead th {\n",
              "        text-align: right;\n",
              "    }\n",
              "</style>\n",
              "<table border=\"1\" class=\"dataframe\">\n",
              "  <thead>\n",
              "    <tr style=\"text-align: right;\">\n",
              "      <th></th>\n",
              "      <th>business_code</th>\n",
              "      <th>cust_number</th>\n",
              "      <th>invoice_currency</th>\n",
              "      <th>total_open_amount</th>\n",
              "      <th>cust_payment_terms</th>\n",
              "      <th>days_alloted</th>\n",
              "      <th>target_encoded1</th>\n",
              "    </tr>\n",
              "  </thead>\n",
              "  <tbody>\n",
              "    <tr>\n",
              "      <th>0</th>\n",
              "      <td>-0.309796</td>\n",
              "      <td>0.250987</td>\n",
              "      <td>0.302664</td>\n",
              "      <td>-0.540520</td>\n",
              "      <td>-0.018489</td>\n",
              "      <td>-0.247909</td>\n",
              "      <td>-0.486867</td>\n",
              "    </tr>\n",
              "    <tr>\n",
              "      <th>1</th>\n",
              "      <td>-0.309796</td>\n",
              "      <td>0.250987</td>\n",
              "      <td>0.302664</td>\n",
              "      <td>0.259255</td>\n",
              "      <td>-0.018489</td>\n",
              "      <td>-0.247909</td>\n",
              "      <td>-0.486867</td>\n",
              "    </tr>\n",
              "    <tr>\n",
              "      <th>2</th>\n",
              "      <td>-0.309796</td>\n",
              "      <td>0.250987</td>\n",
              "      <td>0.302664</td>\n",
              "      <td>-0.465122</td>\n",
              "      <td>-0.018489</td>\n",
              "      <td>-0.247909</td>\n",
              "      <td>-0.486867</td>\n",
              "    </tr>\n",
              "    <tr>\n",
              "      <th>3</th>\n",
              "      <td>-0.309796</td>\n",
              "      <td>0.250987</td>\n",
              "      <td>0.302664</td>\n",
              "      <td>-0.744587</td>\n",
              "      <td>-0.018489</td>\n",
              "      <td>-0.247909</td>\n",
              "      <td>-0.486867</td>\n",
              "    </tr>\n",
              "    <tr>\n",
              "      <th>4</th>\n",
              "      <td>-0.309796</td>\n",
              "      <td>0.250987</td>\n",
              "      <td>0.302664</td>\n",
              "      <td>0.101404</td>\n",
              "      <td>-0.018489</td>\n",
              "      <td>-0.247909</td>\n",
              "      <td>-0.486867</td>\n",
              "    </tr>\n",
              "  </tbody>\n",
              "</table>\n",
              "</div>"
            ],
            "text/plain": [
              "   business_code  cust_number  ...  days_alloted  target_encoded1\n",
              "0      -0.309796     0.250987  ...     -0.247909        -0.486867\n",
              "1      -0.309796     0.250987  ...     -0.247909        -0.486867\n",
              "2      -0.309796     0.250987  ...     -0.247909        -0.486867\n",
              "3      -0.309796     0.250987  ...     -0.247909        -0.486867\n",
              "4      -0.309796     0.250987  ...     -0.247909        -0.486867\n",
              "\n",
              "[5 rows x 7 columns]"
            ]
          },
          "metadata": {
            "tags": []
          },
          "execution_count": 69
        }
      ]
    },
    {
      "cell_type": "code",
      "metadata": {
        "colab": {
          "base_uri": "https://localhost:8080/"
        },
        "id": "9wTcs4OVjCkv",
        "outputId": "1b886c8b-18bb-4e99-c609-48bf8ddb2a1f"
      },
      "source": [
        "X_train.dtypes"
      ],
      "execution_count": 70,
      "outputs": [
        {
          "output_type": "execute_result",
          "data": {
            "text/plain": [
              "business_code         float64\n",
              "cust_number           float64\n",
              "invoice_currency      float64\n",
              "total_open_amount     float64\n",
              "cust_payment_terms    float64\n",
              "days_alloted          float64\n",
              "target_encoded1       float64\n",
              "dtype: object"
            ]
          },
          "metadata": {
            "tags": []
          },
          "execution_count": 70
        }
      ]
    },
    {
      "cell_type": "code",
      "metadata": {
        "colab": {
          "base_uri": "https://localhost:8080/",
          "height": 202
        },
        "id": "QaTwJcEkvMfX",
        "outputId": "c2cf17c4-6b15-4e2c-8aca-c95b4c985181"
      },
      "source": [
        "X_train.head()"
      ],
      "execution_count": 71,
      "outputs": [
        {
          "output_type": "execute_result",
          "data": {
            "text/html": [
              "<div>\n",
              "<style scoped>\n",
              "    .dataframe tbody tr th:only-of-type {\n",
              "        vertical-align: middle;\n",
              "    }\n",
              "\n",
              "    .dataframe tbody tr th {\n",
              "        vertical-align: top;\n",
              "    }\n",
              "\n",
              "    .dataframe thead th {\n",
              "        text-align: right;\n",
              "    }\n",
              "</style>\n",
              "<table border=\"1\" class=\"dataframe\">\n",
              "  <thead>\n",
              "    <tr style=\"text-align: right;\">\n",
              "      <th></th>\n",
              "      <th>business_code</th>\n",
              "      <th>cust_number</th>\n",
              "      <th>invoice_currency</th>\n",
              "      <th>total_open_amount</th>\n",
              "      <th>cust_payment_terms</th>\n",
              "      <th>days_alloted</th>\n",
              "      <th>target_encoded1</th>\n",
              "    </tr>\n",
              "  </thead>\n",
              "  <tbody>\n",
              "    <tr>\n",
              "      <th>0</th>\n",
              "      <td>-0.309796</td>\n",
              "      <td>0.250987</td>\n",
              "      <td>0.302664</td>\n",
              "      <td>-0.540520</td>\n",
              "      <td>-0.018489</td>\n",
              "      <td>-0.247909</td>\n",
              "      <td>-0.486867</td>\n",
              "    </tr>\n",
              "    <tr>\n",
              "      <th>1</th>\n",
              "      <td>-0.309796</td>\n",
              "      <td>0.250987</td>\n",
              "      <td>0.302664</td>\n",
              "      <td>0.259255</td>\n",
              "      <td>-0.018489</td>\n",
              "      <td>-0.247909</td>\n",
              "      <td>-0.486867</td>\n",
              "    </tr>\n",
              "    <tr>\n",
              "      <th>2</th>\n",
              "      <td>-0.309796</td>\n",
              "      <td>0.250987</td>\n",
              "      <td>0.302664</td>\n",
              "      <td>-0.465122</td>\n",
              "      <td>-0.018489</td>\n",
              "      <td>-0.247909</td>\n",
              "      <td>-0.486867</td>\n",
              "    </tr>\n",
              "    <tr>\n",
              "      <th>3</th>\n",
              "      <td>-0.309796</td>\n",
              "      <td>0.250987</td>\n",
              "      <td>0.302664</td>\n",
              "      <td>-0.744587</td>\n",
              "      <td>-0.018489</td>\n",
              "      <td>-0.247909</td>\n",
              "      <td>-0.486867</td>\n",
              "    </tr>\n",
              "    <tr>\n",
              "      <th>4</th>\n",
              "      <td>-0.309796</td>\n",
              "      <td>0.250987</td>\n",
              "      <td>0.302664</td>\n",
              "      <td>0.101404</td>\n",
              "      <td>-0.018489</td>\n",
              "      <td>-0.247909</td>\n",
              "      <td>-0.486867</td>\n",
              "    </tr>\n",
              "  </tbody>\n",
              "</table>\n",
              "</div>"
            ],
            "text/plain": [
              "   business_code  cust_number  ...  days_alloted  target_encoded1\n",
              "0      -0.309796     0.250987  ...     -0.247909        -0.486867\n",
              "1      -0.309796     0.250987  ...     -0.247909        -0.486867\n",
              "2      -0.309796     0.250987  ...     -0.247909        -0.486867\n",
              "3      -0.309796     0.250987  ...     -0.247909        -0.486867\n",
              "4      -0.309796     0.250987  ...     -0.247909        -0.486867\n",
              "\n",
              "[5 rows x 7 columns]"
            ]
          },
          "metadata": {
            "tags": []
          },
          "execution_count": 71
        }
      ]
    },
    {
      "cell_type": "code",
      "metadata": {
        "colab": {
          "base_uri": "https://localhost:8080/",
          "height": 599
        },
        "id": "5VszENHJwZ5i",
        "outputId": "934c86f6-3516-4c1a-ced6-afe5de086639"
      },
      "source": [
        "# Checking if the columns in my trainset are correlated among each other.\n",
        "# Since no columns are correlated amongst each other so not dropping any columns otherwise I would have dropped any one column out of the two correlated ones.\n",
        "X_train['target'] = y_train\n",
        "corr=X_train.corr()\n",
        "plt.figure(figsize=(14,8))\n",
        "X_train.drop(['target'], axis=1, inplace=True)\n",
        "sns.heatmap(corr,annot=True)"
      ],
      "execution_count": 72,
      "outputs": [
        {
          "output_type": "execute_result",
          "data": {
            "text/plain": [
              "<matplotlib.axes._subplots.AxesSubplot at 0x7ff2c7d804a8>"
            ]
          },
          "metadata": {
            "tags": []
          },
          "execution_count": 72
        },
        {
          "output_type": "display_data",
          "data": {
            "image/png": "[encoded data removed]",
            "text/plain": [
              "<Figure size 1008x576 with 2 Axes>"
            ]
          },
          "metadata": {
            "tags": [],
            "needs_background": "light"
          }
        }
      ]
    },
    {
      "cell_type": "code",
      "metadata": {
        "id": "ywREfjihsM9o"
      },
      "source": [
        "# Using Embedded method to find feature importance.\n",
        "def tree_based_feature_importance(x_train,y_train):\n",
        "    from sklearn.ensemble import RandomForestRegressor\n",
        "    # create the random forest model\n",
        "    model = RandomForestRegressor(n_estimators=120)\n",
        "\n",
        "    # fit the model to start training.\n",
        "    model.fit(x_train, y_train)\n",
        "\n",
        "    # get the importance of the resulting features.\n",
        "    importances = model.feature_importances_\n",
        "\n",
        "    # create a data frame for visualization.\n",
        "    final_df = pd.DataFrame({\"Features\": x_train.columns, \"Importances\":importances})\n",
        "    final_df.set_index('Importances')\n",
        "\n",
        "    # sort in descending order \n",
        "    final_df = final_df.sort_values('Importances',ascending=False)\n",
        "    \n",
        "    #visualising feature importance\n",
        "    pd.Series(model.feature_importances_, index=x_train.columns).nlargest(4).plot(kind='barh')  \n",
        "    return final_df"
      ],
      "execution_count": 73,
      "outputs": []
    },
    {
      "cell_type": "code",
      "metadata": {
        "colab": {
          "base_uri": "https://localhost:8080/",
          "height": 265
        },
        "id": "y0Qj8vGxv1z4",
        "outputId": "03ad56aa-bb30-47fd-8978-5dc102028f9a"
      },
      "source": [
        "feature_importance=tree_based_feature_importance(X_train,y_train)#features importance data frame"
      ],
      "execution_count": 74,
      "outputs": [
        {
          "output_type": "display_data",
          "data": {
            "image/png": "[encoded data removed]",
            "text/plain": [
              "<Figure size 432x288 with 1 Axes>"
            ]
          },
          "metadata": {
            "tags": [],
            "needs_background": "light"
          }
        }
      ]
    },
    {
      "cell_type": "code",
      "metadata": {
        "colab": {
          "base_uri": "https://localhost:8080/"
        },
        "id": "qPAdm2l7yHYD",
        "outputId": "630bc57a-47fb-4bf7-e76f-fdd963f5ae84"
      },
      "source": [
        "X_train.shape, X_val.shape, X_test.shape, y_train.shape, y_val.shape, y_test.shape"
      ],
      "execution_count": 75,
      "outputs": [
        {
          "output_type": "execute_result",
          "data": {
            "text/plain": [
              "((34355, 7), (4242, 7), (3818, 7), (34355,), (4242,), (3818,))"
            ]
          },
          "metadata": {
            "tags": []
          },
          "execution_count": 75
        }
      ]
    },
    {
      "cell_type": "code",
      "metadata": {
        "id": "7RnAwLCUGSVM"
      },
      "source": [
        "# Making a copy of trainset, validationset and testset.\n",
        "X_traincopy = X_train.copy(deep=True)\n",
        "X_valcopy = X_val.copy(deep=True)\n",
        "X_testcopy = X_test.copy(deep=True)"
      ],
      "execution_count": 76,
      "outputs": []
    },
    {
      "cell_type": "markdown",
      "metadata": {
        "id": "nOlEoeKGYV5J"
      },
      "source": [
        "## Selecting Features on which I got the best results."
      ]
    },
    {
      "cell_type": "code",
      "metadata": {
        "id": "OD05xlscXUuv"
      },
      "source": [
        "X_traincopy.drop(['invoice_currency', 'business_code', 'cust_payment_terms'], axis=1, inplace=True)\n",
        "X_valcopy.drop(['invoice_currency', 'business_code', 'cust_payment_terms'], axis=1, inplace=True)\n",
        "X_testcopy.drop(['invoice_currency', 'business_code', 'cust_payment_terms'], axis=1, inplace=True)"
      ],
      "execution_count": 77,
      "outputs": []
    },
    {
      "cell_type": "code",
      "metadata": {
        "id": "zOKY3oAsyT3S"
      },
      "source": [
        "X_traincopy = np.array(X_traincopy)\n",
        "X_valcopy = np.array(X_valcopy)\n",
        "X_testcopy = np.array(X_testcopy)"
      ],
      "execution_count": 78,
      "outputs": []
    },
    {
      "cell_type": "code",
      "metadata": {
        "id": "pDjYxz-EBauw"
      },
      "source": [
        "# Modeling & Accuracy Metrics\n",
        "from sklearn.linear_model import LinearRegression\n",
        "from sklearn.ensemble import RandomForestRegressor\n",
        "import xgboost as xgb\n",
        "from sklearn.metrics import mean_squared_error\n",
        "from sklearn.metrics import r2_score"
      ],
      "execution_count": 79,
      "outputs": []
    },
    {
      "cell_type": "code",
      "metadata": {
        "id": "ri0phBawTkia"
      },
      "source": [
        "# Function to find RMSE score.\n",
        "def rmse(predictions, targets):\n",
        "    return np.sqrt(((predictions - targets) ** 2).mean())"
      ],
      "execution_count": 80,
      "outputs": []
    },
    {
      "cell_type": "code",
      "metadata": {
        "id": "NBb4xYwMBeju"
      },
      "source": [
        "# Defining Lists to Store in the Results and Names of Algorithms\n",
        "RMSE_Score = []\n",
        "R2_Score = []\n",
        "Algorithm = []"
      ],
      "execution_count": 81,
      "outputs": []
    },
    {
      "cell_type": "markdown",
      "metadata": {
        "id": "Y36EgOSUYV5M"
      },
      "source": [
        "#### Trying out different models and then I will display a scorecard at last on the basis of which I will finalise my model."
      ]
    },
    {
      "cell_type": "code",
      "metadata": {
        "id": "Ujw2v764Bil_"
      },
      "source": [
        "# Fitting Simple Linear Regression to the Training Set\n",
        "Algorithm.append('Linear Regression')\n",
        "clf = LinearRegression()\n",
        "clf.fit(X_traincopy, y_train)\n",
        "\n",
        "# Predicting the Val Set Results\n",
        "predicted = clf.predict(X_valcopy)"
      ],
      "execution_count": 82,
      "outputs": []
    },
    {
      "cell_type": "code",
      "metadata": {
        "id": "W0iamsmbBsVp"
      },
      "source": [
        "# Appending the Scores For Visualisation at a Later Part\n",
        "RMSE_Score.append(rmse(predicted, y_val))\n",
        "R2_Score.append(r2_score(y_val, predicted))"
      ],
      "execution_count": 83,
      "outputs": []
    },
    {
      "cell_type": "code",
      "metadata": {
        "id": "zKSO8S_kCLmH"
      },
      "source": [
        "# Fitting Random Forest Regressor Tree to the Training Set\n",
        "Algorithm.append('Random Forest Regressor')\n",
        "clf = RandomForestRegressor(n_estimators=300, random_state=0)\n",
        "clf.fit(X_traincopy, y_train)\n",
        "\n",
        "# Predicting the Val Set Results\n",
        "predicted = clf.predict(X_valcopy)"
      ],
      "execution_count": 84,
      "outputs": []
    },
    {
      "cell_type": "code",
      "metadata": {
        "id": "xMZ3RnUlCPjy"
      },
      "source": [
        "# Appending the Scores For Visualisation at a Later Part\n",
        "RMSE_Score.append(rmse(predicted, y_val))\n",
        "R2_Score.append(r2_score(y_val, predicted))"
      ],
      "execution_count": 85,
      "outputs": []
    },
    {
      "cell_type": "code",
      "metadata": {
        "colab": {
          "base_uri": "https://localhost:8080/"
        },
        "id": "YL7v6ApYCU_r",
        "outputId": "572724a6-c263-4b99-a625-2bcb138d5ea4"
      },
      "source": [
        "# Fitting XGBoost Regressor to the Training Set\n",
        "Algorithm.append('XGB Regressor')\n",
        "clf = xgb.XGBRegressor()\n",
        "clf.fit(X_traincopy, y_train)\n",
        "\n",
        "# Predicting the Val Set Results\n",
        "predicted = clf.predict(X_valcopy)"
      ],
      "execution_count": 86,
      "outputs": [
        {
          "output_type": "stream",
          "text": [
            "[11:40:17] WARNING: /workspace/src/objective/regression_obj.cu:152: reg:linear is now deprecated in favor of reg:squarederror.\n"
          ],
          "name": "stdout"
        }
      ]
    },
    {
      "cell_type": "code",
      "metadata": {
        "id": "FJW5NP5KCams"
      },
      "source": [
        "# Appending the Scores For Visualisation at a Later Part\n",
        "RMSE_Score.append(rmse(predicted, y_val))\n",
        "R2_Score.append(r2_score(y_val, predicted))"
      ],
      "execution_count": 87,
      "outputs": []
    },
    {
      "cell_type": "code",
      "metadata": {
        "colab": {
          "base_uri": "https://localhost:8080/"
        },
        "id": "xv1exZS7wT5L",
        "outputId": "5e745f6a-c5c2-4585-b3f6-a025d35485e6"
      },
      "source": [
        "# Fitting CatBoost Regressor to the Training Set\n",
        "Algorithm.append('CatBoost Regressor')\n",
        "from catboost import CatBoostRegressor\n",
        "\n",
        "model = CatBoostRegressor(iterations=100,\n",
        "                          learning_rate=0.04,\n",
        "                          depth=16)\n",
        "\n",
        "model.fit(\n",
        "        X_traincopy, y_train,\n",
        "        eval_set=(X_valcopy, y_val),\n",
        "        verbose=True\n",
        "    )\n",
        "predicted = model.predict(X_valcopy)"
      ],
      "execution_count": 88,
      "outputs": [
        {
          "output_type": "stream",
          "text": [
            "0:\tlearn: 9.9324904\ttest: 9.7162283\tbest: 9.7162283 (0)\ttotal: 1.66s\tremaining: 2m 44s\n",
            "1:\tlearn: 9.7969875\ttest: 9.5930342\tbest: 9.5930342 (1)\ttotal: 1.81s\tremaining: 1m 28s\n",
            "2:\tlearn: 9.6637805\ttest: 9.4649613\tbest: 9.4649613 (2)\ttotal: 2.96s\tremaining: 1m 35s\n",
            "3:\tlearn: 9.5335107\ttest: 9.3428865\tbest: 9.3428865 (3)\ttotal: 4.14s\tremaining: 1m 39s\n",
            "4:\tlearn: 9.4109318\ttest: 9.2365755\tbest: 9.2365755 (4)\ttotal: 5.32s\tremaining: 1m 41s\n",
            "5:\tlearn: 9.2992976\ttest: 9.1392701\tbest: 9.1392701 (5)\ttotal: 6.48s\tremaining: 1m 41s\n",
            "6:\tlearn: 9.1915347\ttest: 9.0539648\tbest: 9.0539648 (6)\ttotal: 7.65s\tremaining: 1m 41s\n",
            "7:\tlearn: 9.0873024\ttest: 8.9612648\tbest: 8.9612648 (7)\ttotal: 8.84s\tremaining: 1m 41s\n",
            "8:\tlearn: 8.9960972\ttest: 8.8862655\tbest: 8.8862655 (8)\ttotal: 9.95s\tremaining: 1m 40s\n",
            "9:\tlearn: 8.9026053\ttest: 8.8038212\tbest: 8.8038212 (9)\ttotal: 11.1s\tremaining: 1m 40s\n",
            "10:\tlearn: 8.8157344\ttest: 8.7279816\tbest: 8.7279816 (10)\ttotal: 12.3s\tremaining: 1m 39s\n",
            "11:\tlearn: 8.7319658\ttest: 8.6582206\tbest: 8.6582206 (11)\ttotal: 13.4s\tremaining: 1m 38s\n",
            "12:\tlearn: 8.6566321\ttest: 8.5975747\tbest: 8.5975747 (12)\ttotal: 14.6s\tremaining: 1m 37s\n",
            "13:\tlearn: 8.5812678\ttest: 8.5367903\tbest: 8.5367903 (13)\ttotal: 15.7s\tremaining: 1m 36s\n",
            "14:\tlearn: 8.5074399\ttest: 8.4776618\tbest: 8.4776618 (14)\ttotal: 16.8s\tremaining: 1m 35s\n",
            "15:\tlearn: 8.4380233\ttest: 8.4172672\tbest: 8.4172672 (15)\ttotal: 18s\tremaining: 1m 34s\n",
            "16:\tlearn: 8.3745694\ttest: 8.3674041\tbest: 8.3674041 (16)\ttotal: 19.1s\tremaining: 1m 33s\n",
            "17:\tlearn: 8.3112729\ttest: 8.3254606\tbest: 8.3254606 (17)\ttotal: 20.3s\tremaining: 1m 32s\n",
            "18:\tlearn: 8.2559901\ttest: 8.2847446\tbest: 8.2847446 (18)\ttotal: 20.3s\tremaining: 1m 26s\n",
            "19:\tlearn: 8.1990010\ttest: 8.2448258\tbest: 8.2448258 (19)\ttotal: 21.4s\tremaining: 1m 25s\n",
            "20:\tlearn: 8.1491904\ttest: 8.2135395\tbest: 8.2135395 (20)\ttotal: 22.6s\tremaining: 1m 25s\n",
            "21:\tlearn: 8.1003146\ttest: 8.1828000\tbest: 8.1828000 (21)\ttotal: 23.7s\tremaining: 1m 24s\n",
            "22:\tlearn: 8.0530933\ttest: 8.1523493\tbest: 8.1523493 (22)\ttotal: 24.9s\tremaining: 1m 23s\n",
            "23:\tlearn: 8.0063611\ttest: 8.1141815\tbest: 8.1141815 (23)\ttotal: 26s\tremaining: 1m 22s\n",
            "24:\tlearn: 7.9637267\ttest: 8.0848171\tbest: 8.0848171 (24)\ttotal: 27.1s\tremaining: 1m 21s\n",
            "25:\tlearn: 7.9223783\ttest: 8.0584206\tbest: 8.0584206 (25)\ttotal: 28.3s\tremaining: 1m 20s\n",
            "26:\tlearn: 7.8815618\ttest: 8.0248702\tbest: 8.0248702 (26)\ttotal: 29.4s\tremaining: 1m 19s\n",
            "27:\tlearn: 7.8440874\ttest: 7.9993498\tbest: 7.9993498 (27)\ttotal: 30.6s\tremaining: 1m 18s\n",
            "28:\tlearn: 7.8088607\ttest: 7.9765942\tbest: 7.9765942 (28)\ttotal: 31.7s\tremaining: 1m 17s\n",
            "29:\tlearn: 7.7755484\ttest: 7.9604131\tbest: 7.9604131 (29)\ttotal: 32.9s\tremaining: 1m 16s\n",
            "30:\tlearn: 7.7421191\ttest: 7.9356308\tbest: 7.9356308 (30)\ttotal: 34s\tremaining: 1m 15s\n",
            "31:\tlearn: 7.7092409\ttest: 7.9095108\tbest: 7.9095108 (31)\ttotal: 35.2s\tremaining: 1m 14s\n",
            "32:\tlearn: 7.6800851\ttest: 7.8912746\tbest: 7.8912746 (32)\ttotal: 36.3s\tremaining: 1m 13s\n",
            "33:\tlearn: 7.6529195\ttest: 7.8731100\tbest: 7.8731100 (33)\ttotal: 37.4s\tremaining: 1m 12s\n",
            "34:\tlearn: 7.6278330\ttest: 7.8569346\tbest: 7.8569346 (34)\ttotal: 38.6s\tremaining: 1m 11s\n",
            "35:\tlearn: 7.6020797\ttest: 7.8437112\tbest: 7.8437112 (35)\ttotal: 39.7s\tremaining: 1m 10s\n",
            "36:\tlearn: 7.5782159\ttest: 7.8283521\tbest: 7.8283521 (36)\ttotal: 40.9s\tremaining: 1m 9s\n",
            "37:\tlearn: 7.5535543\ttest: 7.8133719\tbest: 7.8133719 (37)\ttotal: 42s\tremaining: 1m 8s\n",
            "38:\tlearn: 7.5310266\ttest: 7.8007903\tbest: 7.8007903 (38)\ttotal: 43.1s\tremaining: 1m 7s\n",
            "39:\tlearn: 7.5089156\ttest: 7.7836797\tbest: 7.7836797 (39)\ttotal: 44.2s\tremaining: 1m 6s\n",
            "40:\tlearn: 7.4896175\ttest: 7.7750867\tbest: 7.7750867 (40)\ttotal: 45.4s\tremaining: 1m 5s\n",
            "41:\tlearn: 7.4689283\ttest: 7.7654491\tbest: 7.7654491 (41)\ttotal: 46.6s\tremaining: 1m 4s\n",
            "42:\tlearn: 7.4529156\ttest: 7.7567299\tbest: 7.7567299 (42)\ttotal: 47.6s\tremaining: 1m 3s\n",
            "43:\tlearn: 7.4327726\ttest: 7.7513444\tbest: 7.7513444 (43)\ttotal: 48.7s\tremaining: 1m 2s\n",
            "44:\tlearn: 7.4156738\ttest: 7.7432528\tbest: 7.7432528 (44)\ttotal: 49.9s\tremaining: 1m\n",
            "45:\tlearn: 7.3987603\ttest: 7.7343943\tbest: 7.7343943 (45)\ttotal: 51.1s\tremaining: 59.9s\n",
            "46:\tlearn: 7.3818316\ttest: 7.7280821\tbest: 7.7280821 (46)\ttotal: 52.2s\tremaining: 58.9s\n",
            "47:\tlearn: 7.3679168\ttest: 7.7187086\tbest: 7.7187086 (47)\ttotal: 53.4s\tremaining: 57.9s\n",
            "48:\tlearn: 7.3534446\ttest: 7.7113254\tbest: 7.7113254 (48)\ttotal: 54.5s\tremaining: 56.8s\n",
            "49:\tlearn: 7.3404197\ttest: 7.7055537\tbest: 7.7055537 (49)\ttotal: 55.7s\tremaining: 55.7s\n",
            "50:\tlearn: 7.3268939\ttest: 7.7010581\tbest: 7.7010581 (50)\ttotal: 56.9s\tremaining: 54.6s\n",
            "51:\tlearn: 7.3125720\ttest: 7.6971037\tbest: 7.6971037 (51)\ttotal: 58.1s\tremaining: 53.6s\n",
            "52:\tlearn: 7.2987882\ttest: 7.6866360\tbest: 7.6866360 (52)\ttotal: 59.2s\tremaining: 52.5s\n",
            "53:\tlearn: 7.2875771\ttest: 7.6772769\tbest: 7.6772769 (53)\ttotal: 1m\tremaining: 51.4s\n",
            "54:\tlearn: 7.2741063\ttest: 7.6678936\tbest: 7.6678936 (54)\ttotal: 1m 1s\tremaining: 50.3s\n",
            "55:\tlearn: 7.2620821\ttest: 7.6622482\tbest: 7.6622482 (55)\ttotal: 1m 2s\tremaining: 49.2s\n",
            "56:\tlearn: 7.2509428\ttest: 7.6600111\tbest: 7.6600111 (56)\ttotal: 1m 3s\tremaining: 48.1s\n",
            "57:\tlearn: 7.2397429\ttest: 7.6554685\tbest: 7.6554685 (57)\ttotal: 1m 4s\tremaining: 47s\n",
            "58:\tlearn: 7.2292067\ttest: 7.6518238\tbest: 7.6518238 (58)\ttotal: 1m 6s\tremaining: 45.9s\n",
            "59:\tlearn: 7.2188405\ttest: 7.6508741\tbest: 7.6508741 (59)\ttotal: 1m 7s\tremaining: 44.8s\n",
            "60:\tlearn: 7.2090568\ttest: 7.6506569\tbest: 7.6506569 (60)\ttotal: 1m 8s\tremaining: 43.7s\n",
            "61:\tlearn: 7.1975972\ttest: 7.6506521\tbest: 7.6506521 (61)\ttotal: 1m 9s\tremaining: 42.6s\n",
            "62:\tlearn: 7.1879087\ttest: 7.6439119\tbest: 7.6439119 (62)\ttotal: 1m 10s\tremaining: 41.5s\n",
            "63:\tlearn: 7.1806287\ttest: 7.6376225\tbest: 7.6376225 (63)\ttotal: 1m 11s\tremaining: 40.4s\n",
            "64:\tlearn: 7.1722397\ttest: 7.6344759\tbest: 7.6344759 (64)\ttotal: 1m 12s\tremaining: 39.3s\n",
            "65:\tlearn: 7.1639466\ttest: 7.6319517\tbest: 7.6319517 (65)\ttotal: 1m 14s\tremaining: 38.2s\n",
            "66:\tlearn: 7.1528073\ttest: 7.6285708\tbest: 7.6285708 (66)\ttotal: 1m 15s\tremaining: 37.1s\n",
            "67:\tlearn: 7.1468635\ttest: 7.6291353\tbest: 7.6285708 (66)\ttotal: 1m 16s\tremaining: 35.9s\n",
            "68:\tlearn: 7.1381947\ttest: 7.6300162\tbest: 7.6285708 (66)\ttotal: 1m 17s\tremaining: 34.8s\n",
            "69:\tlearn: 7.1302473\ttest: 7.6205535\tbest: 7.6205535 (69)\ttotal: 1m 18s\tremaining: 33.7s\n",
            "70:\tlearn: 7.1200001\ttest: 7.6163413\tbest: 7.6163413 (70)\ttotal: 1m 19s\tremaining: 32.5s\n",
            "71:\tlearn: 7.1120362\ttest: 7.6178032\tbest: 7.6163413 (70)\ttotal: 1m 20s\tremaining: 31.4s\n",
            "72:\tlearn: 7.1023993\ttest: 7.6139822\tbest: 7.6139822 (72)\ttotal: 1m 21s\tremaining: 30.3s\n",
            "73:\tlearn: 7.0954552\ttest: 7.6112176\tbest: 7.6112176 (73)\ttotal: 1m 23s\tremaining: 29.2s\n",
            "74:\tlearn: 7.0906366\ttest: 7.6112754\tbest: 7.6112176 (73)\ttotal: 1m 23s\tremaining: 27.8s\n",
            "75:\tlearn: 7.0829740\ttest: 7.6102085\tbest: 7.6102085 (75)\ttotal: 1m 24s\tremaining: 26.7s\n",
            "76:\tlearn: 7.0768995\ttest: 7.6097984\tbest: 7.6097984 (76)\ttotal: 1m 25s\tremaining: 25.6s\n",
            "77:\tlearn: 7.0706178\ttest: 7.6094117\tbest: 7.6094117 (77)\ttotal: 1m 26s\tremaining: 24.5s\n",
            "78:\tlearn: 7.0637032\ttest: 7.6087215\tbest: 7.6087215 (78)\ttotal: 1m 27s\tremaining: 23.4s\n",
            "79:\tlearn: 7.0564731\ttest: 7.6081537\tbest: 7.6081537 (79)\ttotal: 1m 28s\tremaining: 22.2s\n",
            "80:\tlearn: 7.0495678\ttest: 7.6094973\tbest: 7.6081537 (79)\ttotal: 1m 30s\tremaining: 21.1s\n",
            "81:\tlearn: 7.0451946\ttest: 7.6098231\tbest: 7.6081537 (79)\ttotal: 1m 31s\tremaining: 20s\n",
            "82:\tlearn: 7.0393190\ttest: 7.6063320\tbest: 7.6063320 (82)\ttotal: 1m 32s\tremaining: 18.9s\n",
            "83:\tlearn: 7.0312113\ttest: 7.6042371\tbest: 7.6042371 (83)\ttotal: 1m 33s\tremaining: 17.8s\n",
            "84:\tlearn: 7.0252590\ttest: 7.6036998\tbest: 7.6036998 (84)\ttotal: 1m 34s\tremaining: 16.7s\n",
            "85:\tlearn: 7.0198833\ttest: 7.6037570\tbest: 7.6036998 (84)\ttotal: 1m 35s\tremaining: 15.6s\n",
            "86:\tlearn: 7.0144118\ttest: 7.6039196\tbest: 7.6036998 (84)\ttotal: 1m 36s\tremaining: 14.5s\n",
            "87:\tlearn: 7.0085739\ttest: 7.6046218\tbest: 7.6036998 (84)\ttotal: 1m 37s\tremaining: 13.4s\n",
            "88:\tlearn: 7.0040541\ttest: 7.6024260\tbest: 7.6024260 (88)\ttotal: 1m 39s\tremaining: 12.2s\n",
            "89:\tlearn: 6.9964664\ttest: 7.6044765\tbest: 7.6024260 (88)\ttotal: 1m 40s\tremaining: 11.1s\n",
            "90:\tlearn: 6.9921304\ttest: 7.6068970\tbest: 7.6024260 (88)\ttotal: 1m 41s\tremaining: 10s\n",
            "91:\tlearn: 6.9878345\ttest: 7.6080752\tbest: 7.6024260 (88)\ttotal: 1m 42s\tremaining: 8.9s\n",
            "92:\tlearn: 6.9826410\ttest: 7.6085284\tbest: 7.6024260 (88)\ttotal: 1m 43s\tremaining: 7.79s\n",
            "93:\tlearn: 6.9761352\ttest: 7.6087280\tbest: 7.6024260 (88)\ttotal: 1m 44s\tremaining: 6.68s\n",
            "94:\tlearn: 6.9717165\ttest: 7.6097312\tbest: 7.6024260 (88)\ttotal: 1m 45s\tremaining: 5.57s\n",
            "95:\tlearn: 6.9671753\ttest: 7.6115087\tbest: 7.6024260 (88)\ttotal: 1m 46s\tremaining: 4.45s\n",
            "96:\tlearn: 6.9605285\ttest: 7.6101001\tbest: 7.6024260 (88)\ttotal: 1m 48s\tremaining: 3.34s\n",
            "97:\tlearn: 6.9549554\ttest: 7.6107438\tbest: 7.6024260 (88)\ttotal: 1m 49s\tremaining: 2.23s\n",
            "98:\tlearn: 6.9509117\ttest: 7.6127387\tbest: 7.6024260 (88)\ttotal: 1m 50s\tremaining: 1.11s\n",
            "99:\tlearn: 6.9453374\ttest: 7.6093212\tbest: 7.6024260 (88)\ttotal: 1m 51s\tremaining: 0us\n",
            "\n",
            "bestTest = 7.602425986\n",
            "bestIteration = 88\n",
            "\n",
            "Shrink model to first 89 iterations.\n"
          ],
          "name": "stdout"
        }
      ]
    },
    {
      "cell_type": "code",
      "metadata": {
        "id": "T1qEnq3ZwUQ7"
      },
      "source": [
        "# Appending the Scores For Visualisation at a Later Part\n",
        "RMSE_Score.append(rmse(predicted, y_val))\n",
        "R2_Score.append(r2_score(y_val, predicted))"
      ],
      "execution_count": 89,
      "outputs": []
    },
    {
      "cell_type": "code",
      "metadata": {
        "id": "jw-8YBjyCdJf"
      },
      "source": [
        "# Just Combining the Lists into a DataFrame for a Better Visualisation\n",
        "Comparison = pd.DataFrame(list(zip(Algorithm, RMSE_Score, R2_Score)), columns = ['Algorithm', 'RMSE_Score', 'R2_Score'])"
      ],
      "execution_count": 90,
      "outputs": []
    },
    {
      "cell_type": "code",
      "metadata": {
        "colab": {
          "base_uri": "https://localhost:8080/",
          "height": 171
        },
        "id": "C0nQjBg7CgnC",
        "outputId": "0c3731a6-7dc0-459b-ce79-ee9fa5ec135c"
      },
      "source": [
        "# Score Card\n",
        "Comparison"
      ],
      "execution_count": 91,
      "outputs": [
        {
          "output_type": "execute_result",
          "data": {
            "text/html": [
              "<div>\n",
              "<style scoped>\n",
              "    .dataframe tbody tr th:only-of-type {\n",
              "        vertical-align: middle;\n",
              "    }\n",
              "\n",
              "    .dataframe tbody tr th {\n",
              "        vertical-align: top;\n",
              "    }\n",
              "\n",
              "    .dataframe thead th {\n",
              "        text-align: right;\n",
              "    }\n",
              "</style>\n",
              "<table border=\"1\" class=\"dataframe\">\n",
              "  <thead>\n",
              "    <tr style=\"text-align: right;\">\n",
              "      <th></th>\n",
              "      <th>Algorithm</th>\n",
              "      <th>RMSE_Score</th>\n",
              "      <th>R2_Score</th>\n",
              "    </tr>\n",
              "  </thead>\n",
              "  <tbody>\n",
              "    <tr>\n",
              "      <th>0</th>\n",
              "      <td>Linear Regression</td>\n",
              "      <td>8.379406</td>\n",
              "      <td>0.273366</td>\n",
              "    </tr>\n",
              "    <tr>\n",
              "      <th>1</th>\n",
              "      <td>Random Forest Regressor</td>\n",
              "      <td>8.530637</td>\n",
              "      <td>0.246900</td>\n",
              "    </tr>\n",
              "    <tr>\n",
              "      <th>2</th>\n",
              "      <td>XGB Regressor</td>\n",
              "      <td>7.896517</td>\n",
              "      <td>0.354702</td>\n",
              "    </tr>\n",
              "    <tr>\n",
              "      <th>3</th>\n",
              "      <td>CatBoost Regressor</td>\n",
              "      <td>7.602426</td>\n",
              "      <td>0.401872</td>\n",
              "    </tr>\n",
              "  </tbody>\n",
              "</table>\n",
              "</div>"
            ],
            "text/plain": [
              "                 Algorithm  RMSE_Score  R2_Score\n",
              "0        Linear Regression    8.379406  0.273366\n",
              "1  Random Forest Regressor    8.530637  0.246900\n",
              "2            XGB Regressor    7.896517  0.354702\n",
              "3       CatBoost Regressor    7.602426  0.401872"
            ]
          },
          "metadata": {
            "tags": []
          },
          "execution_count": 91
        }
      ]
    },
    {
      "cell_type": "markdown",
      "metadata": {
        "id": "18EJWNZXYV5S"
      },
      "source": [
        "## As we can see that CatBoost Regressor gave the best test accuracy which 40.2% approximately."
      ]
    },
    {
      "cell_type": "markdown",
      "metadata": {
        "id": "EJpAoGT_YV5S"
      },
      "source": [
        "### So I finalised CatBoost Regressor and I obtained results on TestSet and displayed it in a DataFrame"
      ]
    },
    {
      "cell_type": "code",
      "metadata": {
        "colab": {
          "base_uri": "https://localhost:8080/",
          "height": 355
        },
        "id": "b5GcD2IvRDQA",
        "outputId": "608ead24-b9b7-49d3-d4b1-88b02d26ca60"
      },
      "source": [
        "predicted = model.predict(X_testcopy)\n",
        "predicted = np.round_(predicted)\n",
        "results = pd.DataFrame(predicted, columns=['predicted_delay'])\n",
        "results['actual_delay'] = y_test\n",
        "results.head(10)"
      ],
      "execution_count": 92,
      "outputs": [
        {
          "output_type": "execute_result",
          "data": {
            "text/html": [
              "<div>\n",
              "<style scoped>\n",
              "    .dataframe tbody tr th:only-of-type {\n",
              "        vertical-align: middle;\n",
              "    }\n",
              "\n",
              "    .dataframe tbody tr th {\n",
              "        vertical-align: top;\n",
              "    }\n",
              "\n",
              "    .dataframe thead th {\n",
              "        text-align: right;\n",
              "    }\n",
              "</style>\n",
              "<table border=\"1\" class=\"dataframe\">\n",
              "  <thead>\n",
              "    <tr style=\"text-align: right;\">\n",
              "      <th></th>\n",
              "      <th>predicted_delay</th>\n",
              "      <th>actual_delay</th>\n",
              "    </tr>\n",
              "  </thead>\n",
              "  <tbody>\n",
              "    <tr>\n",
              "      <th>0</th>\n",
              "      <td>6.0</td>\n",
              "      <td>-1</td>\n",
              "    </tr>\n",
              "    <tr>\n",
              "      <th>1</th>\n",
              "      <td>5.0</td>\n",
              "      <td>2</td>\n",
              "    </tr>\n",
              "    <tr>\n",
              "      <th>2</th>\n",
              "      <td>3.0</td>\n",
              "      <td>0</td>\n",
              "    </tr>\n",
              "    <tr>\n",
              "      <th>3</th>\n",
              "      <td>3.0</td>\n",
              "      <td>0</td>\n",
              "    </tr>\n",
              "    <tr>\n",
              "      <th>4</th>\n",
              "      <td>0.0</td>\n",
              "      <td>-1</td>\n",
              "    </tr>\n",
              "    <tr>\n",
              "      <th>5</th>\n",
              "      <td>1.0</td>\n",
              "      <td>-6</td>\n",
              "    </tr>\n",
              "    <tr>\n",
              "      <th>6</th>\n",
              "      <td>-0.0</td>\n",
              "      <td>-1</td>\n",
              "    </tr>\n",
              "    <tr>\n",
              "      <th>7</th>\n",
              "      <td>2.0</td>\n",
              "      <td>0</td>\n",
              "    </tr>\n",
              "    <tr>\n",
              "      <th>8</th>\n",
              "      <td>1.0</td>\n",
              "      <td>0</td>\n",
              "    </tr>\n",
              "    <tr>\n",
              "      <th>9</th>\n",
              "      <td>-3.0</td>\n",
              "      <td>-5</td>\n",
              "    </tr>\n",
              "  </tbody>\n",
              "</table>\n",
              "</div>"
            ],
            "text/plain": [
              "   predicted_delay  actual_delay\n",
              "0              6.0            -1\n",
              "1              5.0             2\n",
              "2              3.0             0\n",
              "3              3.0             0\n",
              "4              0.0            -1\n",
              "5              1.0            -6\n",
              "6             -0.0            -1\n",
              "7              2.0             0\n",
              "8              1.0             0\n",
              "9             -3.0            -5"
            ]
          },
          "metadata": {
            "tags": []
          },
          "execution_count": 92
        }
      ]
    },
    {
      "cell_type": "code",
      "metadata": {
        "colab": {
          "base_uri": "https://localhost:8080/"
        },
        "id": "pKiHTBmonWsb",
        "outputId": "cc278872-7684-48f1-a00c-8d5d4512dbbf"
      },
      "source": [
        "# Obtaining the minimum and maximum delay which will help me create Aging_Bucket Dictionary\n",
        "print(\"Minimum negative delay according to our dataset: \",df_copy['delay'].min())\n",
        "print(\"Maximum postive delay according to our dataset: \",df_copy['delay'].max())"
      ],
      "execution_count": 93,
      "outputs": [
        {
          "output_type": "stream",
          "text": [
            "Minimum negative delay according to our dataset:  -85\n",
            "Maximum postive delay according to our dataset:  174\n"
          ],
          "name": "stdout"
        }
      ]
    },
    {
      "cell_type": "code",
      "metadata": {
        "id": "mN6wOPecraSa"
      },
      "source": [
        "# Creating the aging bucket dictionary.\n",
        "class RangeDict(dict):\n",
        "    def __getitem__(self, item):\n",
        "        if not isinstance(item, range): # or xrange in Python 2\n",
        "            for key in self:\n",
        "                if item in key:\n",
        "                    return self[key]\n",
        "            raise KeyError(item)\n",
        "        else:\n",
        "            return super().__getitem__(item)\n",
        "result_mapper = RangeDict({range(-100,16): '0-15 days', range(16,31): '16-30 days', range(31,46): '31-45 days', range(46,61): '45-60 days', range(60, 365): 'Greater than 60 days'})"
      ],
      "execution_count": 94,
      "outputs": []
    },
    {
      "cell_type": "code",
      "metadata": {
        "id": "JrOOHywSszEA"
      },
      "source": [
        "delay = []\n",
        "for i in results['predicted_delay']:\n",
        "  delay.append(result_mapper[i])\n",
        "results['predicted_aging_bucket'] = delay"
      ],
      "execution_count": 95,
      "outputs": []
    },
    {
      "cell_type": "code",
      "metadata": {
        "id": "70iTJXn4rxhw"
      },
      "source": [
        "delay = []\n",
        "for i in results['actual_delay']:\n",
        "  delay.append(result_mapper[i])\n",
        "results['actual_aging_bucket'] = delay"
      ],
      "execution_count": 96,
      "outputs": []
    },
    {
      "cell_type": "markdown",
      "metadata": {
        "id": "Ivv2ZGUpYV5V"
      },
      "source": [
        "## Displaying the results of the model prediction on the test set in the form of DataFrame."
      ]
    },
    {
      "cell_type": "code",
      "metadata": {
        "colab": {
          "base_uri": "https://localhost:8080/",
          "height": 355
        },
        "id": "urg0TnTjpDYW",
        "outputId": "96eb2844-6689-4cf9-d0f2-aaff024f7d6f"
      },
      "source": [
        "results.head(10)"
      ],
      "execution_count": 97,
      "outputs": [
        {
          "output_type": "execute_result",
          "data": {
            "text/html": [
              "<div>\n",
              "<style scoped>\n",
              "    .dataframe tbody tr th:only-of-type {\n",
              "        vertical-align: middle;\n",
              "    }\n",
              "\n",
              "    .dataframe tbody tr th {\n",
              "        vertical-align: top;\n",
              "    }\n",
              "\n",
              "    .dataframe thead th {\n",
              "        text-align: right;\n",
              "    }\n",
              "</style>\n",
              "<table border=\"1\" class=\"dataframe\">\n",
              "  <thead>\n",
              "    <tr style=\"text-align: right;\">\n",
              "      <th></th>\n",
              "      <th>predicted_delay</th>\n",
              "      <th>actual_delay</th>\n",
              "      <th>predicted_aging_bucket</th>\n",
              "      <th>actual_aging_bucket</th>\n",
              "    </tr>\n",
              "  </thead>\n",
              "  <tbody>\n",
              "    <tr>\n",
              "      <th>0</th>\n",
              "      <td>6.0</td>\n",
              "      <td>-1</td>\n",
              "      <td>0-15 days</td>\n",
              "      <td>0-15 days</td>\n",
              "    </tr>\n",
              "    <tr>\n",
              "      <th>1</th>\n",
              "      <td>5.0</td>\n",
              "      <td>2</td>\n",
              "      <td>0-15 days</td>\n",
              "      <td>0-15 days</td>\n",
              "    </tr>\n",
              "    <tr>\n",
              "      <th>2</th>\n",
              "      <td>3.0</td>\n",
              "      <td>0</td>\n",
              "      <td>0-15 days</td>\n",
              "      <td>0-15 days</td>\n",
              "    </tr>\n",
              "    <tr>\n",
              "      <th>3</th>\n",
              "      <td>3.0</td>\n",
              "      <td>0</td>\n",
              "      <td>0-15 days</td>\n",
              "      <td>0-15 days</td>\n",
              "    </tr>\n",
              "    <tr>\n",
              "      <th>4</th>\n",
              "      <td>0.0</td>\n",
              "      <td>-1</td>\n",
              "      <td>0-15 days</td>\n",
              "      <td>0-15 days</td>\n",
              "    </tr>\n",
              "    <tr>\n",
              "      <th>5</th>\n",
              "      <td>1.0</td>\n",
              "      <td>-6</td>\n",
              "      <td>0-15 days</td>\n",
              "      <td>0-15 days</td>\n",
              "    </tr>\n",
              "    <tr>\n",
              "      <th>6</th>\n",
              "      <td>-0.0</td>\n",
              "      <td>-1</td>\n",
              "      <td>0-15 days</td>\n",
              "      <td>0-15 days</td>\n",
              "    </tr>\n",
              "    <tr>\n",
              "      <th>7</th>\n",
              "      <td>2.0</td>\n",
              "      <td>0</td>\n",
              "      <td>0-15 days</td>\n",
              "      <td>0-15 days</td>\n",
              "    </tr>\n",
              "    <tr>\n",
              "      <th>8</th>\n",
              "      <td>1.0</td>\n",
              "      <td>0</td>\n",
              "      <td>0-15 days</td>\n",
              "      <td>0-15 days</td>\n",
              "    </tr>\n",
              "    <tr>\n",
              "      <th>9</th>\n",
              "      <td>-3.0</td>\n",
              "      <td>-5</td>\n",
              "      <td>0-15 days</td>\n",
              "      <td>0-15 days</td>\n",
              "    </tr>\n",
              "  </tbody>\n",
              "</table>\n",
              "</div>"
            ],
            "text/plain": [
              "   predicted_delay  actual_delay predicted_aging_bucket actual_aging_bucket\n",
              "0              6.0            -1              0-15 days           0-15 days\n",
              "1              5.0             2              0-15 days           0-15 days\n",
              "2              3.0             0              0-15 days           0-15 days\n",
              "3              3.0             0              0-15 days           0-15 days\n",
              "4              0.0            -1              0-15 days           0-15 days\n",
              "5              1.0            -6              0-15 days           0-15 days\n",
              "6             -0.0            -1              0-15 days           0-15 days\n",
              "7              2.0             0              0-15 days           0-15 days\n",
              "8              1.0             0              0-15 days           0-15 days\n",
              "9             -3.0            -5              0-15 days           0-15 days"
            ]
          },
          "metadata": {
            "tags": []
          },
          "execution_count": 97
        }
      ]
    },
    {
      "cell_type": "code",
      "metadata": {
        "colab": {
          "base_uri": "https://localhost:8080/"
        },
        "id": "zU0v7c5WuEsi",
        "outputId": "28a55c56-8e24-458e-8d7d-8ff1a7efd416"
      },
      "source": [
        "# Checking if the model predictions lies in different types of buckets or not as in the top 10 records above we can only see 0-15 days buckets\n",
        "results['predicted_aging_bucket'].value_counts()"
      ],
      "execution_count": 98,
      "outputs": [
        {
          "output_type": "execute_result",
          "data": {
            "text/plain": [
              "0-15 days     3803\n",
              "16-30 days       8\n",
              "31-45 days       4\n",
              "45-60 days       3\n",
              "Name: predicted_aging_bucket, dtype: int64"
            ]
          },
          "metadata": {
            "tags": []
          },
          "execution_count": 98
        }
      ]
    },
    {
      "cell_type": "markdown",
      "metadata": {
        "id": "UVbuDd7YYV5X"
      },
      "source": [
        "## Checking the accuracy of the model in determing buckets."
      ]
    },
    {
      "cell_type": "code",
      "metadata": {
        "colab": {
          "base_uri": "https://localhost:8080/"
        },
        "id": "R4QxCPHN0ko1",
        "outputId": "7d600e36-72fd-4dbb-81f1-0e22a7194059"
      },
      "source": [
        "right_bucket = (results['predicted_aging_bucket'] == results['actual_aging_bucket']).sum()\n",
        "print(\"Accuracy in predicting buckets on test set: \", (right_bucket/len(results))*100)"
      ],
      "execution_count": 99,
      "outputs": [
        {
          "output_type": "stream",
          "text": [
            "Accuracy in predicting buckets on test set:  98.50707176532217\n"
          ],
          "name": "stdout"
        }
      ]
    },
    {
      "cell_type": "markdown",
      "metadata": {
        "id": "rKa4v5BlYV5Y"
      },
      "source": [
        "## Now the dataframe which we had split above we will obtain predictions on them. I call it Super Test Set"
      ]
    },
    {
      "cell_type": "code",
      "metadata": {
        "colab": {
          "base_uri": "https://localhost:8080/",
          "height": 257
        },
        "id": "nblEXPnduPfq",
        "outputId": "1ae2cbec-1b40-487f-aeb0-0dad3ceaa53d"
      },
      "source": [
        "df_NaN.head()"
      ],
      "execution_count": 100,
      "outputs": [
        {
          "output_type": "execute_result",
          "data": {
            "text/html": [
              "<div>\n",
              "<style scoped>\n",
              "    .dataframe tbody tr th:only-of-type {\n",
              "        vertical-align: middle;\n",
              "    }\n",
              "\n",
              "    .dataframe tbody tr th {\n",
              "        vertical-align: top;\n",
              "    }\n",
              "\n",
              "    .dataframe thead th {\n",
              "        text-align: right;\n",
              "    }\n",
              "</style>\n",
              "<table border=\"1\" class=\"dataframe\">\n",
              "  <thead>\n",
              "    <tr style=\"text-align: right;\">\n",
              "      <th></th>\n",
              "      <th>business_code</th>\n",
              "      <th>cust_number</th>\n",
              "      <th>name_customer</th>\n",
              "      <th>clear_date</th>\n",
              "      <th>buisness_year</th>\n",
              "      <th>doc_id</th>\n",
              "      <th>posting_date</th>\n",
              "      <th>document_create_date</th>\n",
              "      <th>document_create_date.1</th>\n",
              "      <th>due_in_date</th>\n",
              "      <th>invoice_currency</th>\n",
              "      <th>document type</th>\n",
              "      <th>posting_id</th>\n",
              "      <th>area_business</th>\n",
              "      <th>total_open_amount</th>\n",
              "      <th>baseline_create_date</th>\n",
              "      <th>cust_payment_terms</th>\n",
              "      <th>invoice_id</th>\n",
              "      <th>isOpen</th>\n",
              "    </tr>\n",
              "  </thead>\n",
              "  <tbody>\n",
              "    <tr>\n",
              "      <th>45152</th>\n",
              "      <td>U001</td>\n",
              "      <td>0200769623</td>\n",
              "      <td>WAL-MAR corp</td>\n",
              "      <td>NaT</td>\n",
              "      <td>2020.0</td>\n",
              "      <td>1.930639e+09</td>\n",
              "      <td>2020-03-12</td>\n",
              "      <td>2020-03-12</td>\n",
              "      <td>2020-03-12</td>\n",
              "      <td>2020-03-27</td>\n",
              "      <td>USD</td>\n",
              "      <td>RV</td>\n",
              "      <td>1.0</td>\n",
              "      <td>NaN</td>\n",
              "      <td>24006.55</td>\n",
              "      <td>2020-03-12</td>\n",
              "      <td>NAH4</td>\n",
              "      <td>1.930639e+09</td>\n",
              "      <td>1</td>\n",
              "    </tr>\n",
              "    <tr>\n",
              "      <th>45153</th>\n",
              "      <td>U001</td>\n",
              "      <td>0200769623</td>\n",
              "      <td>WAL-MAR systems</td>\n",
              "      <td>NaT</td>\n",
              "      <td>2020.0</td>\n",
              "      <td>1.930779e+09</td>\n",
              "      <td>2020-04-14</td>\n",
              "      <td>2020-04-11</td>\n",
              "      <td>2020-04-14</td>\n",
              "      <td>2020-04-29</td>\n",
              "      <td>USD</td>\n",
              "      <td>RV</td>\n",
              "      <td>1.0</td>\n",
              "      <td>NaN</td>\n",
              "      <td>162.70</td>\n",
              "      <td>2020-04-14</td>\n",
              "      <td>NAH4</td>\n",
              "      <td>1.930779e+09</td>\n",
              "      <td>1</td>\n",
              "    </tr>\n",
              "    <tr>\n",
              "      <th>45154</th>\n",
              "      <td>U001</td>\n",
              "      <td>0200769623</td>\n",
              "      <td>WAL-MAR corp</td>\n",
              "      <td>NaT</td>\n",
              "      <td>2020.0</td>\n",
              "      <td>1.930729e+09</td>\n",
              "      <td>2020-04-01</td>\n",
              "      <td>2020-04-01</td>\n",
              "      <td>2020-04-01</td>\n",
              "      <td>2020-04-16</td>\n",
              "      <td>USD</td>\n",
              "      <td>RV</td>\n",
              "      <td>1.0</td>\n",
              "      <td>NaN</td>\n",
              "      <td>1898.20</td>\n",
              "      <td>2020-04-01</td>\n",
              "      <td>NAH4</td>\n",
              "      <td>1.930729e+09</td>\n",
              "      <td>1</td>\n",
              "    </tr>\n",
              "    <tr>\n",
              "      <th>45155</th>\n",
              "      <td>CA02</td>\n",
              "      <td>0140104440</td>\n",
              "      <td>SO associates</td>\n",
              "      <td>NaT</td>\n",
              "      <td>2020.0</td>\n",
              "      <td>2.960623e+09</td>\n",
              "      <td>2020-03-23</td>\n",
              "      <td>2020-03-23</td>\n",
              "      <td>2020-03-23</td>\n",
              "      <td>2020-04-04</td>\n",
              "      <td>CAD</td>\n",
              "      <td>RV</td>\n",
              "      <td>1.0</td>\n",
              "      <td>NaN</td>\n",
              "      <td>117628.50</td>\n",
              "      <td>2020-03-25</td>\n",
              "      <td>CA10</td>\n",
              "      <td>2.960623e+09</td>\n",
              "      <td>1</td>\n",
              "    </tr>\n",
              "    <tr>\n",
              "      <th>45156</th>\n",
              "      <td>U001</td>\n",
              "      <td>0200455322</td>\n",
              "      <td>PEA</td>\n",
              "      <td>NaT</td>\n",
              "      <td>2020.0</td>\n",
              "      <td>1.930684e+09</td>\n",
              "      <td>2020-03-22</td>\n",
              "      <td>2020-03-21</td>\n",
              "      <td>2020-03-22</td>\n",
              "      <td>2020-04-21</td>\n",
              "      <td>USD</td>\n",
              "      <td>RV</td>\n",
              "      <td>1.0</td>\n",
              "      <td>NaN</td>\n",
              "      <td>73228.93</td>\n",
              "      <td>2020-03-22</td>\n",
              "      <td>NAD5</td>\n",
              "      <td>1.930684e+09</td>\n",
              "      <td>1</td>\n",
              "    </tr>\n",
              "  </tbody>\n",
              "</table>\n",
              "</div>"
            ],
            "text/plain": [
              "      business_code cust_number  ...    invoice_id isOpen\n",
              "45152          U001  0200769623  ...  1.930639e+09      1\n",
              "45153          U001  0200769623  ...  1.930779e+09      1\n",
              "45154          U001  0200769623  ...  1.930729e+09      1\n",
              "45155          CA02  0140104440  ...  2.960623e+09      1\n",
              "45156          U001  0200455322  ...  1.930684e+09      1\n",
              "\n",
              "[5 rows x 19 columns]"
            ]
          },
          "metadata": {
            "tags": []
          },
          "execution_count": 100
        }
      ]
    },
    {
      "cell_type": "code",
      "metadata": {
        "colab": {
          "base_uri": "https://localhost:8080/",
          "height": 257
        },
        "id": "5QccBWiXvJpH",
        "outputId": "2c7f9d94-22a6-4406-f517-18a0dd1f5bc5"
      },
      "source": [
        "# Doing all the steps which were done above to bring the dataframe in such a form that our model can do predictions,\n",
        "df_NaN['days_alloted'] = df_NaN['due_in_date'] - df_NaN['baseline_create_date']\n",
        "df_NaN['days_alloted'] = df_NaN['days_alloted'].dt.days\n",
        "\n",
        "temp = df_NaN[['total_open_amount', 'invoice_currency']].copy()\n",
        "\n",
        "def convert_to_usd(args):  \n",
        "    amount, currency = args\n",
        "    rates = {'USD': 1, 'CAD': 1.26}\n",
        "    return rates[currency] * amount\n",
        "\n",
        "temp['In_USD'] = temp.apply(convert_to_usd, axis=1)\n",
        "\n",
        "df_NaN['total_open_amount'] = temp['In_USD'].copy()\n",
        "\n",
        "df_NaN.head()"
      ],
      "execution_count": 101,
      "outputs": [
        {
          "output_type": "execute_result",
          "data": {
            "text/html": [
              "<div>\n",
              "<style scoped>\n",
              "    .dataframe tbody tr th:only-of-type {\n",
              "        vertical-align: middle;\n",
              "    }\n",
              "\n",
              "    .dataframe tbody tr th {\n",
              "        vertical-align: top;\n",
              "    }\n",
              "\n",
              "    .dataframe thead th {\n",
              "        text-align: right;\n",
              "    }\n",
              "</style>\n",
              "<table border=\"1\" class=\"dataframe\">\n",
              "  <thead>\n",
              "    <tr style=\"text-align: right;\">\n",
              "      <th></th>\n",
              "      <th>business_code</th>\n",
              "      <th>cust_number</th>\n",
              "      <th>name_customer</th>\n",
              "      <th>clear_date</th>\n",
              "      <th>buisness_year</th>\n",
              "      <th>doc_id</th>\n",
              "      <th>posting_date</th>\n",
              "      <th>document_create_date</th>\n",
              "      <th>document_create_date.1</th>\n",
              "      <th>due_in_date</th>\n",
              "      <th>invoice_currency</th>\n",
              "      <th>document type</th>\n",
              "      <th>posting_id</th>\n",
              "      <th>area_business</th>\n",
              "      <th>total_open_amount</th>\n",
              "      <th>baseline_create_date</th>\n",
              "      <th>cust_payment_terms</th>\n",
              "      <th>invoice_id</th>\n",
              "      <th>isOpen</th>\n",
              "      <th>days_alloted</th>\n",
              "    </tr>\n",
              "  </thead>\n",
              "  <tbody>\n",
              "    <tr>\n",
              "      <th>45152</th>\n",
              "      <td>U001</td>\n",
              "      <td>0200769623</td>\n",
              "      <td>WAL-MAR corp</td>\n",
              "      <td>NaT</td>\n",
              "      <td>2020.0</td>\n",
              "      <td>1.930639e+09</td>\n",
              "      <td>2020-03-12</td>\n",
              "      <td>2020-03-12</td>\n",
              "      <td>2020-03-12</td>\n",
              "      <td>2020-03-27</td>\n",
              "      <td>USD</td>\n",
              "      <td>RV</td>\n",
              "      <td>1.0</td>\n",
              "      <td>NaN</td>\n",
              "      <td>24006.55</td>\n",
              "      <td>2020-03-12</td>\n",
              "      <td>NAH4</td>\n",
              "      <td>1.930639e+09</td>\n",
              "      <td>1</td>\n",
              "      <td>15</td>\n",
              "    </tr>\n",
              "    <tr>\n",
              "      <th>45153</th>\n",
              "      <td>U001</td>\n",
              "      <td>0200769623</td>\n",
              "      <td>WAL-MAR systems</td>\n",
              "      <td>NaT</td>\n",
              "      <td>2020.0</td>\n",
              "      <td>1.930779e+09</td>\n",
              "      <td>2020-04-14</td>\n",
              "      <td>2020-04-11</td>\n",
              "      <td>2020-04-14</td>\n",
              "      <td>2020-04-29</td>\n",
              "      <td>USD</td>\n",
              "      <td>RV</td>\n",
              "      <td>1.0</td>\n",
              "      <td>NaN</td>\n",
              "      <td>162.70</td>\n",
              "      <td>2020-04-14</td>\n",
              "      <td>NAH4</td>\n",
              "      <td>1.930779e+09</td>\n",
              "      <td>1</td>\n",
              "      <td>15</td>\n",
              "    </tr>\n",
              "    <tr>\n",
              "      <th>45154</th>\n",
              "      <td>U001</td>\n",
              "      <td>0200769623</td>\n",
              "      <td>WAL-MAR corp</td>\n",
              "      <td>NaT</td>\n",
              "      <td>2020.0</td>\n",
              "      <td>1.930729e+09</td>\n",
              "      <td>2020-04-01</td>\n",
              "      <td>2020-04-01</td>\n",
              "      <td>2020-04-01</td>\n",
              "      <td>2020-04-16</td>\n",
              "      <td>USD</td>\n",
              "      <td>RV</td>\n",
              "      <td>1.0</td>\n",
              "      <td>NaN</td>\n",
              "      <td>1898.20</td>\n",
              "      <td>2020-04-01</td>\n",
              "      <td>NAH4</td>\n",
              "      <td>1.930729e+09</td>\n",
              "      <td>1</td>\n",
              "      <td>15</td>\n",
              "    </tr>\n",
              "    <tr>\n",
              "      <th>45155</th>\n",
              "      <td>CA02</td>\n",
              "      <td>0140104440</td>\n",
              "      <td>SO associates</td>\n",
              "      <td>NaT</td>\n",
              "      <td>2020.0</td>\n",
              "      <td>2.960623e+09</td>\n",
              "      <td>2020-03-23</td>\n",
              "      <td>2020-03-23</td>\n",
              "      <td>2020-03-23</td>\n",
              "      <td>2020-04-04</td>\n",
              "      <td>CAD</td>\n",
              "      <td>RV</td>\n",
              "      <td>1.0</td>\n",
              "      <td>NaN</td>\n",
              "      <td>148211.91</td>\n",
              "      <td>2020-03-25</td>\n",
              "      <td>CA10</td>\n",
              "      <td>2.960623e+09</td>\n",
              "      <td>1</td>\n",
              "      <td>10</td>\n",
              "    </tr>\n",
              "    <tr>\n",
              "      <th>45156</th>\n",
              "      <td>U001</td>\n",
              "      <td>0200455322</td>\n",
              "      <td>PEA</td>\n",
              "      <td>NaT</td>\n",
              "      <td>2020.0</td>\n",
              "      <td>1.930684e+09</td>\n",
              "      <td>2020-03-22</td>\n",
              "      <td>2020-03-21</td>\n",
              "      <td>2020-03-22</td>\n",
              "      <td>2020-04-21</td>\n",
              "      <td>USD</td>\n",
              "      <td>RV</td>\n",
              "      <td>1.0</td>\n",
              "      <td>NaN</td>\n",
              "      <td>73228.93</td>\n",
              "      <td>2020-03-22</td>\n",
              "      <td>NAD5</td>\n",
              "      <td>1.930684e+09</td>\n",
              "      <td>1</td>\n",
              "      <td>30</td>\n",
              "    </tr>\n",
              "  </tbody>\n",
              "</table>\n",
              "</div>"
            ],
            "text/plain": [
              "      business_code cust_number  ... isOpen days_alloted\n",
              "45152          U001  0200769623  ...      1           15\n",
              "45153          U001  0200769623  ...      1           15\n",
              "45154          U001  0200769623  ...      1           15\n",
              "45155          CA02  0140104440  ...      1           10\n",
              "45156          U001  0200455322  ...      1           30\n",
              "\n",
              "[5 rows x 20 columns]"
            ]
          },
          "metadata": {
            "tags": []
          },
          "execution_count": 101
        }
      ]
    },
    {
      "cell_type": "code",
      "metadata": {
        "colab": {
          "base_uri": "https://localhost:8080/",
          "height": 202
        },
        "id": "AgCABm_d5Ezm",
        "outputId": "ea48e9eb-2595-466d-c6a4-7234b84776fa"
      },
      "source": [
        "# Doing all the processing and mapping so that we can let our model do predictions.\n",
        "df_NaN_features = df_NaN[['business_code', 'cust_number', 'invoice_currency', 'document type', 'total_open_amount', 'cust_payment_terms', 'days_alloted']].copy()\n",
        "\n",
        "df_NaN_features['business_code'] = df_NaN_features['business_code'].map(mapper0)\n",
        "df_NaN_features['business_code'] = df_NaN_features['business_code'].replace(np.nan, 6)\n",
        "\n",
        "df_NaN_features['cust_number'] = df_NaN_features['cust_number'].map(mapper1)\n",
        "df_NaN_features['cust_number'] = df_NaN_features['cust_number'].replace(np.nan, 0)\n",
        "\n",
        "df_NaN_features['invoice_currency'] = le.transform(df_NaN_features['invoice_currency'])\n",
        "\n",
        "df_NaN_features.drop(['document type'], axis=1, inplace=True)\n",
        "\n",
        "df_NaN_features['total_open_amount'] = df_NaN_features['total_open_amount'].astype(float)\n",
        "\n",
        "df_NaN_features['cust_payment_terms'] = df_NaN_features['cust_payment_terms'].map(mapper5)\n",
        "df_NaN_features['cust_payment_terms'] = df_NaN_features['cust_payment_terms'].replace(np.nan, 3)\n",
        "\n",
        "df_NaN_features['days_alloted'] = df_NaN_features['days_alloted'].astype(int)\n",
        "\n",
        "df_NaN_features['target_encoded1'] = df_NaN_features['cust_number'].map(target_mapper1)\n",
        "df_NaN_features['target_encoded1'] = df_NaN_features['target_encoded1'].replace(np.nan, mean)\n",
        "\n",
        "df_NaN_features = scaler.transform(df_NaN_features)\n",
        "col_name = ['business_code', 'cust_number', 'invoice_currency', 'total_open_amount', 'cust_payment_terms', 'days_alloted', 'target_encoded1']\n",
        "\n",
        "df_NaN_features = pd.DataFrame(df_NaN_features)\n",
        "df_NaN_features.columns = col_name\n",
        "df_NaN_features.drop(['invoice_currency', 'business_code', 'cust_payment_terms'], axis=1, inplace=True)\n",
        "\n",
        "df_NaN_features.head()"
      ],
      "execution_count": 102,
      "outputs": [
        {
          "output_type": "execute_result",
          "data": {
            "text/html": [
              "<div>\n",
              "<style scoped>\n",
              "    .dataframe tbody tr th:only-of-type {\n",
              "        vertical-align: middle;\n",
              "    }\n",
              "\n",
              "    .dataframe tbody tr th {\n",
              "        vertical-align: top;\n",
              "    }\n",
              "\n",
              "    .dataframe thead th {\n",
              "        text-align: right;\n",
              "    }\n",
              "</style>\n",
              "<table border=\"1\" class=\"dataframe\">\n",
              "  <thead>\n",
              "    <tr style=\"text-align: right;\">\n",
              "      <th></th>\n",
              "      <th>cust_number</th>\n",
              "      <th>total_open_amount</th>\n",
              "      <th>days_alloted</th>\n",
              "      <th>target_encoded1</th>\n",
              "    </tr>\n",
              "  </thead>\n",
              "  <tbody>\n",
              "    <tr>\n",
              "      <th>0</th>\n",
              "      <td>0.250987</td>\n",
              "      <td>-0.243988</td>\n",
              "      <td>-0.247909</td>\n",
              "      <td>-0.486867</td>\n",
              "    </tr>\n",
              "    <tr>\n",
              "      <th>1</th>\n",
              "      <td>0.250987</td>\n",
              "      <td>-0.780643</td>\n",
              "      <td>-0.247909</td>\n",
              "      <td>-0.486867</td>\n",
              "    </tr>\n",
              "    <tr>\n",
              "      <th>2</th>\n",
              "      <td>0.250987</td>\n",
              "      <td>-0.741582</td>\n",
              "      <td>-0.247909</td>\n",
              "      <td>-0.486867</td>\n",
              "    </tr>\n",
              "    <tr>\n",
              "      <th>3</th>\n",
              "      <td>-1.650509</td>\n",
              "      <td>2.551508</td>\n",
              "      <td>-0.715496</td>\n",
              "      <td>0.944510</td>\n",
              "    </tr>\n",
              "    <tr>\n",
              "      <th>4</th>\n",
              "      <td>-0.784318</td>\n",
              "      <td>0.863863</td>\n",
              "      <td>1.154852</td>\n",
              "      <td>1.237547</td>\n",
              "    </tr>\n",
              "  </tbody>\n",
              "</table>\n",
              "</div>"
            ],
            "text/plain": [
              "   cust_number  total_open_amount  days_alloted  target_encoded1\n",
              "0     0.250987          -0.243988     -0.247909        -0.486867\n",
              "1     0.250987          -0.780643     -0.247909        -0.486867\n",
              "2     0.250987          -0.741582     -0.247909        -0.486867\n",
              "3    -1.650509           2.551508     -0.715496         0.944510\n",
              "4    -0.784318           0.863863      1.154852         1.237547"
            ]
          },
          "metadata": {
            "tags": []
          },
          "execution_count": 102
        }
      ]
    },
    {
      "cell_type": "code",
      "metadata": {
        "colab": {
          "base_uri": "https://localhost:8080/",
          "height": 410
        },
        "id": "RiwBcBXn6Pbw",
        "outputId": "1965e966-12fe-4340-ea03-4053cc1b596e"
      },
      "source": [
        "# Finally obtaining predictions and storing the clear_date in clear_date column and created delay column and aging_bucket column.\n",
        "from datetime import timedelta\n",
        "\n",
        "df_NaN_features = np.array(df_NaN_features)\n",
        "prediction = model.predict(df_NaN_features)\n",
        "prediction = np.round_(prediction)\n",
        "df_NaN['delay'] = prediction\n",
        "\n",
        "delay = []\n",
        "for i in df_NaN['delay']:\n",
        "  delay.append(result_mapper[i])\n",
        "df_NaN['aging_bucket'] = delay\n",
        "\n",
        "df_NaN['delay'] = df_NaN['delay'].astype(int)\n",
        "\n",
        "clear_date = []\n",
        "for i,j in zip(df_NaN['document_create_date.1'], df_NaN['delay']):\n",
        "  clear_date.append(i + timedelta(days= j))\n",
        "\n",
        "df_NaN['clear_date'] = clear_date\n",
        "df_NaN.head(10)"
      ],
      "execution_count": 103,
      "outputs": [
        {
          "output_type": "execute_result",
          "data": {
            "text/html": [
              "<div>\n",
              "<style scoped>\n",
              "    .dataframe tbody tr th:only-of-type {\n",
              "        vertical-align: middle;\n",
              "    }\n",
              "\n",
              "    .dataframe tbody tr th {\n",
              "        vertical-align: top;\n",
              "    }\n",
              "\n",
              "    .dataframe thead th {\n",
              "        text-align: right;\n",
              "    }\n",
              "</style>\n",
              "<table border=\"1\" class=\"dataframe\">\n",
              "  <thead>\n",
              "    <tr style=\"text-align: right;\">\n",
              "      <th></th>\n",
              "      <th>business_code</th>\n",
              "      <th>cust_number</th>\n",
              "      <th>name_customer</th>\n",
              "      <th>clear_date</th>\n",
              "      <th>buisness_year</th>\n",
              "      <th>doc_id</th>\n",
              "      <th>posting_date</th>\n",
              "      <th>document_create_date</th>\n",
              "      <th>document_create_date.1</th>\n",
              "      <th>due_in_date</th>\n",
              "      <th>invoice_currency</th>\n",
              "      <th>document type</th>\n",
              "      <th>posting_id</th>\n",
              "      <th>area_business</th>\n",
              "      <th>total_open_amount</th>\n",
              "      <th>baseline_create_date</th>\n",
              "      <th>cust_payment_terms</th>\n",
              "      <th>invoice_id</th>\n",
              "      <th>isOpen</th>\n",
              "      <th>days_alloted</th>\n",
              "      <th>delay</th>\n",
              "      <th>aging_bucket</th>\n",
              "    </tr>\n",
              "  </thead>\n",
              "  <tbody>\n",
              "    <tr>\n",
              "      <th>45152</th>\n",
              "      <td>U001</td>\n",
              "      <td>0200769623</td>\n",
              "      <td>WAL-MAR corp</td>\n",
              "      <td>2020-03-10</td>\n",
              "      <td>2020.0</td>\n",
              "      <td>1.930639e+09</td>\n",
              "      <td>2020-03-12</td>\n",
              "      <td>2020-03-12</td>\n",
              "      <td>2020-03-12</td>\n",
              "      <td>2020-03-27</td>\n",
              "      <td>USD</td>\n",
              "      <td>RV</td>\n",
              "      <td>1.0</td>\n",
              "      <td>NaN</td>\n",
              "      <td>24006.550</td>\n",
              "      <td>2020-03-12</td>\n",
              "      <td>NAH4</td>\n",
              "      <td>1.930639e+09</td>\n",
              "      <td>1</td>\n",
              "      <td>15</td>\n",
              "      <td>-2</td>\n",
              "      <td>0-15 days</td>\n",
              "    </tr>\n",
              "    <tr>\n",
              "      <th>45153</th>\n",
              "      <td>U001</td>\n",
              "      <td>0200769623</td>\n",
              "      <td>WAL-MAR systems</td>\n",
              "      <td>2020-04-15</td>\n",
              "      <td>2020.0</td>\n",
              "      <td>1.930779e+09</td>\n",
              "      <td>2020-04-14</td>\n",
              "      <td>2020-04-11</td>\n",
              "      <td>2020-04-14</td>\n",
              "      <td>2020-04-29</td>\n",
              "      <td>USD</td>\n",
              "      <td>RV</td>\n",
              "      <td>1.0</td>\n",
              "      <td>NaN</td>\n",
              "      <td>162.700</td>\n",
              "      <td>2020-04-14</td>\n",
              "      <td>NAH4</td>\n",
              "      <td>1.930779e+09</td>\n",
              "      <td>1</td>\n",
              "      <td>15</td>\n",
              "      <td>1</td>\n",
              "      <td>0-15 days</td>\n",
              "    </tr>\n",
              "    <tr>\n",
              "      <th>45154</th>\n",
              "      <td>U001</td>\n",
              "      <td>0200769623</td>\n",
              "      <td>WAL-MAR corp</td>\n",
              "      <td>2020-03-30</td>\n",
              "      <td>2020.0</td>\n",
              "      <td>1.930729e+09</td>\n",
              "      <td>2020-04-01</td>\n",
              "      <td>2020-04-01</td>\n",
              "      <td>2020-04-01</td>\n",
              "      <td>2020-04-16</td>\n",
              "      <td>USD</td>\n",
              "      <td>RV</td>\n",
              "      <td>1.0</td>\n",
              "      <td>NaN</td>\n",
              "      <td>1898.200</td>\n",
              "      <td>2020-04-01</td>\n",
              "      <td>NAH4</td>\n",
              "      <td>1.930729e+09</td>\n",
              "      <td>1</td>\n",
              "      <td>15</td>\n",
              "      <td>-2</td>\n",
              "      <td>0-15 days</td>\n",
              "    </tr>\n",
              "    <tr>\n",
              "      <th>45155</th>\n",
              "      <td>CA02</td>\n",
              "      <td>0140104440</td>\n",
              "      <td>SO associates</td>\n",
              "      <td>2020-03-28</td>\n",
              "      <td>2020.0</td>\n",
              "      <td>2.960623e+09</td>\n",
              "      <td>2020-03-23</td>\n",
              "      <td>2020-03-23</td>\n",
              "      <td>2020-03-23</td>\n",
              "      <td>2020-04-04</td>\n",
              "      <td>CAD</td>\n",
              "      <td>RV</td>\n",
              "      <td>1.0</td>\n",
              "      <td>NaN</td>\n",
              "      <td>148211.910</td>\n",
              "      <td>2020-03-25</td>\n",
              "      <td>CA10</td>\n",
              "      <td>2.960623e+09</td>\n",
              "      <td>1</td>\n",
              "      <td>10</td>\n",
              "      <td>5</td>\n",
              "      <td>0-15 days</td>\n",
              "    </tr>\n",
              "    <tr>\n",
              "      <th>45156</th>\n",
              "      <td>U001</td>\n",
              "      <td>0200455322</td>\n",
              "      <td>PEA</td>\n",
              "      <td>2020-03-30</td>\n",
              "      <td>2020.0</td>\n",
              "      <td>1.930684e+09</td>\n",
              "      <td>2020-03-22</td>\n",
              "      <td>2020-03-21</td>\n",
              "      <td>2020-03-22</td>\n",
              "      <td>2020-04-21</td>\n",
              "      <td>USD</td>\n",
              "      <td>RV</td>\n",
              "      <td>1.0</td>\n",
              "      <td>NaN</td>\n",
              "      <td>73228.930</td>\n",
              "      <td>2020-03-22</td>\n",
              "      <td>NAD5</td>\n",
              "      <td>1.930684e+09</td>\n",
              "      <td>1</td>\n",
              "      <td>30</td>\n",
              "      <td>8</td>\n",
              "      <td>0-15 days</td>\n",
              "    </tr>\n",
              "    <tr>\n",
              "      <th>45157</th>\n",
              "      <td>U001</td>\n",
              "      <td>0200418007</td>\n",
              "      <td>AM us</td>\n",
              "      <td>2020-04-16</td>\n",
              "      <td>2020.0</td>\n",
              "      <td>1.930769e+09</td>\n",
              "      <td>2020-04-14</td>\n",
              "      <td>2020-04-09</td>\n",
              "      <td>2020-04-14</td>\n",
              "      <td>2020-04-29</td>\n",
              "      <td>USD</td>\n",
              "      <td>RV</td>\n",
              "      <td>1.0</td>\n",
              "      <td>NaN</td>\n",
              "      <td>1195.600</td>\n",
              "      <td>2020-04-14</td>\n",
              "      <td>NAA8</td>\n",
              "      <td>1.930769e+09</td>\n",
              "      <td>1</td>\n",
              "      <td>15</td>\n",
              "      <td>2</td>\n",
              "      <td>0-15 days</td>\n",
              "    </tr>\n",
              "    <tr>\n",
              "      <th>45158</th>\n",
              "      <td>CA02</td>\n",
              "      <td>0140106408</td>\n",
              "      <td>WAL-M trust</td>\n",
              "      <td>2020-03-29</td>\n",
              "      <td>2020.0</td>\n",
              "      <td>2.960623e+09</td>\n",
              "      <td>2020-03-21</td>\n",
              "      <td>2020-03-21</td>\n",
              "      <td>2020-03-21</td>\n",
              "      <td>2020-03-31</td>\n",
              "      <td>CAD</td>\n",
              "      <td>RV</td>\n",
              "      <td>1.0</td>\n",
              "      <td>NaN</td>\n",
              "      <td>125160.273</td>\n",
              "      <td>2020-03-21</td>\n",
              "      <td>CA10</td>\n",
              "      <td>2.960623e+09</td>\n",
              "      <td>1</td>\n",
              "      <td>10</td>\n",
              "      <td>8</td>\n",
              "      <td>0-15 days</td>\n",
              "    </tr>\n",
              "    <tr>\n",
              "      <th>45159</th>\n",
              "      <td>U001</td>\n",
              "      <td>0200704045</td>\n",
              "      <td>RA trust</td>\n",
              "      <td>2020-04-16</td>\n",
              "      <td>2020.0</td>\n",
              "      <td>1.930794e+09</td>\n",
              "      <td>2020-04-15</td>\n",
              "      <td>2020-04-16</td>\n",
              "      <td>2020-04-15</td>\n",
              "      <td>2020-04-30</td>\n",
              "      <td>USD</td>\n",
              "      <td>RV</td>\n",
              "      <td>1.0</td>\n",
              "      <td>NaN</td>\n",
              "      <td>12738.640</td>\n",
              "      <td>2020-04-15</td>\n",
              "      <td>NAA8</td>\n",
              "      <td>1.930794e+09</td>\n",
              "      <td>1</td>\n",
              "      <td>15</td>\n",
              "      <td>1</td>\n",
              "      <td>0-15 days</td>\n",
              "    </tr>\n",
              "    <tr>\n",
              "      <th>45160</th>\n",
              "      <td>U001</td>\n",
              "      <td>0200769623</td>\n",
              "      <td>WAL-MAR us</td>\n",
              "      <td>2020-04-02</td>\n",
              "      <td>2020.0</td>\n",
              "      <td>1.930752e+09</td>\n",
              "      <td>2020-04-05</td>\n",
              "      <td>2020-04-06</td>\n",
              "      <td>2020-04-05</td>\n",
              "      <td>2020-04-20</td>\n",
              "      <td>USD</td>\n",
              "      <td>RV</td>\n",
              "      <td>1.0</td>\n",
              "      <td>NaN</td>\n",
              "      <td>33118.930</td>\n",
              "      <td>2020-04-05</td>\n",
              "      <td>NAH4</td>\n",
              "      <td>1.930752e+09</td>\n",
              "      <td>1</td>\n",
              "      <td>15</td>\n",
              "      <td>-3</td>\n",
              "      <td>0-15 days</td>\n",
              "    </tr>\n",
              "    <tr>\n",
              "      <th>45161</th>\n",
              "      <td>U001</td>\n",
              "      <td>0200759878</td>\n",
              "      <td>SA in</td>\n",
              "      <td>2020-03-14</td>\n",
              "      <td>2020.0</td>\n",
              "      <td>1.930638e+09</td>\n",
              "      <td>2020-03-12</td>\n",
              "      <td>2020-03-11</td>\n",
              "      <td>2020-03-12</td>\n",
              "      <td>2020-03-27</td>\n",
              "      <td>USD</td>\n",
              "      <td>RV</td>\n",
              "      <td>1.0</td>\n",
              "      <td>NaN</td>\n",
              "      <td>15501.580</td>\n",
              "      <td>2020-03-12</td>\n",
              "      <td>NAH4</td>\n",
              "      <td>1.930638e+09</td>\n",
              "      <td>1</td>\n",
              "      <td>15</td>\n",
              "      <td>2</td>\n",
              "      <td>0-15 days</td>\n",
              "    </tr>\n",
              "  </tbody>\n",
              "</table>\n",
              "</div>"
            ],
            "text/plain": [
              "      business_code cust_number  ... delay aging_bucket\n",
              "45152          U001  0200769623  ...    -2    0-15 days\n",
              "45153          U001  0200769623  ...     1    0-15 days\n",
              "45154          U001  0200769623  ...    -2    0-15 days\n",
              "45155          CA02  0140104440  ...     5    0-15 days\n",
              "45156          U001  0200455322  ...     8    0-15 days\n",
              "45157          U001  0200418007  ...     2    0-15 days\n",
              "45158          CA02  0140106408  ...     8    0-15 days\n",
              "45159          U001  0200704045  ...     1    0-15 days\n",
              "45160          U001  0200769623  ...    -3    0-15 days\n",
              "45161          U001  0200759878  ...     2    0-15 days\n",
              "\n",
              "[10 rows x 22 columns]"
            ]
          },
          "metadata": {
            "tags": []
          },
          "execution_count": 103
        }
      ]
    },
    {
      "cell_type": "markdown",
      "metadata": {
        "id": "HvEUdmL9YV5b"
      },
      "source": [
        "## As we can see that earlier our clear_date columns had null values and now it has predicted values. The delay and aging_bucket column is added towards end, please scroll you will find it."
      ]
    }
  ]
}