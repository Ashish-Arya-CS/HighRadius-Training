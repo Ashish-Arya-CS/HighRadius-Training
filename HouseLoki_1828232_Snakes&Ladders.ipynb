{
 "cells": [
  {
   "cell_type": "markdown",
   "metadata": {},
   "source": [
    "#                                               Snakes And Ladders Game\n",
    "####                                                      - Ashish Arya\n",
    "####                                                      - 1828232\n",
    "####                                                      - House Loki\n",
    "\n",
    "# What I have done in this assignment\n",
    "- In this Assignment I have created a snakes and ladders game. I have stated the rules of the game which is in accordance with the  points stated in the assignment document. I have tried to cover all the corner test cases. While the running the code I have       sometimes tried to enter the wrong commands to check the test cases and to check whether the programming is running fine. For     example when asked for a choice to roll dice or to manually eneter a number. First two times I intentionally wrote the wrong   spellings of \"roll\" and \"manual\".\n",
    "- I have tried to make the code as readable as possible by using mneumonics , comments and Functions."
   ]
  },
  {
   "cell_type": "code",
   "execution_count": 2,
   "metadata": {
    "execution": {
     "iopub.execute_input": "2021-01-13T06:45:32.604540Z",
     "iopub.status.busy": "2021-01-13T06:45:32.604318Z",
     "iopub.status.idle": "2021-01-13T06:49:43.253815Z",
     "shell.execute_reply": "2021-01-13T06:49:43.253114Z",
     "shell.execute_reply.started": "2021-01-13T06:45:32.604519Z"
    }
   },
   "outputs": [
    {
     "name": "stdout",
     "output_type": "stream",
     "text": [
      "###### Welcome to Snakes & Ladders Game ######\n"
     ]
    },
    {
     "name": "stdin",
     "output_type": "stream",
     "text": [
      "Enter the name of Player 1:  Ash\n",
      "Enter the name of player 2:  Gin\n"
     ]
    },
    {
     "name": "stdout",
     "output_type": "stream",
     "text": [
      "\n",
      "    Rules:\n",
      "      1. Each player starts from position 0 and the player which reaches position 100 first wins the game.\n",
      "      2. The game has two modes Auto Mode and Manual Mode.\n",
      "      3. Each time both the players will be given a choice to either go for auto mode or manual mode.\n",
      "      4. If a player wants to go for auto mode then when asked for choice enter \"roll\" as it is without quotes.\n",
      "      5. If a player wants to go for manual mode then when asked for choice enter \"manual\" as it is without quotes.\n",
      "    \n",
      "###### Let us Start ######\n"
     ]
    },
    {
     "name": "stdin",
     "output_type": "stream",
     "text": [
      "Ash enter your choice:  rill\n"
     ]
    },
    {
     "name": "stdout",
     "output_type": "stream",
     "text": [
      "You entered a wrong choice. See point 4 and 5 in Rules.\n"
     ]
    },
    {
     "name": "stdin",
     "output_type": "stream",
     "text": [
      "Ash enter your choice:  manul\n"
     ]
    },
    {
     "name": "stdout",
     "output_type": "stream",
     "text": [
      "You entered a wrong choice. See point 4 and 5 in Rules.\n"
     ]
    },
    {
     "name": "stdin",
     "output_type": "stream",
     "text": [
      "Ash enter your choice:  roll\n"
     ]
    },
    {
     "name": "stdout",
     "output_type": "stream",
     "text": [
      "You got a  2\n",
      "Ash has a final positon:  2\n"
     ]
    },
    {
     "name": "stdin",
     "output_type": "stream",
     "text": [
      "Gin enter your choice:  manual\n",
      "Enter a valid number between 1 and 20:  3\n"
     ]
    },
    {
     "name": "stdout",
     "output_type": "stream",
     "text": [
      "Gin got a ladder 😄. Your final position:  38\n"
     ]
    },
    {
     "name": "stdin",
     "output_type": "stream",
     "text": [
      "Ash enter your choice:  manual\n",
      "Enter a valid number between 1 and 20:  15\n"
     ]
    },
    {
     "name": "stdout",
     "output_type": "stream",
     "text": [
      "Ash was bit by a snake 😔. Your final position:  7\n"
     ]
    },
    {
     "name": "stdin",
     "output_type": "stream",
     "text": [
      "Gin enter your choice:  roll\n"
     ]
    },
    {
     "name": "stdout",
     "output_type": "stream",
     "text": [
      "You got a  1\n",
      "Gin has a final positon:  39\n"
     ]
    },
    {
     "name": "stdin",
     "output_type": "stream",
     "text": [
      "Ash enter your choice:  roll\n"
     ]
    },
    {
     "name": "stdout",
     "output_type": "stream",
     "text": [
      "You got a  6\n",
      "Ash has a final positon:  13\n"
     ]
    },
    {
     "name": "stdin",
     "output_type": "stream",
     "text": [
      "Gin enter your choice:  manual\n",
      "Enter a valid number between 1 and 20:  30\n"
     ]
    },
    {
     "name": "stdout",
     "output_type": "stream",
     "text": [
      "You entered an invalid number \n",
      "\n"
     ]
    },
    {
     "name": "stdin",
     "output_type": "stream",
     "text": [
      "Enter a valid number between 1 and 20:  20\n"
     ]
    },
    {
     "name": "stdout",
     "output_type": "stream",
     "text": [
      "Gin has a final positon:  59\n"
     ]
    },
    {
     "name": "stdin",
     "output_type": "stream",
     "text": [
      "Ash enter your choice:  roll\n"
     ]
    },
    {
     "name": "stdout",
     "output_type": "stream",
     "text": [
      "You got a  3\n",
      "Ash has a final positon:  16\n"
     ]
    },
    {
     "name": "stdin",
     "output_type": "stream",
     "text": [
      "Gin enter your choice:  roll\n"
     ]
    },
    {
     "name": "stdout",
     "output_type": "stream",
     "text": [
      "You got a  1\n",
      "Gin has a final positon:  60\n"
     ]
    },
    {
     "name": "stdin",
     "output_type": "stream",
     "text": [
      "Ash enter your choice:  manual\n",
      "Enter a valid number between 1 and 20:  20\n"
     ]
    },
    {
     "name": "stdout",
     "output_type": "stream",
     "text": [
      "Ash has a final positon:  36\n"
     ]
    },
    {
     "name": "stdin",
     "output_type": "stream",
     "text": [
      "Gin enter your choice:  manual\n",
      "Enter a valid number between 1 and 20:  12\n"
     ]
    },
    {
     "name": "stdout",
     "output_type": "stream",
     "text": [
      "Gin got a ladder 😄. Your final position:  84\n"
     ]
    },
    {
     "name": "stdin",
     "output_type": "stream",
     "text": [
      "Ash enter your choice:  manual\n",
      "Enter a valid number between 1 and 20:  20\n"
     ]
    },
    {
     "name": "stdout",
     "output_type": "stream",
     "text": [
      "Ash has a final positon:  56\n"
     ]
    },
    {
     "name": "stdin",
     "output_type": "stream",
     "text": [
      "Gin enter your choice:  manual\n",
      "Enter a valid number between 1 and 20:  11\n"
     ]
    },
    {
     "name": "stdout",
     "output_type": "stream",
     "text": [
      "Gin has a final positon:  95\n"
     ]
    },
    {
     "name": "stdin",
     "output_type": "stream",
     "text": [
      "Ash enter your choice:  manual\n",
      "Enter a valid number between 1 and 20:  20\n"
     ]
    },
    {
     "name": "stdout",
     "output_type": "stream",
     "text": [
      "Ash has a final positon:  76\n"
     ]
    },
    {
     "name": "stdin",
     "output_type": "stream",
     "text": [
      "Gin enter your choice:  manual\n",
      "Enter a valid number between 1 and 20:  15\n"
     ]
    },
    {
     "name": "stdout",
     "output_type": "stream",
     "text": [
      "Ah! your position got ahead of 100. Wait for your next turn\n",
      "Gin has a final positon:  95\n"
     ]
    },
    {
     "name": "stdin",
     "output_type": "stream",
     "text": [
      "Ash enter your choice:  roll\n"
     ]
    },
    {
     "name": "stdout",
     "output_type": "stream",
     "text": [
      "You got a  1\n",
      "Ash has a final positon:  77\n"
     ]
    },
    {
     "name": "stdin",
     "output_type": "stream",
     "text": [
      "Gin enter your choice:  roll\n"
     ]
    },
    {
     "name": "stdout",
     "output_type": "stream",
     "text": [
      "You got a  6\n",
      "Ah! your position got ahead of 100. Wait for your next turn\n",
      "Gin has a final positon:  95\n"
     ]
    },
    {
     "name": "stdin",
     "output_type": "stream",
     "text": [
      "Ash enter your choice:  manual\n",
      "Enter a valid number between 1 and 20:  20\n"
     ]
    },
    {
     "name": "stdout",
     "output_type": "stream",
     "text": [
      "Ash has a final positon:  97\n"
     ]
    },
    {
     "name": "stdin",
     "output_type": "stream",
     "text": [
      "Gin enter your choice:  manual\n",
      "Enter a valid number between 1 and 20:  5\n"
     ]
    },
    {
     "name": "stdout",
     "output_type": "stream",
     "text": [
      "Gin has a final positon:  100\n",
      "Gin won the game.\n",
      "###### Game Successfully Finished ######\n"
     ]
    }
   ],
   "source": [
    "import random\n",
    "\n",
    "snakes = {17 : 7, 54 : 34, 62 : 19, 98 : 79}\n",
    "ladders = {3 : 38, 24 : 33, 42 : 93, 72 : 84}\n",
    "valid_mode = ['roll', 'manual']\n",
    "\n",
    "# Function to print welcome message\n",
    "def welcome_msg():\n",
    "    msg = \"\"\"\n",
    "    Rules:\n",
    "      1. Each player starts from position 0 and the player which reaches position 100 first wins the game.\n",
    "      2. The game has two modes Auto Mode and Manual Mode.\n",
    "      3. Each time both the players will be given a choice to either go for auto mode or manual mode.\n",
    "      4. If a player wants to go for auto mode then when asked for choice enter \"roll\" as it is without quotes.\n",
    "      5. If a player wants to go for manual mode then when asked for choice enter \"manual\" as it is without quotes.\n",
    "    \"\"\"  \n",
    "\n",
    "    print(\"###### Welcome to Snakes & Ladders Game ######\")\n",
    "    player1 = input(\"Enter the name of Player 1: \").strip()\n",
    "    player2 = input(\"Enter the name of player 2: \").strip()\n",
    "    print(msg)\n",
    "    print(\"###### Let us Start ######\")\n",
    "    return player1, player2\n",
    "\n",
    "# Function to roll the dice.\n",
    "def roll():\n",
    "    dice = random.randint(1, 6)\n",
    "    print(\"You got a \", dice)\n",
    "    return dice\n",
    "\n",
    "# Function to accept manual input from the user.\n",
    "def manual():\n",
    "    while True:\n",
    "        value = int(input(\"Enter a valid number between 1 and 20: \"))\n",
    "        if (value >= 1 and value <= 20 ):\n",
    "            return value\n",
    "        else:\n",
    "            print(\"You entered an invalid number \\n\")\n",
    "\n",
    "# Function to check whether the position exceeds 100 or not and is a valid position or not.\n",
    "def IsValid(position, dice):\n",
    "    if ((position+dice) > 100):\n",
    "        print(\"Ah! your position got ahead of 100. Wait for your next turn\")\n",
    "        return position\n",
    "    else:\n",
    "        return (position+dice)\n",
    "\n",
    "# Function to check whether the player gets a sanke or ladder.    \n",
    "def CheckIf(player_name, position):\n",
    "    if position in snakes:\n",
    "        final_pos = snakes.get(position)\n",
    "        print(player_name + \" was bit by a snake 😔. Your final position: \", final_pos)\n",
    "\n",
    "    elif position in ladders:\n",
    "        final_pos = ladders.get(position)\n",
    "        print(player_name + \" got a ladder 😄. Your final position: \", final_pos)\n",
    "\n",
    "    else:\n",
    "        final_pos = position\n",
    "        print(player_name + \" has a final positon: \", position)\n",
    "    \n",
    "    return final_pos    \n",
    "\n",
    "# Function which we will running to run the game\n",
    "def game():\n",
    "    player1, player2 = welcome_msg()\n",
    "    p1 = 0\n",
    "    p2 = 0\n",
    "    while True:\n",
    "        flag = 0\n",
    "        while flag != 1:\n",
    "            mode = input(player1+\" enter your choice: \").strip()\n",
    "            if mode in valid_mode:\n",
    "                flag = 1\n",
    "            else:\n",
    "                print(\"You entered a wrong choice. See point 4 and 5 in Rules.\")\n",
    "        if mode == \"roll\":\n",
    "            dice = roll()\n",
    "            p1 = IsValid(p1, dice)\n",
    "            p1 = CheckIf(player1, p1)\n",
    "        if mode == \"manual\":\n",
    "            dice = manual()\n",
    "            p1 = IsValid(p1, dice)\n",
    "            p1 = CheckIf(player1, p1)\n",
    "        if p1 == 100:\n",
    "            print(player1+\" won the game.\")\n",
    "            print(\"###### Game Successfully Finished ######\")\n",
    "            break\n",
    "        \n",
    "        flag = 0\n",
    "        while flag != 1:\n",
    "            mode = input(player2+\" enter your choice: \").strip()\n",
    "            if mode in valid_mode:\n",
    "                flag = 1\n",
    "            else:\n",
    "                print(\"You entered a wrong choice. See point 4 and 5 in Rules.\")\n",
    "        if mode == \"roll\":\n",
    "            dice = roll()\n",
    "            p2 = IsValid(p2, dice)\n",
    "            p2 = CheckIf(player2, p2)\n",
    "        if mode == \"manual\":\n",
    "            dice = manual()\n",
    "            p2 = IsValid(p2, dice)\n",
    "            p2 = CheckIf(player2, p2)\n",
    "        if p2 == 100:\n",
    "            print(player2+\" won the game.🥳🥳\")\n",
    "            print(\"###### Game Successfully Finished ######\")\n",
    "            break\n",
    "            \n",
    "# Main Function\n",
    "if __name__ == \"__main__\":\n",
    "       game()    \n",
    "    "
   ]
  }
 ],
 "metadata": {
  "kernelspec": {
   "display_name": "Python 3",
   "language": "python",
   "name": "python3"
  },
  "language_info": {
   "codemirror_mode": {
    "name": "ipython",
    "version": 3
   },
   "file_extension": ".py",
   "mimetype": "text/x-python",
   "name": "python",
   "nbconvert_exporter": "python",
   "pygments_lexer": "ipython3",
   "version": "3.7.3"
  }
 },
 "nbformat": 4,
 "nbformat_minor": 4
}
